{
 "cells": [
  {
   "cell_type": "markdown",
   "metadata": {},
   "source": [
    "# Progetto Architetture Dati"
   ]
  },
  {
   "cell_type": "code",
   "execution_count": 217,
   "metadata": {},
   "outputs": [],
   "source": [
    "import pandas as pd\n",
    "import numpy as np\n",
    "import math"
   ]
  },
  {
   "cell_type": "code",
   "execution_count": 218,
   "metadata": {},
   "outputs": [],
   "source": [
    "with open('book.txt') as f:\n",
    "    lines = f.readlines()"
   ]
  },
  {
   "cell_type": "code",
   "execution_count": 219,
   "metadata": {},
   "outputs": [
    {
     "data": {
      "text/plain": [
       "'Indoo.com\\t0201853949\\tArt of Computer Programming, Volume 4, Fascicle 3, The: Generating All Combinations and Partitions\\tKnuth, Donald E.\\n'"
      ]
     },
     "execution_count": 219,
     "metadata": {},
     "output_type": "execute_result"
    }
   ],
   "source": [
    "lines[1]"
   ]
  },
  {
   "cell_type": "code",
   "execution_count": 220,
   "metadata": {},
   "outputs": [],
   "source": [
    "book_dataset = pd.read_csv('book.txt', sep='\\t', names=['Website', 'ISBN', 'Title', 'Author'], header=None, na_values=\"NaN\", dtype=str)"
   ]
  },
  {
   "cell_type": "code",
   "execution_count": 221,
   "metadata": {},
   "outputs": [
    {
     "data": {
      "text/html": [
       "<div>\n",
       "<style scoped>\n",
       "    .dataframe tbody tr th:only-of-type {\n",
       "        vertical-align: middle;\n",
       "    }\n",
       "\n",
       "    .dataframe tbody tr th {\n",
       "        vertical-align: top;\n",
       "    }\n",
       "\n",
       "    .dataframe thead th {\n",
       "        text-align: right;\n",
       "    }\n",
       "</style>\n",
       "<table border=\"1\" class=\"dataframe\">\n",
       "  <thead>\n",
       "    <tr style=\"text-align: right;\">\n",
       "      <th></th>\n",
       "      <th>Website</th>\n",
       "      <th>ISBN</th>\n",
       "      <th>Title</th>\n",
       "      <th>Author</th>\n",
       "    </tr>\n",
       "  </thead>\n",
       "  <tbody>\n",
       "    <tr>\n",
       "      <td>0</td>\n",
       "      <td>eCampus.com</td>\n",
       "      <td>0201853949</td>\n",
       "      <td>The art Of Computer Programming, Fascicle 3: G...</td>\n",
       "      <td>Not Available</td>\n",
       "    </tr>\n",
       "    <tr>\n",
       "      <td>1</td>\n",
       "      <td>Indoo.com</td>\n",
       "      <td>0201853949</td>\n",
       "      <td>Art of Computer Programming, Volume 4, Fascicl...</td>\n",
       "      <td>Knuth, Donald E.</td>\n",
       "    </tr>\n",
       "    <tr>\n",
       "      <td>2</td>\n",
       "      <td>textbookxdotcom</td>\n",
       "      <td>0201853949</td>\n",
       "      <td>The 'art Of Computer Programming, Fascicle 3 G...</td>\n",
       "      <td>NaN</td>\n",
       "    </tr>\n",
       "    <tr>\n",
       "      <td>3</td>\n",
       "      <td>A1Books</td>\n",
       "      <td>0201853949</td>\n",
       "      <td>The Art of Computer Programming, Volume 4, Fas...</td>\n",
       "      <td>Knuth, Donald E.</td>\n",
       "    </tr>\n",
       "    <tr>\n",
       "      <td>4</td>\n",
       "      <td>textbooksNow</td>\n",
       "      <td>0201853949</td>\n",
       "      <td>Art of Computer Programming</td>\n",
       "      <td>Knuth</td>\n",
       "    </tr>\n",
       "    <tr>\n",
       "      <td>...</td>\n",
       "      <td>...</td>\n",
       "      <td>...</td>\n",
       "      <td>...</td>\n",
       "      <td>...</td>\n",
       "    </tr>\n",
       "    <tr>\n",
       "      <td>33966</td>\n",
       "      <td>www.textbooksrus.com</td>\n",
       "      <td>0138569231</td>\n",
       "      <td>Multimedia Communications: Protocols and Appli...</td>\n",
       "      <td>Franklin F. Kuo|Wolfgang Effelsberg|J. J. Garc...</td>\n",
       "    </tr>\n",
       "    <tr>\n",
       "      <td>33967</td>\n",
       "      <td>OPOE-ABE Books</td>\n",
       "      <td>0138569231</td>\n",
       "      <td>MULTIMEDIA COMMUNICATIONS</td>\n",
       "      <td>KUO</td>\n",
       "    </tr>\n",
       "    <tr>\n",
       "      <td>33968</td>\n",
       "      <td>textbookxdotcom</td>\n",
       "      <td>0138569231</td>\n",
       "      <td>Multimedia Communications Protocols and Applic...</td>\n",
       "      <td>Wolfgang Effelsberg</td>\n",
       "    </tr>\n",
       "    <tr>\n",
       "      <td>33969</td>\n",
       "      <td>paperbackworld.de</td>\n",
       "      <td>0138569231</td>\n",
       "      <td>Multimedia Communications: Protocols and Appli...</td>\n",
       "      <td>Frank Kuo, J. J. Luna</td>\n",
       "    </tr>\n",
       "    <tr>\n",
       "      <td>33970</td>\n",
       "      <td>Revaluation Books</td>\n",
       "      <td>0138569231</td>\n",
       "      <td>Multimedia Communications: Protocols and Appli...</td>\n",
       "      <td>Franklin F. Kuo J. Joaquin Garcia Luna-Aceves ...</td>\n",
       "    </tr>\n",
       "  </tbody>\n",
       "</table>\n",
       "<p>33971 rows × 4 columns</p>\n",
       "</div>"
      ],
      "text/plain": [
       "                    Website        ISBN  \\\n",
       "0               eCampus.com  0201853949   \n",
       "1                 Indoo.com  0201853949   \n",
       "2           textbookxdotcom  0201853949   \n",
       "3                   A1Books  0201853949   \n",
       "4              textbooksNow  0201853949   \n",
       "...                     ...         ...   \n",
       "33966  www.textbooksrus.com  0138569231   \n",
       "33967        OPOE-ABE Books  0138569231   \n",
       "33968       textbookxdotcom  0138569231   \n",
       "33969     paperbackworld.de  0138569231   \n",
       "33970     Revaluation Books  0138569231   \n",
       "\n",
       "                                                   Title  \\\n",
       "0      The art Of Computer Programming, Fascicle 3: G...   \n",
       "1      Art of Computer Programming, Volume 4, Fascicl...   \n",
       "2      The 'art Of Computer Programming, Fascicle 3 G...   \n",
       "3      The Art of Computer Programming, Volume 4, Fas...   \n",
       "4                            Art of Computer Programming   \n",
       "...                                                  ...   \n",
       "33966  Multimedia Communications: Protocols and Appli...   \n",
       "33967                          MULTIMEDIA COMMUNICATIONS   \n",
       "33968  Multimedia Communications Protocols and Applic...   \n",
       "33969  Multimedia Communications: Protocols and Appli...   \n",
       "33970  Multimedia Communications: Protocols and Appli...   \n",
       "\n",
       "                                                  Author  \n",
       "0                                          Not Available  \n",
       "1                                       Knuth, Donald E.  \n",
       "2                                                    NaN  \n",
       "3                                       Knuth, Donald E.  \n",
       "4                                                  Knuth  \n",
       "...                                                  ...  \n",
       "33966  Franklin F. Kuo|Wolfgang Effelsberg|J. J. Garc...  \n",
       "33967                                                KUO  \n",
       "33968                                Wolfgang Effelsberg  \n",
       "33969                              Frank Kuo, J. J. Luna  \n",
       "33970  Franklin F. Kuo J. Joaquin Garcia Luna-Aceves ...  \n",
       "\n",
       "[33971 rows x 4 columns]"
      ]
     },
     "execution_count": 221,
     "metadata": {},
     "output_type": "execute_result"
    }
   ],
   "source": [
    "book_dataset"
   ]
  },
  {
   "cell_type": "code",
   "execution_count": 222,
   "metadata": {},
   "outputs": [
    {
     "data": {
      "text/plain": [
       "Website    object\n",
       "ISBN       object\n",
       "Title      object\n",
       "Author     object\n",
       "dtype: object"
      ]
     },
     "execution_count": 222,
     "metadata": {},
     "output_type": "execute_result"
    }
   ],
   "source": [
    "book_dataset.dtypes"
   ]
  },
  {
   "cell_type": "code",
   "execution_count": 223,
   "metadata": {},
   "outputs": [
    {
     "data": {
      "text/plain": [
       "Website    object\n",
       "ISBN       object\n",
       "Title      object\n",
       "Author     object\n",
       "dtype: object"
      ]
     },
     "execution_count": 223,
     "metadata": {},
     "output_type": "execute_result"
    }
   ],
   "source": [
    "book_dataset = book_dataset.astype(str)\n",
    "book_dataset.dtypes"
   ]
  },
  {
   "cell_type": "code",
   "execution_count": 224,
   "metadata": {},
   "outputs": [],
   "source": [
    "book_dataset.replace('Not Available', np.NaN, inplace=True)"
   ]
  },
  {
   "cell_type": "code",
   "execution_count": 225,
   "metadata": {},
   "outputs": [
    {
     "data": {
      "text/plain": [
       "float"
      ]
     },
     "execution_count": 225,
     "metadata": {},
     "output_type": "execute_result"
    }
   ],
   "source": [
    "type(book_dataset.iloc[0,3])"
   ]
  },
  {
   "cell_type": "code",
   "execution_count": 226,
   "metadata": {},
   "outputs": [
    {
     "data": {
      "text/html": [
       "<div>\n",
       "<style scoped>\n",
       "    .dataframe tbody tr th:only-of-type {\n",
       "        vertical-align: middle;\n",
       "    }\n",
       "\n",
       "    .dataframe tbody tr th {\n",
       "        vertical-align: top;\n",
       "    }\n",
       "\n",
       "    .dataframe thead th {\n",
       "        text-align: right;\n",
       "    }\n",
       "</style>\n",
       "<table border=\"1\" class=\"dataframe\">\n",
       "  <thead>\n",
       "    <tr style=\"text-align: right;\">\n",
       "      <th></th>\n",
       "      <th>Website</th>\n",
       "      <th>ISBN</th>\n",
       "      <th>Title</th>\n",
       "      <th>Author</th>\n",
       "    </tr>\n",
       "  </thead>\n",
       "  <tbody>\n",
       "    <tr>\n",
       "      <td>0</td>\n",
       "      <td>False</td>\n",
       "      <td>False</td>\n",
       "      <td>False</td>\n",
       "      <td>True</td>\n",
       "    </tr>\n",
       "    <tr>\n",
       "      <td>1</td>\n",
       "      <td>False</td>\n",
       "      <td>False</td>\n",
       "      <td>False</td>\n",
       "      <td>False</td>\n",
       "    </tr>\n",
       "    <tr>\n",
       "      <td>2</td>\n",
       "      <td>False</td>\n",
       "      <td>False</td>\n",
       "      <td>False</td>\n",
       "      <td>False</td>\n",
       "    </tr>\n",
       "    <tr>\n",
       "      <td>3</td>\n",
       "      <td>False</td>\n",
       "      <td>False</td>\n",
       "      <td>False</td>\n",
       "      <td>False</td>\n",
       "    </tr>\n",
       "    <tr>\n",
       "      <td>4</td>\n",
       "      <td>False</td>\n",
       "      <td>False</td>\n",
       "      <td>False</td>\n",
       "      <td>False</td>\n",
       "    </tr>\n",
       "    <tr>\n",
       "      <td>...</td>\n",
       "      <td>...</td>\n",
       "      <td>...</td>\n",
       "      <td>...</td>\n",
       "      <td>...</td>\n",
       "    </tr>\n",
       "    <tr>\n",
       "      <td>33966</td>\n",
       "      <td>False</td>\n",
       "      <td>False</td>\n",
       "      <td>False</td>\n",
       "      <td>False</td>\n",
       "    </tr>\n",
       "    <tr>\n",
       "      <td>33967</td>\n",
       "      <td>False</td>\n",
       "      <td>False</td>\n",
       "      <td>False</td>\n",
       "      <td>False</td>\n",
       "    </tr>\n",
       "    <tr>\n",
       "      <td>33968</td>\n",
       "      <td>False</td>\n",
       "      <td>False</td>\n",
       "      <td>False</td>\n",
       "      <td>False</td>\n",
       "    </tr>\n",
       "    <tr>\n",
       "      <td>33969</td>\n",
       "      <td>False</td>\n",
       "      <td>False</td>\n",
       "      <td>False</td>\n",
       "      <td>False</td>\n",
       "    </tr>\n",
       "    <tr>\n",
       "      <td>33970</td>\n",
       "      <td>False</td>\n",
       "      <td>False</td>\n",
       "      <td>False</td>\n",
       "      <td>False</td>\n",
       "    </tr>\n",
       "  </tbody>\n",
       "</table>\n",
       "<p>33971 rows × 4 columns</p>\n",
       "</div>"
      ],
      "text/plain": [
       "       Website   ISBN  Title  Author\n",
       "0        False  False  False    True\n",
       "1        False  False  False   False\n",
       "2        False  False  False   False\n",
       "3        False  False  False   False\n",
       "4        False  False  False   False\n",
       "...        ...    ...    ...     ...\n",
       "33966    False  False  False   False\n",
       "33967    False  False  False   False\n",
       "33968    False  False  False   False\n",
       "33969    False  False  False   False\n",
       "33970    False  False  False   False\n",
       "\n",
       "[33971 rows x 4 columns]"
      ]
     },
     "execution_count": 226,
     "metadata": {},
     "output_type": "execute_result"
    }
   ],
   "source": [
    "book_dataset.isna()"
   ]
  },
  {
   "cell_type": "code",
   "execution_count": 227,
   "metadata": {},
   "outputs": [
    {
     "data": {
      "text/html": [
       "<div>\n",
       "<style scoped>\n",
       "    .dataframe tbody tr th:only-of-type {\n",
       "        vertical-align: middle;\n",
       "    }\n",
       "\n",
       "    .dataframe tbody tr th {\n",
       "        vertical-align: top;\n",
       "    }\n",
       "\n",
       "    .dataframe thead th {\n",
       "        text-align: right;\n",
       "    }\n",
       "</style>\n",
       "<table border=\"1\" class=\"dataframe\">\n",
       "  <thead>\n",
       "    <tr style=\"text-align: right;\">\n",
       "      <th></th>\n",
       "      <th>Website</th>\n",
       "      <th>ISBN</th>\n",
       "      <th>Title</th>\n",
       "      <th>Author</th>\n",
       "    </tr>\n",
       "  </thead>\n",
       "  <tbody>\n",
       "    <tr>\n",
       "      <td>0</td>\n",
       "      <td>eCampus.com</td>\n",
       "      <td>0201853949</td>\n",
       "      <td>The art Of Computer Programming, Fascicle 3: G...</td>\n",
       "      <td>NaN</td>\n",
       "    </tr>\n",
       "    <tr>\n",
       "      <td>106</td>\n",
       "      <td>eCampus.com</td>\n",
       "      <td>0201853930</td>\n",
       "      <td>The Art Of Computer Programming, Fascicle 2: G...</td>\n",
       "      <td>NaN</td>\n",
       "    </tr>\n",
       "    <tr>\n",
       "      <td>1442</td>\n",
       "      <td>brandnewtextbooks</td>\n",
       "      <td>0321268458</td>\n",
       "      <td>Database Systems: An Application Oriented Appr...</td>\n",
       "      <td>NaN</td>\n",
       "    </tr>\n",
       "    <tr>\n",
       "      <td>1443</td>\n",
       "      <td>brandnewtextbooks</td>\n",
       "      <td>0321268458</td>\n",
       "      <td>Database Systems: An Application Oriented Appr...</td>\n",
       "      <td>NaN</td>\n",
       "    </tr>\n",
       "    <tr>\n",
       "      <td>3786</td>\n",
       "      <td>eCampus.com</td>\n",
       "      <td>0131498622</td>\n",
       "      <td>Spring Into PHP 5</td>\n",
       "      <td>NaN</td>\n",
       "    </tr>\n",
       "    <tr>\n",
       "      <td>3787</td>\n",
       "      <td>eCampus.com</td>\n",
       "      <td>0131498622</td>\n",
       "      <td>Spring Into PHP 5</td>\n",
       "      <td>NaN</td>\n",
       "    </tr>\n",
       "    <tr>\n",
       "      <td>3797</td>\n",
       "      <td>Books2Anywhere.com</td>\n",
       "      <td>0131498622</td>\n",
       "      <td>Spring Into Php 5</td>\n",
       "      <td>NaN</td>\n",
       "    </tr>\n",
       "    <tr>\n",
       "      <td>3800</td>\n",
       "      <td>Books2Anywhere.com</td>\n",
       "      <td>0131498622</td>\n",
       "      <td>Spring Into Php 5</td>\n",
       "      <td>NaN</td>\n",
       "    </tr>\n",
       "    <tr>\n",
       "      <td>3802</td>\n",
       "      <td>Paperbackshop-US</td>\n",
       "      <td>0131498622</td>\n",
       "      <td>Spring Into Php 5</td>\n",
       "      <td>NaN</td>\n",
       "    </tr>\n",
       "    <tr>\n",
       "      <td>3803</td>\n",
       "      <td>DVD Legacy</td>\n",
       "      <td>0131498622</td>\n",
       "      <td>Spring Into PHP 5</td>\n",
       "      <td>NaN</td>\n",
       "    </tr>\n",
       "    <tr>\n",
       "      <td>8586</td>\n",
       "      <td>Paperbackshop-US</td>\n",
       "      <td>0321268172</td>\n",
       "      <td>File System Forensics</td>\n",
       "      <td>NaN</td>\n",
       "    </tr>\n",
       "    <tr>\n",
       "      <td>8592</td>\n",
       "      <td>DVD Legacy</td>\n",
       "      <td>0321268172</td>\n",
       "      <td>File System Forensic Analysis</td>\n",
       "      <td>NaN</td>\n",
       "    </tr>\n",
       "    <tr>\n",
       "      <td>8598</td>\n",
       "      <td>Striped Ostrich</td>\n",
       "      <td>0321268172</td>\n",
       "      <td>File System Forensics</td>\n",
       "      <td>NaN</td>\n",
       "    </tr>\n",
       "    <tr>\n",
       "      <td>10338</td>\n",
       "      <td>DVD Legacy</td>\n",
       "      <td>0321262514</td>\n",
       "      <td>Storage Virtualization: Technologies For Simpl...</td>\n",
       "      <td>NaN</td>\n",
       "    </tr>\n",
       "    <tr>\n",
       "      <td>10347</td>\n",
       "      <td>Striped Ostrich</td>\n",
       "      <td>0321262514</td>\n",
       "      <td>Storage Virtualization : Technologies For Simp...</td>\n",
       "      <td>NaN</td>\n",
       "    </tr>\n",
       "    <tr>\n",
       "      <td>10357</td>\n",
       "      <td>Books2Anywhere.com</td>\n",
       "      <td>0321262514</td>\n",
       "      <td>Storage Virtualization</td>\n",
       "      <td>NaN</td>\n",
       "    </tr>\n",
       "    <tr>\n",
       "      <td>12239</td>\n",
       "      <td>Paperbackshop-US</td>\n",
       "      <td>0321304780</td>\n",
       "      <td>The 'java Class Libraries-poster</td>\n",
       "      <td>NaN</td>\n",
       "    </tr>\n",
       "    <tr>\n",
       "      <td>12240</td>\n",
       "      <td>DVD Legacy</td>\n",
       "      <td>0321304780</td>\n",
       "      <td>The Java Class Libraries Poster: Java 2 Platfo...</td>\n",
       "      <td>NaN</td>\n",
       "    </tr>\n",
       "    <tr>\n",
       "      <td>16120</td>\n",
       "      <td>The E</td>\n",
       "      <td>0321305493</td>\n",
       "      <td>PSP: A Self-improvement Process For Software E...</td>\n",
       "      <td>NaN</td>\n",
       "    </tr>\n",
       "    <tr>\n",
       "      <td>16121</td>\n",
       "      <td>happybook</td>\n",
       "      <td>0321305493</td>\n",
       "      <td>PSP: A Self-improvement Process For Software E...</td>\n",
       "      <td>NaN</td>\n",
       "    </tr>\n",
       "    <tr>\n",
       "      <td>16132</td>\n",
       "      <td>DVD Legacy</td>\n",
       "      <td>0321305493</td>\n",
       "      <td>PSP: A Self-improvement Process For Software E...</td>\n",
       "      <td>NaN</td>\n",
       "    </tr>\n",
       "    <tr>\n",
       "      <td>16141</td>\n",
       "      <td>Sandy Chong</td>\n",
       "      <td>0321305493</td>\n",
       "      <td>PSP: A Self-improvement Process For Software E...</td>\n",
       "      <td>NaN</td>\n",
       "    </tr>\n",
       "    <tr>\n",
       "      <td>16142</td>\n",
       "      <td>Sandy Chong</td>\n",
       "      <td>0321305493</td>\n",
       "      <td>PSP: A Self-improvement Process For Software E...</td>\n",
       "      <td>NaN</td>\n",
       "    </tr>\n",
       "  </tbody>\n",
       "</table>\n",
       "</div>"
      ],
      "text/plain": [
       "                  Website        ISBN  \\\n",
       "0             eCampus.com  0201853949   \n",
       "106           eCampus.com  0201853930   \n",
       "1442    brandnewtextbooks  0321268458   \n",
       "1443    brandnewtextbooks  0321268458   \n",
       "3786          eCampus.com  0131498622   \n",
       "3787          eCampus.com  0131498622   \n",
       "3797   Books2Anywhere.com  0131498622   \n",
       "3800   Books2Anywhere.com  0131498622   \n",
       "3802     Paperbackshop-US  0131498622   \n",
       "3803           DVD Legacy  0131498622   \n",
       "8586     Paperbackshop-US  0321268172   \n",
       "8592           DVD Legacy  0321268172   \n",
       "8598      Striped Ostrich  0321268172   \n",
       "10338          DVD Legacy  0321262514   \n",
       "10347     Striped Ostrich  0321262514   \n",
       "10357  Books2Anywhere.com  0321262514   \n",
       "12239    Paperbackshop-US  0321304780   \n",
       "12240          DVD Legacy  0321304780   \n",
       "16120               The E  0321305493   \n",
       "16121           happybook  0321305493   \n",
       "16132          DVD Legacy  0321305493   \n",
       "16141         Sandy Chong  0321305493   \n",
       "16142         Sandy Chong  0321305493   \n",
       "\n",
       "                                                   Title Author  \n",
       "0      The art Of Computer Programming, Fascicle 3: G...    NaN  \n",
       "106    The Art Of Computer Programming, Fascicle 2: G...    NaN  \n",
       "1442   Database Systems: An Application Oriented Appr...    NaN  \n",
       "1443   Database Systems: An Application Oriented Appr...    NaN  \n",
       "3786                                   Spring Into PHP 5    NaN  \n",
       "3787                                   Spring Into PHP 5    NaN  \n",
       "3797                                   Spring Into Php 5    NaN  \n",
       "3800                                   Spring Into Php 5    NaN  \n",
       "3802                                   Spring Into Php 5    NaN  \n",
       "3803                                   Spring Into PHP 5    NaN  \n",
       "8586                               File System Forensics    NaN  \n",
       "8592                       File System Forensic Analysis    NaN  \n",
       "8598                               File System Forensics    NaN  \n",
       "10338  Storage Virtualization: Technologies For Simpl...    NaN  \n",
       "10347  Storage Virtualization : Technologies For Simp...    NaN  \n",
       "10357                             Storage Virtualization    NaN  \n",
       "12239                   The 'java Class Libraries-poster    NaN  \n",
       "12240  The Java Class Libraries Poster: Java 2 Platfo...    NaN  \n",
       "16120  PSP: A Self-improvement Process For Software E...    NaN  \n",
       "16121  PSP: A Self-improvement Process For Software E...    NaN  \n",
       "16132  PSP: A Self-improvement Process For Software E...    NaN  \n",
       "16141  PSP: A Self-improvement Process For Software E...    NaN  \n",
       "16142  PSP: A Self-improvement Process For Software E...    NaN  "
      ]
     },
     "execution_count": 227,
     "metadata": {},
     "output_type": "execute_result"
    }
   ],
   "source": [
    "na_rows = book_dataset[book_dataset.isna().any(axis=1)]\n",
    "na_rows"
   ]
  },
  {
   "cell_type": "markdown",
   "metadata": {},
   "source": [
    "## Preprocessing dati"
   ]
  },
  {
   "cell_type": "code",
   "execution_count": 228,
   "metadata": {},
   "outputs": [
    {
     "data": {
      "text/html": [
       "<div>\n",
       "<style scoped>\n",
       "    .dataframe tbody tr th:only-of-type {\n",
       "        vertical-align: middle;\n",
       "    }\n",
       "\n",
       "    .dataframe tbody tr th {\n",
       "        vertical-align: top;\n",
       "    }\n",
       "\n",
       "    .dataframe thead th {\n",
       "        text-align: right;\n",
       "    }\n",
       "</style>\n",
       "<table border=\"1\" class=\"dataframe\">\n",
       "  <thead>\n",
       "    <tr style=\"text-align: right;\">\n",
       "      <th></th>\n",
       "      <th>Website</th>\n",
       "      <th>ISBN</th>\n",
       "      <th>Title</th>\n",
       "      <th>Author</th>\n",
       "    </tr>\n",
       "  </thead>\n",
       "  <tbody>\n",
       "    <tr>\n",
       "      <td>0</td>\n",
       "      <td>eCampus.com</td>\n",
       "      <td>0201853949</td>\n",
       "      <td>The art Of Computer Programming, Fascicle 3: G...</td>\n",
       "      <td>NaN</td>\n",
       "    </tr>\n",
       "    <tr>\n",
       "      <td>1</td>\n",
       "      <td>Indoo.com</td>\n",
       "      <td>0201853949</td>\n",
       "      <td>Art of Computer Programming, Volume 4, Fascicl...</td>\n",
       "      <td>Knuth, Donald E.</td>\n",
       "    </tr>\n",
       "    <tr>\n",
       "      <td>2</td>\n",
       "      <td>textbookxdotcom</td>\n",
       "      <td>0201853949</td>\n",
       "      <td>The 'art Of Computer Programming, Fascicle 3 G...</td>\n",
       "      <td>nan</td>\n",
       "    </tr>\n",
       "    <tr>\n",
       "      <td>3</td>\n",
       "      <td>A1Books</td>\n",
       "      <td>0201853949</td>\n",
       "      <td>The Art of Computer Programming, Volume 4, Fas...</td>\n",
       "      <td>Knuth, Donald E.</td>\n",
       "    </tr>\n",
       "    <tr>\n",
       "      <td>4</td>\n",
       "      <td>textbooksNow</td>\n",
       "      <td>0201853949</td>\n",
       "      <td>Art of Computer Programming</td>\n",
       "      <td>Knuth</td>\n",
       "    </tr>\n",
       "    <tr>\n",
       "      <td>...</td>\n",
       "      <td>...</td>\n",
       "      <td>...</td>\n",
       "      <td>...</td>\n",
       "      <td>...</td>\n",
       "    </tr>\n",
       "    <tr>\n",
       "      <td>33966</td>\n",
       "      <td>www.textbooksrus.com</td>\n",
       "      <td>0138569231</td>\n",
       "      <td>Multimedia Communications: Protocols and Appli...</td>\n",
       "      <td>Franklin F. Kuo|Wolfgang Effelsberg|J. J. Garc...</td>\n",
       "    </tr>\n",
       "    <tr>\n",
       "      <td>33967</td>\n",
       "      <td>OPOE-ABE Books</td>\n",
       "      <td>0138569231</td>\n",
       "      <td>MULTIMEDIA COMMUNICATIONS</td>\n",
       "      <td>KUO</td>\n",
       "    </tr>\n",
       "    <tr>\n",
       "      <td>33968</td>\n",
       "      <td>textbookxdotcom</td>\n",
       "      <td>0138569231</td>\n",
       "      <td>Multimedia Communications Protocols and Applic...</td>\n",
       "      <td>Wolfgang Effelsberg</td>\n",
       "    </tr>\n",
       "    <tr>\n",
       "      <td>33969</td>\n",
       "      <td>paperbackworld.de</td>\n",
       "      <td>0138569231</td>\n",
       "      <td>Multimedia Communications: Protocols and Appli...</td>\n",
       "      <td>Frank Kuo, J. J. Luna</td>\n",
       "    </tr>\n",
       "    <tr>\n",
       "      <td>33970</td>\n",
       "      <td>Revaluation Books</td>\n",
       "      <td>0138569231</td>\n",
       "      <td>Multimedia Communications: Protocols and Appli...</td>\n",
       "      <td>Franklin F. Kuo J. Joaquin Garcia Luna-Aceves ...</td>\n",
       "    </tr>\n",
       "  </tbody>\n",
       "</table>\n",
       "<p>33971 rows × 4 columns</p>\n",
       "</div>"
      ],
      "text/plain": [
       "                    Website        ISBN  \\\n",
       "0               eCampus.com  0201853949   \n",
       "1                 Indoo.com  0201853949   \n",
       "2           textbookxdotcom  0201853949   \n",
       "3                   A1Books  0201853949   \n",
       "4              textbooksNow  0201853949   \n",
       "...                     ...         ...   \n",
       "33966  www.textbooksrus.com  0138569231   \n",
       "33967        OPOE-ABE Books  0138569231   \n",
       "33968       textbookxdotcom  0138569231   \n",
       "33969     paperbackworld.de  0138569231   \n",
       "33970     Revaluation Books  0138569231   \n",
       "\n",
       "                                                   Title  \\\n",
       "0      The art Of Computer Programming, Fascicle 3: G...   \n",
       "1      Art of Computer Programming, Volume 4, Fascicl...   \n",
       "2      The 'art Of Computer Programming, Fascicle 3 G...   \n",
       "3      The Art of Computer Programming, Volume 4, Fas...   \n",
       "4                            Art of Computer Programming   \n",
       "...                                                  ...   \n",
       "33966  Multimedia Communications: Protocols and Appli...   \n",
       "33967                          MULTIMEDIA COMMUNICATIONS   \n",
       "33968  Multimedia Communications Protocols and Applic...   \n",
       "33969  Multimedia Communications: Protocols and Appli...   \n",
       "33970  Multimedia Communications: Protocols and Appli...   \n",
       "\n",
       "                                                  Author  \n",
       "0                                                    NaN  \n",
       "1                                       Knuth, Donald E.  \n",
       "2                                                    nan  \n",
       "3                                       Knuth, Donald E.  \n",
       "4                                                  Knuth  \n",
       "...                                                  ...  \n",
       "33966  Franklin F. Kuo|Wolfgang Effelsberg|J. J. Garc...  \n",
       "33967                                                KUO  \n",
       "33968                                Wolfgang Effelsberg  \n",
       "33969                              Frank Kuo, J. J. Luna  \n",
       "33970  Franklin F. Kuo J. Joaquin Garcia Luna-Aceves ...  \n",
       "\n",
       "[33971 rows x 4 columns]"
      ]
     },
     "execution_count": 228,
     "metadata": {},
     "output_type": "execute_result"
    }
   ],
   "source": [
    "book_dataset"
   ]
  },
  {
   "cell_type": "code",
   "execution_count": 229,
   "metadata": {},
   "outputs": [],
   "source": [
    "from recordlinkage.preprocessing import clean\n",
    "for x in book_dataset.columns:\n",
    "    book_dataset[x] = clean(book_dataset[x])"
   ]
  },
  {
   "cell_type": "code",
   "execution_count": 230,
   "metadata": {},
   "outputs": [
    {
     "data": {
      "text/html": [
       "<div>\n",
       "<style scoped>\n",
       "    .dataframe tbody tr th:only-of-type {\n",
       "        vertical-align: middle;\n",
       "    }\n",
       "\n",
       "    .dataframe tbody tr th {\n",
       "        vertical-align: top;\n",
       "    }\n",
       "\n",
       "    .dataframe thead th {\n",
       "        text-align: right;\n",
       "    }\n",
       "</style>\n",
       "<table border=\"1\" class=\"dataframe\">\n",
       "  <thead>\n",
       "    <tr style=\"text-align: right;\">\n",
       "      <th></th>\n",
       "      <th>Website</th>\n",
       "      <th>ISBN</th>\n",
       "      <th>Title</th>\n",
       "      <th>Author</th>\n",
       "    </tr>\n",
       "  </thead>\n",
       "  <tbody>\n",
       "    <tr>\n",
       "      <td>0</td>\n",
       "      <td>ecampuscom</td>\n",
       "      <td>0201853949</td>\n",
       "      <td>the art of computer programming fascicle 3 gen...</td>\n",
       "      <td>NaN</td>\n",
       "    </tr>\n",
       "    <tr>\n",
       "      <td>1</td>\n",
       "      <td>indoocom</td>\n",
       "      <td>0201853949</td>\n",
       "      <td>art of computer programming volume 4 fascicle ...</td>\n",
       "      <td>knuth donald e</td>\n",
       "    </tr>\n",
       "    <tr>\n",
       "      <td>2</td>\n",
       "      <td>textbookxdotcom</td>\n",
       "      <td>0201853949</td>\n",
       "      <td>the art of computer programming fascicle 3 gen...</td>\n",
       "      <td>nan</td>\n",
       "    </tr>\n",
       "    <tr>\n",
       "      <td>3</td>\n",
       "      <td>a1books</td>\n",
       "      <td>0201853949</td>\n",
       "      <td>the art of computer programming volume 4 fasci...</td>\n",
       "      <td>knuth donald e</td>\n",
       "    </tr>\n",
       "    <tr>\n",
       "      <td>4</td>\n",
       "      <td>textbooksnow</td>\n",
       "      <td>0201853949</td>\n",
       "      <td>art of computer programming</td>\n",
       "      <td>knuth</td>\n",
       "    </tr>\n",
       "    <tr>\n",
       "      <td>...</td>\n",
       "      <td>...</td>\n",
       "      <td>...</td>\n",
       "      <td>...</td>\n",
       "      <td>...</td>\n",
       "    </tr>\n",
       "    <tr>\n",
       "      <td>33966</td>\n",
       "      <td>wwwtextbooksruscom</td>\n",
       "      <td>0138569231</td>\n",
       "      <td>multimedia communications protocols and applic...</td>\n",
       "      <td>franklin f kuowolfgang effelsbergj j garcia lu...</td>\n",
       "    </tr>\n",
       "    <tr>\n",
       "      <td>33967</td>\n",
       "      <td>opoe abe books</td>\n",
       "      <td>0138569231</td>\n",
       "      <td>multimedia communications</td>\n",
       "      <td>kuo</td>\n",
       "    </tr>\n",
       "    <tr>\n",
       "      <td>33968</td>\n",
       "      <td>textbookxdotcom</td>\n",
       "      <td>0138569231</td>\n",
       "      <td>multimedia communications protocols and applic...</td>\n",
       "      <td>wolfgang effelsberg</td>\n",
       "    </tr>\n",
       "    <tr>\n",
       "      <td>33969</td>\n",
       "      <td>paperbackworldde</td>\n",
       "      <td>0138569231</td>\n",
       "      <td>multimedia communications protocols and applic...</td>\n",
       "      <td>frank kuo j j luna</td>\n",
       "    </tr>\n",
       "    <tr>\n",
       "      <td>33970</td>\n",
       "      <td>revaluation books</td>\n",
       "      <td>0138569231</td>\n",
       "      <td>multimedia communications protocols and applic...</td>\n",
       "      <td>franklin f kuo j joaquin garcia luna aceves wo...</td>\n",
       "    </tr>\n",
       "  </tbody>\n",
       "</table>\n",
       "<p>33971 rows × 4 columns</p>\n",
       "</div>"
      ],
      "text/plain": [
       "                  Website        ISBN  \\\n",
       "0              ecampuscom  0201853949   \n",
       "1                indoocom  0201853949   \n",
       "2         textbookxdotcom  0201853949   \n",
       "3                 a1books  0201853949   \n",
       "4            textbooksnow  0201853949   \n",
       "...                   ...         ...   \n",
       "33966  wwwtextbooksruscom  0138569231   \n",
       "33967      opoe abe books  0138569231   \n",
       "33968     textbookxdotcom  0138569231   \n",
       "33969    paperbackworldde  0138569231   \n",
       "33970   revaluation books  0138569231   \n",
       "\n",
       "                                                   Title  \\\n",
       "0      the art of computer programming fascicle 3 gen...   \n",
       "1      art of computer programming volume 4 fascicle ...   \n",
       "2      the art of computer programming fascicle 3 gen...   \n",
       "3      the art of computer programming volume 4 fasci...   \n",
       "4                            art of computer programming   \n",
       "...                                                  ...   \n",
       "33966  multimedia communications protocols and applic...   \n",
       "33967                          multimedia communications   \n",
       "33968  multimedia communications protocols and applic...   \n",
       "33969  multimedia communications protocols and applic...   \n",
       "33970  multimedia communications protocols and applic...   \n",
       "\n",
       "                                                  Author  \n",
       "0                                                    NaN  \n",
       "1                                         knuth donald e  \n",
       "2                                                    nan  \n",
       "3                                         knuth donald e  \n",
       "4                                                  knuth  \n",
       "...                                                  ...  \n",
       "33966  franklin f kuowolfgang effelsbergj j garcia lu...  \n",
       "33967                                                kuo  \n",
       "33968                                wolfgang effelsberg  \n",
       "33969                                 frank kuo j j luna  \n",
       "33970  franklin f kuo j joaquin garcia luna aceves wo...  \n",
       "\n",
       "[33971 rows x 4 columns]"
      ]
     },
     "execution_count": 230,
     "metadata": {},
     "output_type": "execute_result"
    }
   ],
   "source": [
    "book_dataset"
   ]
  },
  {
   "cell_type": "markdown",
   "metadata": {},
   "source": [
    "## Indexing"
   ]
  },
  {
   "cell_type": "code",
   "execution_count": 237,
   "metadata": {},
   "outputs": [],
   "source": [
    "import recordlinkage as rl\n",
    "from recordlinkage.index import Block\n",
    "\n",
    "indexer_isbn = rl.Index()\n",
    "indexer_isbn.add(Block('ISBN'))\n",
    "candidate_links_isbn = indexer_isbn.index(book_dataset)"
   ]
  },
  {
   "cell_type": "code",
   "execution_count": 238,
   "metadata": {},
   "outputs": [
    {
     "name": "stdout",
     "output_type": "stream",
     "text": [
      "33971 628120\n"
     ]
    }
   ],
   "source": [
    "print (len(book_dataset), len(candidate_links_isbn))"
   ]
  },
  {
   "cell_type": "code",
   "execution_count": 264,
   "metadata": {},
   "outputs": [
    {
     "data": {
      "text/plain": [
       "1    0201853949\n",
       "0    0201853949\n",
       "Name: ISBN, dtype: object"
      ]
     },
     "execution_count": 264,
     "metadata": {},
     "output_type": "execute_result"
    }
   ],
   "source": [
    "book_dataset.loc[candidate_links_isbn[0], \"ISBN\"]"
   ]
  },
  {
   "cell_type": "code",
   "execution_count": 245,
   "metadata": {},
   "outputs": [
    {
     "data": {
      "text/plain": [
       "2859    0321119045\n",
       "2854    0321119045\n",
       "Name: ISBN, dtype: object"
      ]
     },
     "execution_count": 245,
     "metadata": {},
     "output_type": "execute_result"
    }
   ],
   "source": [
    "book_dataset.loc[candidate_links_isbn[60000], \"ISBN\"]"
   ]
  },
  {
   "cell_type": "markdown",
   "metadata": {},
   "source": [
    "## Comparison"
   ]
  },
  {
   "cell_type": "code",
   "execution_count": 269,
   "metadata": {},
   "outputs": [],
   "source": [
    "# This cell can take some time to compute.\n",
    "compare_cl = rl.Compare()\n",
    "\n",
    "compare_cl.string('Title', 'Title', method='jarowinkler', threshold=0.85, label='Title')\n",
    "compare_cl.string('Author', 'Author', method='jarowinkler', threshold=0.85, label='Author')\n",
    "\n",
    "features = compare_cl.compute(candidate_links_isbn, book_dataset)"
   ]
  },
  {
   "cell_type": "code",
   "execution_count": 272,
   "metadata": {},
   "outputs": [
    {
     "data": {
      "text/plain": [
       "(628120, 2)"
      ]
     },
     "execution_count": 272,
     "metadata": {},
     "output_type": "execute_result"
    }
   ],
   "source": [
    "features.shape"
   ]
  },
  {
   "cell_type": "code",
   "execution_count": 273,
   "metadata": {},
   "outputs": [
    {
     "data": {
      "text/plain": [
       "2.0    275389\n",
       "1.0    305050\n",
       "0.0     47681\n",
       "dtype: int64"
      ]
     },
     "execution_count": 273,
     "metadata": {},
     "output_type": "execute_result"
    }
   ],
   "source": [
    "# Sum the comparison results.\n",
    "features.sum(axis=1).value_counts().sort_index(ascending=False)"
   ]
  },
  {
   "cell_type": "code",
   "execution_count": 274,
   "metadata": {},
   "outputs": [
    {
     "name": "stdout",
     "output_type": "stream",
     "text": [
      "275389\n"
     ]
    },
    {
     "data": {
      "text/html": [
       "<div>\n",
       "<style scoped>\n",
       "    .dataframe tbody tr th:only-of-type {\n",
       "        vertical-align: middle;\n",
       "    }\n",
       "\n",
       "    .dataframe tbody tr th {\n",
       "        vertical-align: top;\n",
       "    }\n",
       "\n",
       "    .dataframe thead th {\n",
       "        text-align: right;\n",
       "    }\n",
       "</style>\n",
       "<table border=\"1\" class=\"dataframe\">\n",
       "  <thead>\n",
       "    <tr style=\"text-align: right;\">\n",
       "      <th></th>\n",
       "      <th></th>\n",
       "      <th>Title</th>\n",
       "      <th>Author</th>\n",
       "    </tr>\n",
       "  </thead>\n",
       "  <tbody>\n",
       "    <tr>\n",
       "      <td>3</td>\n",
       "      <td>1</td>\n",
       "      <td>1.0</td>\n",
       "      <td>1.0</td>\n",
       "    </tr>\n",
       "    <tr>\n",
       "      <td>4</td>\n",
       "      <td>1</td>\n",
       "      <td>1.0</td>\n",
       "      <td>1.0</td>\n",
       "    </tr>\n",
       "    <tr>\n",
       "      <td rowspan=\"2\" valign=\"top\">6</td>\n",
       "      <td>1</td>\n",
       "      <td>1.0</td>\n",
       "      <td>1.0</td>\n",
       "    </tr>\n",
       "    <tr>\n",
       "      <td>4</td>\n",
       "      <td>1.0</td>\n",
       "      <td>1.0</td>\n",
       "    </tr>\n",
       "    <tr>\n",
       "      <td rowspan=\"2\" valign=\"top\">7</td>\n",
       "      <td>1</td>\n",
       "      <td>1.0</td>\n",
       "      <td>1.0</td>\n",
       "    </tr>\n",
       "    <tr>\n",
       "      <td>3</td>\n",
       "      <td>1.0</td>\n",
       "      <td>1.0</td>\n",
       "    </tr>\n",
       "    <tr>\n",
       "      <td>9</td>\n",
       "      <td>8</td>\n",
       "      <td>1.0</td>\n",
       "      <td>1.0</td>\n",
       "    </tr>\n",
       "    <tr>\n",
       "      <td rowspan=\"3\" valign=\"top\">10</td>\n",
       "      <td>1</td>\n",
       "      <td>1.0</td>\n",
       "      <td>1.0</td>\n",
       "    </tr>\n",
       "    <tr>\n",
       "      <td>3</td>\n",
       "      <td>1.0</td>\n",
       "      <td>1.0</td>\n",
       "    </tr>\n",
       "    <tr>\n",
       "      <td>7</td>\n",
       "      <td>1.0</td>\n",
       "      <td>1.0</td>\n",
       "    </tr>\n",
       "  </tbody>\n",
       "</table>\n",
       "</div>"
      ],
      "text/plain": [
       "      Title  Author\n",
       "3  1    1.0     1.0\n",
       "4  1    1.0     1.0\n",
       "6  1    1.0     1.0\n",
       "   4    1.0     1.0\n",
       "7  1    1.0     1.0\n",
       "   3    1.0     1.0\n",
       "9  8    1.0     1.0\n",
       "10 1    1.0     1.0\n",
       "   3    1.0     1.0\n",
       "   7    1.0     1.0"
      ]
     },
     "execution_count": 274,
     "metadata": {},
     "output_type": "execute_result"
    }
   ],
   "source": [
    "matches = features[features.sum(axis=1) > 1]\n",
    "\n",
    "print(len(matches))\n",
    "matches.head(10)"
   ]
  },
  {
   "cell_type": "code",
   "execution_count": 276,
   "metadata": {},
   "outputs": [
    {
     "data": {
      "text/plain": [
       "Website                                              a1books\n",
       "ISBN                                              0201853949\n",
       "Title      the art of computer programming volume 4 fasci...\n",
       "Author                                        knuth donald e\n",
       "Name: 3, dtype: object"
      ]
     },
     "execution_count": 276,
     "metadata": {},
     "output_type": "execute_result"
    }
   ],
   "source": [
    "book_dataset.iloc[3,:]"
   ]
  },
  {
   "cell_type": "code",
   "execution_count": 277,
   "metadata": {},
   "outputs": [
    {
     "data": {
      "text/plain": [
       "Website                                             indoocom\n",
       "ISBN                                              0201853949\n",
       "Title      art of computer programming volume 4 fascicle ...\n",
       "Author                                        knuth donald e\n",
       "Name: 1, dtype: object"
      ]
     },
     "execution_count": 277,
     "metadata": {},
     "output_type": "execute_result"
    }
   ],
   "source": [
    "book_dataset.iloc[1,:]"
   ]
  },
  {
   "cell_type": "markdown",
   "metadata": {},
   "source": [
    "## Classification"
   ]
  },
  {
   "cell_type": "code",
   "execution_count": 278,
   "metadata": {},
   "outputs": [],
   "source": [
    "# Initialise the Expectation-Conditional Maximisation classifier.\n",
    "cl = rl.KMeansClassifier()\n",
    "cl.fit(features)"
   ]
  },
  {
   "cell_type": "code",
   "execution_count": 279,
   "metadata": {},
   "outputs": [
    {
     "name": "stdout",
     "output_type": "stream",
     "text": [
      "Predicted number of links: 314232\n"
     ]
    }
   ],
   "source": [
    "# evaluate the model\n",
    "links = cl.predict(features)\n",
    "print(\"Predicted number of links:\", len(links))"
   ]
  },
  {
   "cell_type": "code",
   "execution_count": 296,
   "metadata": {},
   "outputs": [
    {
     "data": {
      "text/html": [
       "<div>\n",
       "<style scoped>\n",
       "    .dataframe tbody tr th:only-of-type {\n",
       "        vertical-align: middle;\n",
       "    }\n",
       "\n",
       "    .dataframe tbody tr th {\n",
       "        vertical-align: top;\n",
       "    }\n",
       "\n",
       "    .dataframe thead th {\n",
       "        text-align: right;\n",
       "    }\n",
       "</style>\n",
       "<table border=\"1\" class=\"dataframe\">\n",
       "  <thead>\n",
       "    <tr style=\"text-align: right;\">\n",
       "      <th></th>\n",
       "      <th></th>\n",
       "      <th>Title</th>\n",
       "      <th>Author</th>\n",
       "    </tr>\n",
       "  </thead>\n",
       "  <tbody>\n",
       "    <tr>\n",
       "      <td>1</td>\n",
       "      <td>0</td>\n",
       "      <td>0.0</td>\n",
       "      <td>0.0</td>\n",
       "    </tr>\n",
       "    <tr>\n",
       "      <td rowspan=\"2\" valign=\"top\">2</td>\n",
       "      <td>0</td>\n",
       "      <td>1.0</td>\n",
       "      <td>0.0</td>\n",
       "    </tr>\n",
       "    <tr>\n",
       "      <td>1</td>\n",
       "      <td>0.0</td>\n",
       "      <td>0.0</td>\n",
       "    </tr>\n",
       "    <tr>\n",
       "      <td rowspan=\"2\" valign=\"top\">3</td>\n",
       "      <td>0</td>\n",
       "      <td>1.0</td>\n",
       "      <td>0.0</td>\n",
       "    </tr>\n",
       "    <tr>\n",
       "      <td>1</td>\n",
       "      <td>1.0</td>\n",
       "      <td>1.0</td>\n",
       "    </tr>\n",
       "    <tr>\n",
       "      <td>...</td>\n",
       "      <td>...</td>\n",
       "      <td>...</td>\n",
       "      <td>...</td>\n",
       "    </tr>\n",
       "    <tr>\n",
       "      <td rowspan=\"5\" valign=\"top\">33970</td>\n",
       "      <td>33965</td>\n",
       "      <td>1.0</td>\n",
       "      <td>0.0</td>\n",
       "    </tr>\n",
       "    <tr>\n",
       "      <td>33966</td>\n",
       "      <td>1.0</td>\n",
       "      <td>1.0</td>\n",
       "    </tr>\n",
       "    <tr>\n",
       "      <td>33967</td>\n",
       "      <td>1.0</td>\n",
       "      <td>0.0</td>\n",
       "    </tr>\n",
       "    <tr>\n",
       "      <td>33968</td>\n",
       "      <td>1.0</td>\n",
       "      <td>0.0</td>\n",
       "    </tr>\n",
       "    <tr>\n",
       "      <td>33969</td>\n",
       "      <td>1.0</td>\n",
       "      <td>0.0</td>\n",
       "    </tr>\n",
       "  </tbody>\n",
       "</table>\n",
       "<p>628120 rows × 2 columns</p>\n",
       "</div>"
      ],
      "text/plain": [
       "             Title  Author\n",
       "1     0        0.0     0.0\n",
       "2     0        1.0     0.0\n",
       "      1        0.0     0.0\n",
       "3     0        1.0     0.0\n",
       "      1        1.0     1.0\n",
       "...            ...     ...\n",
       "33970 33965    1.0     0.0\n",
       "      33966    1.0     1.0\n",
       "      33967    1.0     0.0\n",
       "      33968    1.0     0.0\n",
       "      33969    1.0     0.0\n",
       "\n",
       "[628120 rows x 2 columns]"
      ]
     },
     "execution_count": 296,
     "metadata": {},
     "output_type": "execute_result"
    }
   ],
   "source": [
    "features"
   ]
  },
  {
   "cell_type": "code",
   "execution_count": 304,
   "metadata": {},
   "outputs": [
    {
     "ename": "AttributeError",
     "evalue": "module 'array' has no attribute 'reshape'",
     "output_type": "error",
     "traceback": [
      "\u001b[0;31m---------------------------------------------------------------------------\u001b[0m",
      "\u001b[0;31mAttributeError\u001b[0m                            Traceback (most recent call last)",
      "\u001b[0;32m<ipython-input-304-624589ffd17a>\u001b[0m in \u001b[0;36m<module>\u001b[0;34m\u001b[0m\n\u001b[1;32m      1\u001b[0m \u001b[0;32mimport\u001b[0m \u001b[0marray\u001b[0m\u001b[0;34m\u001b[0m\u001b[0;34m\u001b[0m\u001b[0m\n\u001b[0;32m----> 2\u001b[0;31m \u001b[0mcl\u001b[0m\u001b[0;34m.\u001b[0m\u001b[0mpredict\u001b[0m\u001b[0;34m(\u001b[0m\u001b[0marray\u001b[0m\u001b[0;34m.\u001b[0m\u001b[0mreshape\u001b[0m\u001b[0;34m(\u001b[0m\u001b[0mfeatures\u001b[0m\u001b[0;34m.\u001b[0m\u001b[0miloc\u001b[0m\u001b[0;34m[\u001b[0m\u001b[0;36m2\u001b[0m\u001b[0;34m]\u001b[0m\u001b[0;34m)\u001b[0m\u001b[0;34m)\u001b[0m\u001b[0;34m\u001b[0m\u001b[0;34m\u001b[0m\u001b[0m\n\u001b[0m",
      "\u001b[0;31mAttributeError\u001b[0m: module 'array' has no attribute 'reshape'"
     ]
    }
   ],
   "source": [
    "cl.predict(array.reshape(features.iloc[2]))"
   ]
  },
  {
   "cell_type": "code",
   "execution_count": null,
   "metadata": {},
   "outputs": [],
   "source": []
  }
 ],
 "metadata": {
  "kernelspec": {
   "display_name": "Python 3",
   "language": "python",
   "name": "python3"
  },
  "language_info": {
   "codemirror_mode": {
    "name": "ipython",
    "version": 3
   },
   "file_extension": ".py",
   "mimetype": "text/x-python",
   "name": "python",
   "nbconvert_exporter": "python",
   "pygments_lexer": "ipython3",
   "version": "3.7.4"
  }
 },
 "nbformat": 4,
 "nbformat_minor": 2
}
