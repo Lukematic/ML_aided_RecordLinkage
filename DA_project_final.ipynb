{
 "cells": [
  {
   "cell_type": "markdown",
   "metadata": {},
   "source": [
    "# Machine Learning aided Record Linkage - a comparison between different methods\n",
    "\n",
    "## Group Components\n",
    "* **Francesco Porto** f.porto2@campus.unimib.it (816042)\n",
    "* **Francesco Stranieri** f.stranieri1@campus.unimib.it (816551)\n",
    "* **Mattia Vincenzi** m.vincenzi14@campus.unimib.it (860579)\n",
    "\n",
    "## Abstract\n",
    "Record Linkage is the process of finding records in one or more datasets that refer to the same entity across different data sources. Traditionally, it is done by applying comparison rules between pairs of attributes from each dataset. In this project we investigate some possible Machine Learning applications to Record Linkage (and Data deduplication), and we compare them to the deterministic approach.\n",
    "\n",
    "## Python Record Linkage Toolkit\n",
    "Throughout the project, we make use of a Python library called [\"Python Record Linkage Toolkit\"](https://github.com/J535D165/recordlinkage/blob/master/docs/index.rst), which provides a simple framework to facilitate the process of Record Linkage. In the context of this library, the Record Linkage process is divided into 5 steps:\n",
    "\n",
    "* **Preprocessing**: clean the datasets in order to improve the chances of finding matches\n",
    "* **Indexing**: create pairs of records, called candidate links, from each dataset \n",
    "* **Comparison**: compare record pairs via different algorithms, thresholds, etc.\n",
    "* **Classification**: classify record pairs into matches or non-matches\n",
    "* **Evaluation**: evaluate classification results"
   ]
  },
  {
   "cell_type": "code",
   "execution_count": 47,
   "metadata": {
    "hideCode": true,
    "hideOutput": true,
    "hidePrompt": true
   },
   "outputs": [
    {
     "name": "stdout",
     "output_type": "stream",
     "text": [
      "Requirement already satisfied: recordlinkage in /Applications/anaconda3/lib/python3.7/site-packages (0.14)\n",
      "Requirement already satisfied: jellyfish>=0.5.4 in /Applications/anaconda3/lib/python3.7/site-packages (from recordlinkage) (0.7.2)\n",
      "Requirement already satisfied: scipy>=1 in /Applications/anaconda3/lib/python3.7/site-packages (from recordlinkage) (1.3.1)\n",
      "Requirement already satisfied: scikit-learn>=0.19.0 in /Applications/anaconda3/lib/python3.7/site-packages (from recordlinkage) (0.21.3)\n",
      "Requirement already satisfied: joblib in /Applications/anaconda3/lib/python3.7/site-packages (from recordlinkage) (0.13.2)\n",
      "Requirement already satisfied: pandas>=0.23 in /Applications/anaconda3/lib/python3.7/site-packages (from recordlinkage) (0.25.1)\n",
      "Requirement already satisfied: numpy>=1.13.0 in /Applications/anaconda3/lib/python3.7/site-packages (from recordlinkage) (1.17.2)\n",
      "Requirement already satisfied: python-dateutil>=2.6.1 in /Applications/anaconda3/lib/python3.7/site-packages (from pandas>=0.23->recordlinkage) (2.8.0)\n",
      "Requirement already satisfied: pytz>=2017.2 in /Applications/anaconda3/lib/python3.7/site-packages (from pandas>=0.23->recordlinkage) (2019.3)\n",
      "Requirement already satisfied: six>=1.5 in /Applications/anaconda3/lib/python3.7/site-packages (from python-dateutil>=2.6.1->pandas>=0.23->recordlinkage) (1.12.0)\n"
     ]
    }
   ],
   "source": [
    "!pip install recordlinkage\n",
    "import recordlinkage as rl"
   ]
  },
  {
   "cell_type": "markdown",
   "metadata": {
    "hideCode": false
   },
   "source": [
    "## Helper Functions\n",
    "We have defined a few helper functions that allow us to streamline the Record Linkage process:\n",
    "- **Indexing_dataset** : given two datasets, returns the result of the indexing process (either *full* or *block*) on the given attributes"
   ]
  },
  {
   "cell_type": "code",
   "execution_count": 48,
   "metadata": {
    "hideCode": true,
    "hidePrompt": true
   },
   "outputs": [],
   "source": [
    "from recordlinkage.index import Block, Full\n",
    "\n",
    "def indexing_dataset(dataset1, dataset2, parameters, method = 'block'):\n",
    "    \n",
    "    \"\"\"\n",
    "    Parameters\n",
    "    ----------\n",
    "    dataset1 : pandas.dataframe\n",
    "        The dataframe containing the first dataset\n",
    "    dataset2 : pandas.dataframe\n",
    "        The dataframe containing the second dataset\n",
    "    parameters : list\n",
    "        The list of parameters to use for blocking\n",
    "    method : object\n",
    "        Method used for Indexing (default = 'block').\n",
    "    Returns\n",
    "    ----------\n",
    "    candidate_links : list\n",
    "        The list containing all the candidate links\n",
    "    \"\"\"\n",
    "    \n",
    "    indexer = rl.Index()\n",
    "    \n",
    "    if method == 'block':\n",
    "        for parameter in parameters:\n",
    "            indexer.add(Block(parameter))\n",
    "    else:\n",
    "        indexer.add(Full())\n",
    "        \n",
    "    if dataset2 is None:\n",
    "        candidate_links = indexer.index(dataset1)\n",
    "    else: \n",
    "        candidate_links = indexer.index(dataset1, dataset2)\n",
    "    \n",
    "    return candidate_links"
   ]
  },
  {
   "cell_type": "markdown",
   "metadata": {},
   "source": [
    "- **Compare_records** : given two datasets, a set of rules specifying how to compare some attributes, and a list of attributes that must match exactly, returns a multi index containing the comparisons' results."
   ]
  },
  {
   "cell_type": "code",
   "execution_count": 49,
   "metadata": {
    "hideCode": true,
    "hidePrompt": true
   },
   "outputs": [],
   "source": [
    "from recordlinkage.compare import Exact, String\n",
    "\n",
    "# Only works for datasets that have the same column names\n",
    "def compare_records(candidate_links, dataset1, dataset2, string_comparison, exact_match):\n",
    "    \n",
    "    \"\"\"\n",
    "    Parameters\n",
    "    ----------\n",
    "    candidate_links : list\n",
    "        The list of candidate links\n",
    "    dataset1 : pandas.dataframe\n",
    "        The dataframe containing the first dataset\n",
    "    dataset2 : pandas.dataframe\n",
    "        The dataframe containing the second dataset\n",
    "    string_comparison : dictionary\n",
    "        A dictionary having as key an attribute, and as value a list of length 2 like this [method_to_use, threshold]\n",
    "    exact_match : list\n",
    "        A list of attributes that must match exactly\n",
    "        \n",
    "    Returns\n",
    "    ----------\n",
    "    features : pandas.MultiIndex\n",
    "        A dataframe containing 1 if attributes match, and 0 if they do not\n",
    "    \"\"\"\n",
    "    \n",
    "    comparer = rl.Compare()\n",
    "    \n",
    "    for attribute in string_comparison.keys():\n",
    "        method_comp, threshold_comp = string_comparison[attribute]\n",
    "        comparer.add(String(attribute, attribute, \n",
    "                            method = method_comp, \n",
    "                            threshold = threshold_comp,\n",
    "                            label = attribute))\n",
    "    \n",
    "    for attribute in exact_match:\n",
    "        comparer.exact(attribute, attribute,\n",
    "                       label = attribute)\n",
    "    \n",
    "    if dataset2 is None:\n",
    "        features = comparer.compute(candidate_links,\n",
    "                                dataset1)\n",
    "    else:\n",
    "        features = comparer.compute(candidate_links,\n",
    "                                dataset1, dataset2)\n",
    "    return features"
   ]
  },
  {
   "cell_type": "markdown",
   "metadata": {},
   "source": [
    "- **Evaluate_results** : returns a confusion matrix of a given classification method; also returns its precision, f-score and recall"
   ]
  },
  {
   "cell_type": "code",
   "execution_count": 50,
   "metadata": {
    "hideCode": true,
    "hidePrompt": true
   },
   "outputs": [],
   "source": [
    "def evaluate_results(true_links, links, candidate_links_len):\n",
    "    \n",
    "    \"\"\"\n",
    "    Parameters\n",
    "    ----------\n",
    "    true_links : list\n",
    "        The list of true_links\n",
    "    links : list\n",
    "        The list of links returned from the chosen model\n",
    "    candidate_links_len : integer\n",
    "        The length of candidate_links\n",
    "        \n",
    "    Returns\n",
    "    ----------\n",
    "    cm : numpay.ndarray\n",
    "        The confusion matrix\n",
    "    fscore : float\n",
    "        The fscore derived from the confusion matrix\n",
    "    recall : float\n",
    "        The recall derived from the confusion matrix\n",
    "    precision : float\n",
    "        The precision derived from the confusion matrix\n",
    "    \"\"\"\n",
    "    \n",
    "    cm = rl.confusion_matrix(true_links, links, candidate_links_len)\n",
    "    fscore = rl.fscore(cm)\n",
    "    recall = rl.recall(cm)\n",
    "    precision = rl.precision(cm)\n",
    "    \n",
    "    return cm, fscore, recall, precision\n",
    "    "
   ]
  },
  {
   "cell_type": "markdown",
   "metadata": {},
   "source": [
    "## Chapter 1: Record Linkage\n",
    "In this chapter we present two examples of Record Linkage, the first one using a **Full Index**, that is we make the cartesian product of the records in the first dataset and the records in the second one; the second one uses **Blocking**, a more optimal approach that only finds a subset of the cartesian product.\n",
    "\n",
    "## Experiment 1: Using a Full index\n",
    "\n",
    "### Dataset description\n",
    "We use the FEBRL (Freely Extensible Biomedical Record Linkage) dataset since it provides the *true links* for optimal Record Linkage. The paper used as reference is available [here](http://citeseerx.ist.psu.edu/viewdoc/download?doi=10.1.1.481.8577&rep=rep1&type=pdf)."
   ]
  },
  {
   "cell_type": "code",
   "execution_count": 51,
   "metadata": {
    "hideCode": false,
    "scrolled": false
   },
   "outputs": [],
   "source": [
    "from recordlinkage.datasets import load_febrl4"
   ]
  },
  {
   "cell_type": "markdown",
   "metadata": {},
   "source": [
    "This dataset contains 10000 records (5000 originals and 5000 duplicates, with one duplicate per original); the originals have been split from the duplicates into dataset4a.csv (containing the 5000 original records) and dataset4b.csv (containing the 5000 duplicate records)."
   ]
  },
  {
   "cell_type": "code",
   "execution_count": 52,
   "metadata": {
    "hideCode": true,
    "hidePrompt": true,
    "scrolled": true
   },
   "outputs": [
    {
     "name": "stdout",
     "output_type": "stream",
     "text": [
      "Loading data...\n",
      "5000 records in dataset A\n",
      "5000 records in dataset B\n",
      "5000 links between dataset A and B\n"
     ]
    }
   ],
   "source": [
    "# load datasets\n",
    "print('Loading data...')\n",
    "dfA, dfB, true_links = load_febrl4(return_links = True)\n",
    "print(len(dfA), 'records in dataset A')\n",
    "print(len(dfB), 'records in dataset B')\n",
    "print(len(true_links), 'links between dataset A and B')"
   ]
  },
  {
   "cell_type": "markdown",
   "metadata": {
    "hidePrompt": false
   },
   "source": [
    "We take a first look at the dataset. It contains auto-generated records about patients. There are 11 fields:\n",
    "- **rec_id**: the id of the record\n",
    "- **given_name**: the name of the patient\n",
    "- **street_number**: the street number of the patient's house\n",
    "- **address_1**: the road where the patient lives\n",
    "- **address_2**: the city where the patient lives\n",
    "- **suburb**: the suburb in the city where the patient lives\n",
    "- **postcode**: the postcode of the city where the patient lives\n",
    "- **state**: the state where the patient lives\n",
    "- **date_of_birth**: the date of birth of the patient\n",
    "- **soc_sec_id**: the social security number of the patient"
   ]
  },
  {
   "cell_type": "code",
   "execution_count": 53,
   "metadata": {
    "hideCode": true,
    "hidePrompt": true
   },
   "outputs": [
    {
     "data": {
      "text/html": [
       "<div>\n",
       "<style scoped>\n",
       "    .dataframe tbody tr th:only-of-type {\n",
       "        vertical-align: middle;\n",
       "    }\n",
       "\n",
       "    .dataframe tbody tr th {\n",
       "        vertical-align: top;\n",
       "    }\n",
       "\n",
       "    .dataframe thead th {\n",
       "        text-align: right;\n",
       "    }\n",
       "</style>\n",
       "<table border=\"1\" class=\"dataframe\">\n",
       "  <thead>\n",
       "    <tr style=\"text-align: right;\">\n",
       "      <th></th>\n",
       "      <th>given_name</th>\n",
       "      <th>surname</th>\n",
       "      <th>street_number</th>\n",
       "      <th>address_1</th>\n",
       "      <th>address_2</th>\n",
       "      <th>suburb</th>\n",
       "      <th>postcode</th>\n",
       "      <th>state</th>\n",
       "      <th>date_of_birth</th>\n",
       "      <th>soc_sec_id</th>\n",
       "    </tr>\n",
       "    <tr>\n",
       "      <th>rec_id</th>\n",
       "      <th></th>\n",
       "      <th></th>\n",
       "      <th></th>\n",
       "      <th></th>\n",
       "      <th></th>\n",
       "      <th></th>\n",
       "      <th></th>\n",
       "      <th></th>\n",
       "      <th></th>\n",
       "      <th></th>\n",
       "    </tr>\n",
       "  </thead>\n",
       "  <tbody>\n",
       "    <tr>\n",
       "      <td>rec-1070-org</td>\n",
       "      <td>michaela</td>\n",
       "      <td>neumann</td>\n",
       "      <td>8</td>\n",
       "      <td>stanley street</td>\n",
       "      <td>miami</td>\n",
       "      <td>winston hills</td>\n",
       "      <td>4223</td>\n",
       "      <td>nsw</td>\n",
       "      <td>19151111</td>\n",
       "      <td>5304218</td>\n",
       "    </tr>\n",
       "    <tr>\n",
       "      <td>rec-1016-org</td>\n",
       "      <td>courtney</td>\n",
       "      <td>painter</td>\n",
       "      <td>12</td>\n",
       "      <td>pinkerton circuit</td>\n",
       "      <td>bega flats</td>\n",
       "      <td>richlands</td>\n",
       "      <td>4560</td>\n",
       "      <td>vic</td>\n",
       "      <td>19161214</td>\n",
       "      <td>4066625</td>\n",
       "    </tr>\n",
       "    <tr>\n",
       "      <td>rec-4405-org</td>\n",
       "      <td>charles</td>\n",
       "      <td>green</td>\n",
       "      <td>38</td>\n",
       "      <td>salkauskas crescent</td>\n",
       "      <td>kela</td>\n",
       "      <td>dapto</td>\n",
       "      <td>4566</td>\n",
       "      <td>nsw</td>\n",
       "      <td>19480930</td>\n",
       "      <td>4365168</td>\n",
       "    </tr>\n",
       "    <tr>\n",
       "      <td>rec-1288-org</td>\n",
       "      <td>vanessa</td>\n",
       "      <td>parr</td>\n",
       "      <td>905</td>\n",
       "      <td>macquoid place</td>\n",
       "      <td>broadbridge manor</td>\n",
       "      <td>south grafton</td>\n",
       "      <td>2135</td>\n",
       "      <td>sa</td>\n",
       "      <td>19951119</td>\n",
       "      <td>9239102</td>\n",
       "    </tr>\n",
       "    <tr>\n",
       "      <td>rec-3585-org</td>\n",
       "      <td>mikayla</td>\n",
       "      <td>malloney</td>\n",
       "      <td>37</td>\n",
       "      <td>randwick road</td>\n",
       "      <td>avalind</td>\n",
       "      <td>hoppers crossing</td>\n",
       "      <td>4552</td>\n",
       "      <td>vic</td>\n",
       "      <td>19860208</td>\n",
       "      <td>7207688</td>\n",
       "    </tr>\n",
       "    <tr>\n",
       "      <td>...</td>\n",
       "      <td>...</td>\n",
       "      <td>...</td>\n",
       "      <td>...</td>\n",
       "      <td>...</td>\n",
       "      <td>...</td>\n",
       "      <td>...</td>\n",
       "      <td>...</td>\n",
       "      <td>...</td>\n",
       "      <td>...</td>\n",
       "      <td>...</td>\n",
       "    </tr>\n",
       "    <tr>\n",
       "      <td>rec-2153-org</td>\n",
       "      <td>annabel</td>\n",
       "      <td>grierson</td>\n",
       "      <td>97</td>\n",
       "      <td>mclachlan crescent</td>\n",
       "      <td>lantana lodge</td>\n",
       "      <td>broome</td>\n",
       "      <td>2480</td>\n",
       "      <td>nsw</td>\n",
       "      <td>19840224</td>\n",
       "      <td>7676186</td>\n",
       "    </tr>\n",
       "    <tr>\n",
       "      <td>rec-1604-org</td>\n",
       "      <td>sienna</td>\n",
       "      <td>musolino</td>\n",
       "      <td>22</td>\n",
       "      <td>smeaton circuit</td>\n",
       "      <td>pangani</td>\n",
       "      <td>mckinnon</td>\n",
       "      <td>2700</td>\n",
       "      <td>nsw</td>\n",
       "      <td>19890525</td>\n",
       "      <td>4971506</td>\n",
       "    </tr>\n",
       "    <tr>\n",
       "      <td>rec-1003-org</td>\n",
       "      <td>bradley</td>\n",
       "      <td>matthews</td>\n",
       "      <td>2</td>\n",
       "      <td>jondol place</td>\n",
       "      <td>horseshoe ck</td>\n",
       "      <td>jacobs well</td>\n",
       "      <td>7018</td>\n",
       "      <td>sa</td>\n",
       "      <td>19481122</td>\n",
       "      <td>8927667</td>\n",
       "    </tr>\n",
       "    <tr>\n",
       "      <td>rec-4883-org</td>\n",
       "      <td>brodee</td>\n",
       "      <td>egan</td>\n",
       "      <td>88</td>\n",
       "      <td>axon street</td>\n",
       "      <td>greenslopes</td>\n",
       "      <td>wamberal</td>\n",
       "      <td>2067</td>\n",
       "      <td>qld</td>\n",
       "      <td>19121113</td>\n",
       "      <td>6039042</td>\n",
       "    </tr>\n",
       "    <tr>\n",
       "      <td>rec-66-org</td>\n",
       "      <td>koula</td>\n",
       "      <td>houweling</td>\n",
       "      <td>3</td>\n",
       "      <td>mileham street</td>\n",
       "      <td>old airdmillan road</td>\n",
       "      <td>williamstown</td>\n",
       "      <td>2350</td>\n",
       "      <td>nsw</td>\n",
       "      <td>19440718</td>\n",
       "      <td>6375537</td>\n",
       "    </tr>\n",
       "  </tbody>\n",
       "</table>\n",
       "<p>5000 rows × 10 columns</p>\n",
       "</div>"
      ],
      "text/plain": [
       "             given_name    surname street_number            address_1  \\\n",
       "rec_id                                                                  \n",
       "rec-1070-org   michaela    neumann             8       stanley street   \n",
       "rec-1016-org   courtney    painter            12    pinkerton circuit   \n",
       "rec-4405-org    charles      green            38  salkauskas crescent   \n",
       "rec-1288-org    vanessa       parr           905       macquoid place   \n",
       "rec-3585-org    mikayla   malloney            37        randwick road   \n",
       "...                 ...        ...           ...                  ...   \n",
       "rec-2153-org    annabel   grierson            97   mclachlan crescent   \n",
       "rec-1604-org     sienna   musolino            22      smeaton circuit   \n",
       "rec-1003-org    bradley   matthews             2         jondol place   \n",
       "rec-4883-org     brodee       egan            88          axon street   \n",
       "rec-66-org        koula  houweling             3       mileham street   \n",
       "\n",
       "                        address_2            suburb postcode state  \\\n",
       "rec_id                                                               \n",
       "rec-1070-org                miami     winston hills     4223   nsw   \n",
       "rec-1016-org           bega flats         richlands     4560   vic   \n",
       "rec-4405-org                 kela             dapto     4566   nsw   \n",
       "rec-1288-org    broadbridge manor     south grafton     2135    sa   \n",
       "rec-3585-org              avalind  hoppers crossing     4552   vic   \n",
       "...                           ...               ...      ...   ...   \n",
       "rec-2153-org        lantana lodge            broome     2480   nsw   \n",
       "rec-1604-org              pangani          mckinnon     2700   nsw   \n",
       "rec-1003-org         horseshoe ck       jacobs well     7018    sa   \n",
       "rec-4883-org          greenslopes          wamberal     2067   qld   \n",
       "rec-66-org    old airdmillan road      williamstown     2350   nsw   \n",
       "\n",
       "             date_of_birth soc_sec_id  \n",
       "rec_id                                 \n",
       "rec-1070-org      19151111    5304218  \n",
       "rec-1016-org      19161214    4066625  \n",
       "rec-4405-org      19480930    4365168  \n",
       "rec-1288-org      19951119    9239102  \n",
       "rec-3585-org      19860208    7207688  \n",
       "...                    ...        ...  \n",
       "rec-2153-org      19840224    7676186  \n",
       "rec-1604-org      19890525    4971506  \n",
       "rec-1003-org      19481122    8927667  \n",
       "rec-4883-org      19121113    6039042  \n",
       "rec-66-org        19440718    6375537  \n",
       "\n",
       "[5000 rows x 10 columns]"
      ]
     },
     "execution_count": 53,
     "metadata": {},
     "output_type": "execute_result"
    }
   ],
   "source": [
    "dfA"
   ]
  },
  {
   "cell_type": "code",
   "execution_count": 54,
   "metadata": {
    "hideCode": true,
    "hideOutput": true,
    "hidePrompt": true
   },
   "outputs": [
    {
     "data": {
      "text/plain": [
       "given_name       object\n",
       "surname          object\n",
       "street_number    object\n",
       "address_1        object\n",
       "address_2        object\n",
       "suburb           object\n",
       "postcode         object\n",
       "state            object\n",
       "date_of_birth    object\n",
       "soc_sec_id       object\n",
       "dtype: object"
      ]
     },
     "execution_count": 54,
     "metadata": {},
     "output_type": "execute_result"
    }
   ],
   "source": [
    "dfA.dtypes"
   ]
  },
  {
   "cell_type": "code",
   "execution_count": 55,
   "metadata": {
    "hideCode": true,
    "hideOutput": true,
    "hidePrompt": true
   },
   "outputs": [
    {
     "data": {
      "text/html": [
       "<div>\n",
       "<style scoped>\n",
       "    .dataframe tbody tr th:only-of-type {\n",
       "        vertical-align: middle;\n",
       "    }\n",
       "\n",
       "    .dataframe tbody tr th {\n",
       "        vertical-align: top;\n",
       "    }\n",
       "\n",
       "    .dataframe thead th {\n",
       "        text-align: right;\n",
       "    }\n",
       "</style>\n",
       "<table border=\"1\" class=\"dataframe\">\n",
       "  <thead>\n",
       "    <tr style=\"text-align: right;\">\n",
       "      <th></th>\n",
       "      <th>given_name</th>\n",
       "      <th>surname</th>\n",
       "      <th>street_number</th>\n",
       "      <th>address_1</th>\n",
       "      <th>address_2</th>\n",
       "      <th>suburb</th>\n",
       "      <th>postcode</th>\n",
       "      <th>state</th>\n",
       "      <th>date_of_birth</th>\n",
       "      <th>soc_sec_id</th>\n",
       "    </tr>\n",
       "    <tr>\n",
       "      <th>rec_id</th>\n",
       "      <th></th>\n",
       "      <th></th>\n",
       "      <th></th>\n",
       "      <th></th>\n",
       "      <th></th>\n",
       "      <th></th>\n",
       "      <th></th>\n",
       "      <th></th>\n",
       "      <th></th>\n",
       "      <th></th>\n",
       "    </tr>\n",
       "  </thead>\n",
       "  <tbody>\n",
       "    <tr>\n",
       "      <td>rec-561-dup-0</td>\n",
       "      <td>elton</td>\n",
       "      <td>NaN</td>\n",
       "      <td>3</td>\n",
       "      <td>light setreet</td>\n",
       "      <td>pinehill</td>\n",
       "      <td>windermere</td>\n",
       "      <td>3212</td>\n",
       "      <td>vic</td>\n",
       "      <td>19651013</td>\n",
       "      <td>1551941</td>\n",
       "    </tr>\n",
       "    <tr>\n",
       "      <td>rec-2642-dup-0</td>\n",
       "      <td>mitchell</td>\n",
       "      <td>maxon</td>\n",
       "      <td>47</td>\n",
       "      <td>edkins street</td>\n",
       "      <td>lochaoair</td>\n",
       "      <td>north ryde</td>\n",
       "      <td>3355</td>\n",
       "      <td>nsw</td>\n",
       "      <td>19390212</td>\n",
       "      <td>8859999</td>\n",
       "    </tr>\n",
       "    <tr>\n",
       "      <td>rec-608-dup-0</td>\n",
       "      <td>NaN</td>\n",
       "      <td>white</td>\n",
       "      <td>72</td>\n",
       "      <td>lambrigg street</td>\n",
       "      <td>kelgoola</td>\n",
       "      <td>broadbeach waters</td>\n",
       "      <td>3159</td>\n",
       "      <td>vic</td>\n",
       "      <td>19620216</td>\n",
       "      <td>9731855</td>\n",
       "    </tr>\n",
       "    <tr>\n",
       "      <td>rec-3239-dup-0</td>\n",
       "      <td>elk i</td>\n",
       "      <td>menzies</td>\n",
       "      <td>1</td>\n",
       "      <td>lyster place</td>\n",
       "      <td>NaN</td>\n",
       "      <td>northwood</td>\n",
       "      <td>2585</td>\n",
       "      <td>vic</td>\n",
       "      <td>19980624</td>\n",
       "      <td>4970481</td>\n",
       "    </tr>\n",
       "    <tr>\n",
       "      <td>rec-2886-dup-0</td>\n",
       "      <td>NaN</td>\n",
       "      <td>garanggar</td>\n",
       "      <td>NaN</td>\n",
       "      <td>may maxwell crescent</td>\n",
       "      <td>springettst arcade</td>\n",
       "      <td>forest hill</td>\n",
       "      <td>2342</td>\n",
       "      <td>vic</td>\n",
       "      <td>19921016</td>\n",
       "      <td>1366884</td>\n",
       "    </tr>\n",
       "    <tr>\n",
       "      <td>...</td>\n",
       "      <td>...</td>\n",
       "      <td>...</td>\n",
       "      <td>...</td>\n",
       "      <td>...</td>\n",
       "      <td>...</td>\n",
       "      <td>...</td>\n",
       "      <td>...</td>\n",
       "      <td>...</td>\n",
       "      <td>...</td>\n",
       "      <td>...</td>\n",
       "    </tr>\n",
       "    <tr>\n",
       "      <td>rec-4495-dup-0</td>\n",
       "      <td>connor</td>\n",
       "      <td>belperio</td>\n",
       "      <td>15</td>\n",
       "      <td>NaN</td>\n",
       "      <td>NaN</td>\n",
       "      <td>ryde</td>\n",
       "      <td>2570</td>\n",
       "      <td>nsw</td>\n",
       "      <td>19170518</td>\n",
       "      <td>5394641</td>\n",
       "    </tr>\n",
       "    <tr>\n",
       "      <td>rec-4211-dup-0</td>\n",
       "      <td>daniel</td>\n",
       "      <td>maspn</td>\n",
       "      <td>9</td>\n",
       "      <td>derrington crescent</td>\n",
       "      <td>el pedro caravan park</td>\n",
       "      <td>sunnybank</td>\n",
       "      <td>4350</td>\n",
       "      <td>vic</td>\n",
       "      <td>19500705</td>\n",
       "      <td>5525378</td>\n",
       "    </tr>\n",
       "    <tr>\n",
       "      <td>rec-3131-dup-0</td>\n",
       "      <td>samuel</td>\n",
       "      <td>crofs</td>\n",
       "      <td>613</td>\n",
       "      <td>banjine street</td>\n",
       "      <td>kurrajong vlge</td>\n",
       "      <td>pengzin</td>\n",
       "      <td>2230</td>\n",
       "      <td>qld</td>\n",
       "      <td>19410531</td>\n",
       "      <td>4467228</td>\n",
       "    </tr>\n",
       "    <tr>\n",
       "      <td>rec-3815-dup-0</td>\n",
       "      <td>saah</td>\n",
       "      <td>beattih</td>\n",
       "      <td>60</td>\n",
       "      <td>kay's place</td>\n",
       "      <td>oldershaw court</td>\n",
       "      <td>ashfield</td>\n",
       "      <td>2047</td>\n",
       "      <td>vic</td>\n",
       "      <td>19500712</td>\n",
       "      <td>9435148</td>\n",
       "    </tr>\n",
       "    <tr>\n",
       "      <td>rec-493-dup-0</td>\n",
       "      <td>NaN</td>\n",
       "      <td>blackwell</td>\n",
       "      <td>127</td>\n",
       "      <td>ferrier place</td>\n",
       "      <td>northwood npark</td>\n",
       "      <td>chelsea heights</td>\n",
       "      <td>4211</td>\n",
       "      <td>qld</td>\n",
       "      <td>19570409</td>\n",
       "      <td>8541055</td>\n",
       "    </tr>\n",
       "  </tbody>\n",
       "</table>\n",
       "<p>5000 rows × 10 columns</p>\n",
       "</div>"
      ],
      "text/plain": [
       "               given_name    surname street_number             address_1  \\\n",
       "rec_id                                                                     \n",
       "rec-561-dup-0       elton        NaN             3         light setreet   \n",
       "rec-2642-dup-0   mitchell      maxon            47         edkins street   \n",
       "rec-608-dup-0         NaN      white            72       lambrigg street   \n",
       "rec-3239-dup-0      elk i    menzies             1          lyster place   \n",
       "rec-2886-dup-0        NaN  garanggar           NaN  may maxwell crescent   \n",
       "...                   ...        ...           ...                   ...   \n",
       "rec-4495-dup-0     connor   belperio            15                   NaN   \n",
       "rec-4211-dup-0     daniel      maspn             9   derrington crescent   \n",
       "rec-3131-dup-0     samuel      crofs           613        banjine street   \n",
       "rec-3815-dup-0       saah    beattih            60           kay's place   \n",
       "rec-493-dup-0         NaN  blackwell           127         ferrier place   \n",
       "\n",
       "                            address_2             suburb postcode state  \\\n",
       "rec_id                                                                    \n",
       "rec-561-dup-0                pinehill         windermere     3212   vic   \n",
       "rec-2642-dup-0              lochaoair         north ryde     3355   nsw   \n",
       "rec-608-dup-0                kelgoola  broadbeach waters     3159   vic   \n",
       "rec-3239-dup-0                    NaN          northwood     2585   vic   \n",
       "rec-2886-dup-0     springettst arcade        forest hill     2342   vic   \n",
       "...                               ...                ...      ...   ...   \n",
       "rec-4495-dup-0                    NaN               ryde     2570   nsw   \n",
       "rec-4211-dup-0  el pedro caravan park          sunnybank     4350   vic   \n",
       "rec-3131-dup-0         kurrajong vlge            pengzin     2230   qld   \n",
       "rec-3815-dup-0        oldershaw court           ashfield     2047   vic   \n",
       "rec-493-dup-0         northwood npark    chelsea heights     4211   qld   \n",
       "\n",
       "               date_of_birth soc_sec_id  \n",
       "rec_id                                   \n",
       "rec-561-dup-0       19651013    1551941  \n",
       "rec-2642-dup-0      19390212    8859999  \n",
       "rec-608-dup-0       19620216    9731855  \n",
       "rec-3239-dup-0      19980624    4970481  \n",
       "rec-2886-dup-0      19921016    1366884  \n",
       "...                      ...        ...  \n",
       "rec-4495-dup-0      19170518    5394641  \n",
       "rec-4211-dup-0      19500705    5525378  \n",
       "rec-3131-dup-0      19410531    4467228  \n",
       "rec-3815-dup-0      19500712    9435148  \n",
       "rec-493-dup-0       19570409    8541055  \n",
       "\n",
       "[5000 rows x 10 columns]"
      ]
     },
     "execution_count": 55,
     "metadata": {},
     "output_type": "execute_result"
    }
   ],
   "source": [
    "dfB"
   ]
  },
  {
   "cell_type": "code",
   "execution_count": 56,
   "metadata": {
    "hideCode": true,
    "hideOutput": true,
    "hidePrompt": true
   },
   "outputs": [
    {
     "data": {
      "text/plain": [
       "given_name       object\n",
       "surname          object\n",
       "street_number    object\n",
       "address_1        object\n",
       "address_2        object\n",
       "suburb           object\n",
       "postcode         object\n",
       "state            object\n",
       "date_of_birth    object\n",
       "soc_sec_id       object\n",
       "dtype: object"
      ]
     },
     "execution_count": 56,
     "metadata": {},
     "output_type": "execute_result"
    }
   ],
   "source": [
    "dfB.dtypes"
   ]
  },
  {
   "cell_type": "markdown",
   "metadata": {},
   "source": [
    "We notice that the records having the same numeric id represent the same entity."
   ]
  },
  {
   "cell_type": "code",
   "execution_count": 57,
   "metadata": {
    "hideCode": true,
    "hidePrompt": true
   },
   "outputs": [
    {
     "data": {
      "text/plain": [
       "given_name             michaela\n",
       "surname                 neumann\n",
       "street_number                 8\n",
       "address_1        stanley street\n",
       "address_2                 miami\n",
       "suburb            winston hills\n",
       "postcode                   4223\n",
       "state                       nsw\n",
       "date_of_birth          19151111\n",
       "soc_sec_id              5304218\n",
       "Name: rec-1070-org, dtype: object"
      ]
     },
     "execution_count": 57,
     "metadata": {},
     "output_type": "execute_result"
    }
   ],
   "source": [
    "dfA.loc['rec-1070-org']"
   ]
  },
  {
   "cell_type": "code",
   "execution_count": 58,
   "metadata": {
    "hideCode": true,
    "hidePrompt": true
   },
   "outputs": [
    {
     "data": {
      "text/plain": [
       "given_name             michafla\n",
       "surname                 jakimow\n",
       "street_number                 8\n",
       "address_1        stanleykstreet\n",
       "address_2                 miami\n",
       "suburb            winstonbhills\n",
       "postcode                   4223\n",
       "state                       NaN\n",
       "date_of_birth          19151111\n",
       "soc_sec_id              5304218\n",
       "Name: rec-1070-dup-0, dtype: object"
      ]
     },
     "execution_count": 58,
     "metadata": {},
     "output_type": "execute_result"
    }
   ],
   "source": [
    "dfB.loc['rec-1070-dup-0']"
   ]
  },
  {
   "cell_type": "markdown",
   "metadata": {},
   "source": [
    "### Indexing (Full)\n",
    "Indexing is the process of creating all the possible links, also called **candidate links**, between the two datasets. In this specific example, we use a technique called **Full Indexing**, which returns the cartesian products of the records from each dataset."
   ]
  },
  {
   "attachments": {
    "Schermata%202020-02-15%20alle%2010.09.02.png": {
     "image/png": "[encoded data removed]"
    }
   },
   "cell_type": "markdown",
   "metadata": {},
   "source": [
    "![Schermata%202020-02-15%20alle%2010.09.02.png](attachment:Schermata%202020-02-15%20alle%2010.09.02.png)"
   ]
  },
  {
   "cell_type": "code",
   "execution_count": 59,
   "metadata": {
    "hideCode": true,
    "hideOutput": false,
    "hidePrompt": true
   },
   "outputs": [
    {
     "name": "stdout",
     "output_type": "stream",
     "text": [
      "WARNING:recordlinkage:indexing - performance warning - A full index can result in large number of record pairs.\n"
     ]
    },
    {
     "name": "stderr",
     "output_type": "stream",
     "text": [
      "WARNING:recordlinkage:indexing - performance warning - A full index can result in large number of record pairs.\n"
     ]
    },
    {
     "data": {
      "text/plain": [
       "MultiIndex([('rec-1070-org',  'rec-561-dup-0'),\n",
       "            ('rec-1070-org', 'rec-2642-dup-0'),\n",
       "            ('rec-1070-org',  'rec-608-dup-0'),\n",
       "            ('rec-1070-org', 'rec-3239-dup-0'),\n",
       "            ('rec-1070-org', 'rec-2886-dup-0'),\n",
       "            ('rec-1070-org', 'rec-4285-dup-0'),\n",
       "            ('rec-1070-org',  'rec-929-dup-0'),\n",
       "            ('rec-1070-org', 'rec-4833-dup-0'),\n",
       "            ('rec-1070-org',  'rec-717-dup-0'),\n",
       "            ('rec-1070-org', 'rec-3984-dup-0'),\n",
       "            ...\n",
       "            (  'rec-66-org',  'rec-670-dup-0'),\n",
       "            (  'rec-66-org', 'rec-4134-dup-0'),\n",
       "            (  'rec-66-org', 'rec-3866-dup-0'),\n",
       "            (  'rec-66-org', 'rec-3152-dup-0'),\n",
       "            (  'rec-66-org', 'rec-3363-dup-0'),\n",
       "            (  'rec-66-org', 'rec-4495-dup-0'),\n",
       "            (  'rec-66-org', 'rec-4211-dup-0'),\n",
       "            (  'rec-66-org', 'rec-3131-dup-0'),\n",
       "            (  'rec-66-org', 'rec-3815-dup-0'),\n",
       "            (  'rec-66-org',  'rec-493-dup-0')],\n",
       "           names=['rec_id_1', 'rec_id_2'], length=25000000)"
      ]
     },
     "execution_count": 59,
     "metadata": {},
     "output_type": "execute_result"
    }
   ],
   "source": [
    "candidate_links_full = indexing_dataset(dfA, dfB, [], method = 'full')\n",
    "candidate_links_full"
   ]
  },
  {
   "cell_type": "markdown",
   "metadata": {
    "hideOutput": false
   },
   "source": [
    "### Comparison\n",
    "**Comparison** refers to the process of evaluating all the possible candidate links in order to figure out all the attributes having the same value. In order to compare attributes, we need to specify (for each attribute):\n",
    "* A **metric** to be used for evaluating the similarity between each pair of the same attributes of the different dataset\n",
    "* A **threshold** to decide under which circumstances the metric shall return 1 (the similarity is 1 in case of agreement) or 0 (in case of complete disagreement)"
   ]
  },
  {
   "cell_type": "markdown",
   "metadata": {},
   "source": [
    "In this specific example we used the Jaro-Winkler method since, according to the documentation, it is faster than the Levenshtein distance and much faster than the Damerau-Levenshtein distance. Since comparing strings is computationally expensive, we chose a subset of attributes on which some errors are permitted. "
   ]
  },
  {
   "cell_type": "code",
   "execution_count": 60,
   "metadata": {
    "hideCode": true,
    "hideOutput": false,
    "hidePrompt": true
   },
   "outputs": [
    {
     "data": {
      "text/html": [
       "<div>\n",
       "<style scoped>\n",
       "    .dataframe tbody tr th:only-of-type {\n",
       "        vertical-align: middle;\n",
       "    }\n",
       "\n",
       "    .dataframe tbody tr th {\n",
       "        vertical-align: top;\n",
       "    }\n",
       "\n",
       "    .dataframe thead th {\n",
       "        text-align: right;\n",
       "    }\n",
       "</style>\n",
       "<table border=\"1\" class=\"dataframe\">\n",
       "  <thead>\n",
       "    <tr style=\"text-align: right;\">\n",
       "      <th></th>\n",
       "      <th></th>\n",
       "      <th>surname</th>\n",
       "      <th>address_1</th>\n",
       "      <th>address_2</th>\n",
       "      <th>given_name</th>\n",
       "      <th>date_of_birth</th>\n",
       "      <th>suburb</th>\n",
       "      <th>state</th>\n",
       "    </tr>\n",
       "    <tr>\n",
       "      <th>rec_id_1</th>\n",
       "      <th>rec_id_2</th>\n",
       "      <th></th>\n",
       "      <th></th>\n",
       "      <th></th>\n",
       "      <th></th>\n",
       "      <th></th>\n",
       "      <th></th>\n",
       "      <th></th>\n",
       "    </tr>\n",
       "  </thead>\n",
       "  <tbody>\n",
       "    <tr>\n",
       "      <td rowspan=\"5\" valign=\"top\">rec-1070-org</td>\n",
       "      <td>rec-561-dup-0</td>\n",
       "      <td>0.0</td>\n",
       "      <td>0.0</td>\n",
       "      <td>0.0</td>\n",
       "      <td>0</td>\n",
       "      <td>0</td>\n",
       "      <td>0</td>\n",
       "      <td>0</td>\n",
       "    </tr>\n",
       "    <tr>\n",
       "      <td>rec-2642-dup-0</td>\n",
       "      <td>0.0</td>\n",
       "      <td>0.0</td>\n",
       "      <td>0.0</td>\n",
       "      <td>0</td>\n",
       "      <td>0</td>\n",
       "      <td>0</td>\n",
       "      <td>1</td>\n",
       "    </tr>\n",
       "    <tr>\n",
       "      <td>rec-608-dup-0</td>\n",
       "      <td>0.0</td>\n",
       "      <td>0.0</td>\n",
       "      <td>0.0</td>\n",
       "      <td>0</td>\n",
       "      <td>0</td>\n",
       "      <td>0</td>\n",
       "      <td>0</td>\n",
       "    </tr>\n",
       "    <tr>\n",
       "      <td>rec-3239-dup-0</td>\n",
       "      <td>0.0</td>\n",
       "      <td>0.0</td>\n",
       "      <td>0.0</td>\n",
       "      <td>0</td>\n",
       "      <td>0</td>\n",
       "      <td>0</td>\n",
       "      <td>0</td>\n",
       "    </tr>\n",
       "    <tr>\n",
       "      <td>rec-2886-dup-0</td>\n",
       "      <td>0.0</td>\n",
       "      <td>0.0</td>\n",
       "      <td>0.0</td>\n",
       "      <td>0</td>\n",
       "      <td>0</td>\n",
       "      <td>0</td>\n",
       "      <td>0</td>\n",
       "    </tr>\n",
       "    <tr>\n",
       "      <td>...</td>\n",
       "      <td>...</td>\n",
       "      <td>...</td>\n",
       "      <td>...</td>\n",
       "      <td>...</td>\n",
       "      <td>...</td>\n",
       "      <td>...</td>\n",
       "      <td>...</td>\n",
       "      <td>...</td>\n",
       "    </tr>\n",
       "    <tr>\n",
       "      <td rowspan=\"5\" valign=\"top\">rec-66-org</td>\n",
       "      <td>rec-4495-dup-0</td>\n",
       "      <td>0.0</td>\n",
       "      <td>0.0</td>\n",
       "      <td>0.0</td>\n",
       "      <td>0</td>\n",
       "      <td>0</td>\n",
       "      <td>0</td>\n",
       "      <td>1</td>\n",
       "    </tr>\n",
       "    <tr>\n",
       "      <td>rec-4211-dup-0</td>\n",
       "      <td>0.0</td>\n",
       "      <td>0.0</td>\n",
       "      <td>0.0</td>\n",
       "      <td>0</td>\n",
       "      <td>0</td>\n",
       "      <td>0</td>\n",
       "      <td>0</td>\n",
       "    </tr>\n",
       "    <tr>\n",
       "      <td>rec-3131-dup-0</td>\n",
       "      <td>0.0</td>\n",
       "      <td>0.0</td>\n",
       "      <td>0.0</td>\n",
       "      <td>0</td>\n",
       "      <td>0</td>\n",
       "      <td>0</td>\n",
       "      <td>0</td>\n",
       "    </tr>\n",
       "    <tr>\n",
       "      <td>rec-3815-dup-0</td>\n",
       "      <td>0.0</td>\n",
       "      <td>0.0</td>\n",
       "      <td>0.0</td>\n",
       "      <td>0</td>\n",
       "      <td>0</td>\n",
       "      <td>0</td>\n",
       "      <td>0</td>\n",
       "    </tr>\n",
       "    <tr>\n",
       "      <td>rec-493-dup-0</td>\n",
       "      <td>0.0</td>\n",
       "      <td>0.0</td>\n",
       "      <td>0.0</td>\n",
       "      <td>0</td>\n",
       "      <td>0</td>\n",
       "      <td>0</td>\n",
       "      <td>0</td>\n",
       "    </tr>\n",
       "  </tbody>\n",
       "</table>\n",
       "<p>25000000 rows × 7 columns</p>\n",
       "</div>"
      ],
      "text/plain": [
       "                             surname  address_1  address_2  given_name  \\\n",
       "rec_id_1     rec_id_2                                                    \n",
       "rec-1070-org rec-561-dup-0       0.0        0.0        0.0           0   \n",
       "             rec-2642-dup-0      0.0        0.0        0.0           0   \n",
       "             rec-608-dup-0       0.0        0.0        0.0           0   \n",
       "             rec-3239-dup-0      0.0        0.0        0.0           0   \n",
       "             rec-2886-dup-0      0.0        0.0        0.0           0   \n",
       "...                              ...        ...        ...         ...   \n",
       "rec-66-org   rec-4495-dup-0      0.0        0.0        0.0           0   \n",
       "             rec-4211-dup-0      0.0        0.0        0.0           0   \n",
       "             rec-3131-dup-0      0.0        0.0        0.0           0   \n",
       "             rec-3815-dup-0      0.0        0.0        0.0           0   \n",
       "             rec-493-dup-0       0.0        0.0        0.0           0   \n",
       "\n",
       "                             date_of_birth  suburb  state  \n",
       "rec_id_1     rec_id_2                                      \n",
       "rec-1070-org rec-561-dup-0               0       0      0  \n",
       "             rec-2642-dup-0              0       0      1  \n",
       "             rec-608-dup-0               0       0      0  \n",
       "             rec-3239-dup-0              0       0      0  \n",
       "             rec-2886-dup-0              0       0      0  \n",
       "...                                    ...     ...    ...  \n",
       "rec-66-org   rec-4495-dup-0              0       0      1  \n",
       "             rec-4211-dup-0              0       0      0  \n",
       "             rec-3131-dup-0              0       0      0  \n",
       "             rec-3815-dup-0              0       0      0  \n",
       "             rec-493-dup-0               0       0      0  \n",
       "\n",
       "[25000000 rows x 7 columns]"
      ]
     },
     "execution_count": 60,
     "metadata": {},
     "output_type": "execute_result"
    }
   ],
   "source": [
    "comparison = {'surname':['jarowinkler',0.85],\n",
    "              'address_1':['jarowinkler',0.85], \n",
    "              'address_2':['jarowinkler',0.85] }\n",
    "exact = ['given_name', 'date_of_birth', 'suburb', 'state']\n",
    "\n",
    "features_full = compare_records(candidate_links_full, dfA, dfB, comparison, exact)\n",
    "features_full"
   ]
  },
  {
   "cell_type": "markdown",
   "metadata": {},
   "source": [
    "**Note**: no cardinality reduction is employed. The output of indexing phase has the same cardinality of the comparison phase. The columns represent the results of the comparison."
   ]
  },
  {
   "cell_type": "markdown",
   "metadata": {},
   "source": [
    "### Classification\n",
    "In this phase, candidate links are classified into matches or non-matches. We analyze 3 different classification methods:\n",
    "- **Deterministic approach** (no Machine Learning used)\n",
    "- **Naive Bayes** (Supervised Learning)\n",
    "- **Expectation-Conditional Maximisation** (Unsupervised Learning)\n",
    "\n",
    "#### Deterministic approach\n",
    "\n",
    "In the deterministic approach, we consider all the records that agree on at least a certain amount of attributes according to the rules we have previously specified."
   ]
  },
  {
   "cell_type": "code",
   "execution_count": 61,
   "metadata": {
    "hideCode": true,
    "hidePrompt": true
   },
   "outputs": [
    {
     "data": {
      "text/plain": [
       "7.0        1304\n",
       "6.0        1860\n",
       "5.0        1260\n",
       "4.0         441\n",
       "3.0         452\n",
       "2.0       69727\n",
       "1.0     5634539\n",
       "0.0    19290417\n",
       "dtype: int64"
      ]
     },
     "execution_count": 61,
     "metadata": {},
     "output_type": "execute_result"
    }
   ],
   "source": [
    "# Sum the comparison results.\n",
    "features_full.sum(axis=1).value_counts().sort_index(ascending=False)"
   ]
  },
  {
   "cell_type": "markdown",
   "metadata": {},
   "source": [
    "We notice that 1304 records have 7 common attributes, according to the comparison metrics that we chose. 1860 records have 6 common attributes instead, and so on."
   ]
  },
  {
   "cell_type": "code",
   "execution_count": 62,
   "metadata": {
    "hideCode": true,
    "hideOutput": true,
    "hidePrompt": true
   },
   "outputs": [
    {
     "data": {
      "text/plain": [
       "7.0     0.005216\n",
       "6.0     0.007440\n",
       "5.0     0.005040\n",
       "4.0     0.001764\n",
       "3.0     0.001808\n",
       "2.0     0.278908\n",
       "1.0    22.538156\n",
       "0.0    77.161668\n",
       "dtype: float64"
      ]
     },
     "execution_count": 62,
     "metadata": {},
     "output_type": "execute_result"
    }
   ],
   "source": [
    "# Percentage of the comparison results.\n",
    "(features_full.sum(axis=1).value_counts() / len(candidate_links_full) * 100).sort_index(ascending=False) "
   ]
  },
  {
   "cell_type": "markdown",
   "metadata": {
    "hideOutput": false
   },
   "source": [
    "We consider a match all the pairs that agree on at least 4 attributes. In the following table, the matches according to this rule are shown."
   ]
  },
  {
   "cell_type": "code",
   "execution_count": 63,
   "metadata": {
    "hideCode": true,
    "hideOutput": false,
    "hidePrompt": true
   },
   "outputs": [
    {
     "data": {
      "text/html": [
       "<div>\n",
       "<style scoped>\n",
       "    .dataframe tbody tr th:only-of-type {\n",
       "        vertical-align: middle;\n",
       "    }\n",
       "\n",
       "    .dataframe tbody tr th {\n",
       "        vertical-align: top;\n",
       "    }\n",
       "\n",
       "    .dataframe thead th {\n",
       "        text-align: right;\n",
       "    }\n",
       "</style>\n",
       "<table border=\"1\" class=\"dataframe\">\n",
       "  <thead>\n",
       "    <tr style=\"text-align: right;\">\n",
       "      <th></th>\n",
       "      <th></th>\n",
       "      <th>surname</th>\n",
       "      <th>address_1</th>\n",
       "      <th>address_2</th>\n",
       "      <th>given_name</th>\n",
       "      <th>date_of_birth</th>\n",
       "      <th>suburb</th>\n",
       "      <th>state</th>\n",
       "    </tr>\n",
       "    <tr>\n",
       "      <th>rec_id_1</th>\n",
       "      <th>rec_id_2</th>\n",
       "      <th></th>\n",
       "      <th></th>\n",
       "      <th></th>\n",
       "      <th></th>\n",
       "      <th></th>\n",
       "      <th></th>\n",
       "      <th></th>\n",
       "    </tr>\n",
       "  </thead>\n",
       "  <tbody>\n",
       "    <tr>\n",
       "      <td>rec-1016-org</td>\n",
       "      <td>rec-1016-dup-0</td>\n",
       "      <td>1.0</td>\n",
       "      <td>1.0</td>\n",
       "      <td>0.0</td>\n",
       "      <td>1</td>\n",
       "      <td>1</td>\n",
       "      <td>1</td>\n",
       "      <td>0</td>\n",
       "    </tr>\n",
       "    <tr>\n",
       "      <td>rec-4405-org</td>\n",
       "      <td>rec-4405-dup-0</td>\n",
       "      <td>1.0</td>\n",
       "      <td>1.0</td>\n",
       "      <td>1.0</td>\n",
       "      <td>1</td>\n",
       "      <td>1</td>\n",
       "      <td>1</td>\n",
       "      <td>1</td>\n",
       "    </tr>\n",
       "    <tr>\n",
       "      <td>rec-1288-org</td>\n",
       "      <td>rec-1288-dup-0</td>\n",
       "      <td>1.0</td>\n",
       "      <td>1.0</td>\n",
       "      <td>1.0</td>\n",
       "      <td>1</td>\n",
       "      <td>1</td>\n",
       "      <td>0</td>\n",
       "      <td>1</td>\n",
       "    </tr>\n",
       "    <tr>\n",
       "      <td>rec-3585-org</td>\n",
       "      <td>rec-3585-dup-0</td>\n",
       "      <td>1.0</td>\n",
       "      <td>1.0</td>\n",
       "      <td>1.0</td>\n",
       "      <td>1</td>\n",
       "      <td>1</td>\n",
       "      <td>1</td>\n",
       "      <td>1</td>\n",
       "    </tr>\n",
       "    <tr>\n",
       "      <td>rec-298-org</td>\n",
       "      <td>rec-298-dup-0</td>\n",
       "      <td>1.0</td>\n",
       "      <td>0.0</td>\n",
       "      <td>0.0</td>\n",
       "      <td>1</td>\n",
       "      <td>1</td>\n",
       "      <td>1</td>\n",
       "      <td>1</td>\n",
       "    </tr>\n",
       "    <tr>\n",
       "      <td>...</td>\n",
       "      <td>...</td>\n",
       "      <td>...</td>\n",
       "      <td>...</td>\n",
       "      <td>...</td>\n",
       "      <td>...</td>\n",
       "      <td>...</td>\n",
       "      <td>...</td>\n",
       "      <td>...</td>\n",
       "    </tr>\n",
       "    <tr>\n",
       "      <td>rec-2153-org</td>\n",
       "      <td>rec-2153-dup-0</td>\n",
       "      <td>1.0</td>\n",
       "      <td>0.0</td>\n",
       "      <td>0.0</td>\n",
       "      <td>0</td>\n",
       "      <td>1</td>\n",
       "      <td>1</td>\n",
       "      <td>1</td>\n",
       "    </tr>\n",
       "    <tr>\n",
       "      <td>rec-1604-org</td>\n",
       "      <td>rec-1604-dup-0</td>\n",
       "      <td>0.0</td>\n",
       "      <td>1.0</td>\n",
       "      <td>1.0</td>\n",
       "      <td>0</td>\n",
       "      <td>1</td>\n",
       "      <td>1</td>\n",
       "      <td>1</td>\n",
       "    </tr>\n",
       "    <tr>\n",
       "      <td>rec-1003-org</td>\n",
       "      <td>rec-1003-dup-0</td>\n",
       "      <td>0.0</td>\n",
       "      <td>1.0</td>\n",
       "      <td>1.0</td>\n",
       "      <td>0</td>\n",
       "      <td>1</td>\n",
       "      <td>0</td>\n",
       "      <td>1</td>\n",
       "    </tr>\n",
       "    <tr>\n",
       "      <td>rec-4883-org</td>\n",
       "      <td>rec-4883-dup-0</td>\n",
       "      <td>1.0</td>\n",
       "      <td>1.0</td>\n",
       "      <td>1.0</td>\n",
       "      <td>1</td>\n",
       "      <td>1</td>\n",
       "      <td>1</td>\n",
       "      <td>1</td>\n",
       "    </tr>\n",
       "    <tr>\n",
       "      <td>rec-66-org</td>\n",
       "      <td>rec-66-dup-0</td>\n",
       "      <td>1.0</td>\n",
       "      <td>1.0</td>\n",
       "      <td>1.0</td>\n",
       "      <td>1</td>\n",
       "      <td>1</td>\n",
       "      <td>1</td>\n",
       "      <td>1</td>\n",
       "    </tr>\n",
       "  </tbody>\n",
       "</table>\n",
       "<p>4865 rows × 7 columns</p>\n",
       "</div>"
      ],
      "text/plain": [
       "                             surname  address_1  address_2  given_name  \\\n",
       "rec_id_1     rec_id_2                                                    \n",
       "rec-1016-org rec-1016-dup-0      1.0        1.0        0.0           1   \n",
       "rec-4405-org rec-4405-dup-0      1.0        1.0        1.0           1   \n",
       "rec-1288-org rec-1288-dup-0      1.0        1.0        1.0           1   \n",
       "rec-3585-org rec-3585-dup-0      1.0        1.0        1.0           1   \n",
       "rec-298-org  rec-298-dup-0       1.0        0.0        0.0           1   \n",
       "...                              ...        ...        ...         ...   \n",
       "rec-2153-org rec-2153-dup-0      1.0        0.0        0.0           0   \n",
       "rec-1604-org rec-1604-dup-0      0.0        1.0        1.0           0   \n",
       "rec-1003-org rec-1003-dup-0      0.0        1.0        1.0           0   \n",
       "rec-4883-org rec-4883-dup-0      1.0        1.0        1.0           1   \n",
       "rec-66-org   rec-66-dup-0        1.0        1.0        1.0           1   \n",
       "\n",
       "                             date_of_birth  suburb  state  \n",
       "rec_id_1     rec_id_2                                      \n",
       "rec-1016-org rec-1016-dup-0              1       1      0  \n",
       "rec-4405-org rec-4405-dup-0              1       1      1  \n",
       "rec-1288-org rec-1288-dup-0              1       0      1  \n",
       "rec-3585-org rec-3585-dup-0              1       1      1  \n",
       "rec-298-org  rec-298-dup-0               1       1      1  \n",
       "...                                    ...     ...    ...  \n",
       "rec-2153-org rec-2153-dup-0              1       1      1  \n",
       "rec-1604-org rec-1604-dup-0              1       1      1  \n",
       "rec-1003-org rec-1003-dup-0              1       0      1  \n",
       "rec-4883-org rec-4883-dup-0              1       1      1  \n",
       "rec-66-org   rec-66-dup-0                1       1      1  \n",
       "\n",
       "[4865 rows x 7 columns]"
      ]
     },
     "execution_count": 63,
     "metadata": {},
     "output_type": "execute_result"
    }
   ],
   "source": [
    "links_noml_full = features_full[features_full.sum(axis=1) >= 4]\n",
    "links_noml_full"
   ]
  },
  {
   "cell_type": "markdown",
   "metadata": {},
   "source": [
    "#### Naive Bayes\n",
    "Naive Bayes is a supervised-learning algorithm that provides a method for computing the probability of a given hypotesis on prior knowledge. It is based on the assumption that all features are conditionally independent."
   ]
  },
  {
   "cell_type": "markdown",
   "metadata": {},
   "source": [
    "We initialise the NaiveBayesClassifier."
   ]
  },
  {
   "cell_type": "code",
   "execution_count": 64,
   "metadata": {
    "hideCode": false,
    "hideOutput": false,
    "hidePrompt": true
   },
   "outputs": [],
   "source": [
    "nb_full = rl.NaiveBayesClassifier()\n",
    "nb_full.fit(features_full, true_links)"
   ]
  },
  {
   "cell_type": "markdown",
   "metadata": {},
   "source": [
    "We print also the parameters that are trained.\n",
    "- p is the probability P(Match)\n",
    "- m is the probability that P(x_i=1|Match)\n",
    "- u is the probability that P(x_i=1|Non-Match)"
   ]
  },
  {
   "cell_type": "code",
   "execution_count": 65,
   "metadata": {
    "hideCode": false,
    "hideOutput": false,
    "hidePrompt": true
   },
   "outputs": [
    {
     "name": "stdout",
     "output_type": "stream",
     "text": [
      "p probability P(Match): 0.00019999999999999985\n",
      "\n",
      "m probabilities P(x_i=1|Match): {'surname': {0.0: 0.14700001411999955, 1.0: 0.8529999858800007}, 'address_1': {0.0: 0.11280001548799944, 1.0: 0.8871999845120011}, 'address_2': {0.0: 0.23020001079199967, 1.0: 0.7697999892080011}, 'given_name': {0.0: 0.3426000062959999, 1.0: 0.6573999937040006}, 'date_of_birth': {0.0: 0.10620001575199943, 1.0: 0.8937999842480008}, 'suburb': {0.0: 0.25420000983199964, 1.0: 0.7457999901680004}, 'state': {0.0: 0.05860001765599933, 1.0: 0.9413999823440014}}\n",
      "\n",
      "u probabilities P(x_i=1|Non-Match): {'surname': {0.0: 0.9951189437847974, 1.0: 0.004881056215203998}, 'address_1': {0.0: 0.9971519903941033, 1.0: 0.0028480096058983977}, 'address_2': {0.0: 0.9987709141788471, 1.0: 0.0012290858211543999}, 'given_name': {0.0: 0.9970409281816627, 1.0: 0.002959071818339998}, 'date_of_birth': {0.0: 0.9999744748909813, 1.0: 2.5525109021600138e-05}, 'suburb': {0.0: 0.9991115823124727, 1.0: 0.0008884176875304002}, 'state': {0.0: 0.7817865973172118, 1.0: 0.21821340268279102}}\n",
      "\n",
      "weights of features: {'surname': {0.0: 0.14772104886367185, 1.0: 174.75725504307687}, 'address_1': {0.0: 0.11312218856768025, 1.0: 311.5157977959615}, 'address_2': {0.0: 0.230483294541333, 1.0: 626.3191519734385}, 'given_name': {0.0: 0.34361679306466497, 1.0: 222.1642575991257}, 'date_of_birth': {0.0: 0.10620272658817369, 1.0: 35016.50016427509}, 'suburb': {0.0: 0.2544260464318173, 1.0: 839.4699932653922}, 'state': {0.0: 0.07495653910810424, 1.0: 4.31412539637852}}\n"
     ]
    }
   ],
   "source": [
    "print(\"p probability P(Match):\", nb_full.p)\n",
    "print()\n",
    "print(\"m probabilities P(x_i=1|Match):\", nb_full.m_probs)\n",
    "print()\n",
    "print(\"u probabilities P(x_i=1|Non-Match):\", nb_full.u_probs)\n",
    "print()\n",
    "print(\"weights of features:\", nb_full.weights)"
   ]
  },
  {
   "cell_type": "markdown",
   "metadata": {},
   "source": [
    "We tried to predict the matches starting by the output of the comparison phase, using the trained model. We know from the documentation that the total matches are 5000 and our model found 4958."
   ]
  },
  {
   "cell_type": "code",
   "execution_count": 66,
   "metadata": {
    "hideCode": true,
    "hidePrompt": true
   },
   "outputs": [
    {
     "name": "stdout",
     "output_type": "stream",
     "text": [
      "Predicted number of links: 4958\n"
     ]
    }
   ],
   "source": [
    "# Evaluate the model\n",
    "links_bayes_full = nb_full.predict(features_full)\n",
    "print(\"Predicted number of links:\", len(links_bayes_full))"
   ]
  },
  {
   "cell_type": "markdown",
   "metadata": {},
   "source": [
    "We predict the match probability for each pair in the dataset, since we apply the Full index method."
   ]
  },
  {
   "cell_type": "code",
   "execution_count": 67,
   "metadata": {
    "hideCode": false,
    "hidePrompt": true
   },
   "outputs": [
    {
     "data": {
      "text/plain": [
       "rec_id_1      rec_id_2      \n",
       "rec-1070-org  rec-561-dup-0     5.362010e-10\n",
       "              rec-2642-dup-0    3.086106e-08\n",
       "              rec-608-dup-0     5.362010e-10\n",
       "              rec-3239-dup-0    5.362010e-10\n",
       "              rec-2886-dup-0    5.362010e-10\n",
       "                                    ...     \n",
       "rec-66-org    rec-4495-dup-0    3.086106e-08\n",
       "              rec-4211-dup-0    5.362010e-10\n",
       "              rec-3131-dup-0    5.362010e-10\n",
       "              rec-3815-dup-0    5.362010e-10\n",
       "              rec-493-dup-0     5.362010e-10\n",
       "Length: 25000000, dtype: float64"
      ]
     },
     "execution_count": 67,
     "metadata": {},
     "output_type": "execute_result"
    }
   ],
   "source": [
    "probs_bayes_full = nb_full.prob(features_full)\n",
    "probs_bayes_full"
   ]
  },
  {
   "cell_type": "markdown",
   "metadata": {},
   "source": [
    "#### Expectation-Conditional Maximisation\n",
    "Unsupervised learning with the ECM algorithm. This classifier doesn’t need training data since it is often hard to collect."
   ]
  },
  {
   "cell_type": "markdown",
   "metadata": {},
   "source": [
    "We initialise the Expectation-Conditional Maximisation classifier."
   ]
  },
  {
   "cell_type": "code",
   "execution_count": 68,
   "metadata": {
    "hideCode": false,
    "hideOutput": true,
    "hidePrompt": true
   },
   "outputs": [],
   "source": [
    "ecm_full = rl.ECMClassifier()\n",
    "ecm_full.fit(features_full)"
   ]
  },
  {
   "cell_type": "markdown",
   "metadata": {},
   "source": [
    "We print the parameters that are trained (m, u and p)."
   ]
  },
  {
   "cell_type": "code",
   "execution_count": 69,
   "metadata": {
    "hideCode": true,
    "hidePrompt": true
   },
   "outputs": [
    {
     "name": "stdout",
     "output_type": "stream",
     "text": [
      "p probability P(Match): 0.00019964038993562045\n",
      "\n",
      "m probabilities P(x_i=1|Match): {'surname': {0.0: 0.14559845395438062, 1.0: 0.8544015460456198}, 'address_1': {0.0: 0.11167423011028436, 1.0: 0.8883257698897149}, 'address_2': {0.0: 0.22930633589775026, 1.0: 0.7706936641022502}, 'given_name': {0.0: 0.3415113651654586, 1.0: 0.6584886348345418}, 'date_of_birth': {0.0: 0.10497269467212568, 1.0: 0.8950273053278734}, 'suburb': {0.0: 0.25371788422318436, 1.0: 0.7462821157768156}, 'state': {0.0: 0.05893559457665887, 1.0: 0.9410644054233418}}\n",
      "\n",
      "u probabilities P(x_i=1|Non-Match): {'surname': {0.0: 0.9951189185968193, 1.0: 0.0048810814031804844}, 'address_1': {0.0: 0.9971518971067167, 1.0: 0.002848102893281545}, 'address_2': {0.0: 0.9987708161888874, 1.0: 0.0012291838111130658}, 'given_name': {0.0: 0.9970409101739776, 1.0: 0.0029590898260201783}, 'date_of_birth': {0.0: 0.9999743984891409, 1.0: 2.5601510856925678e-05}, 'suburb': {0.0: 0.9991114106542701, 1.0: 0.0008885893457278089}, 'state': {0.0: 0.7817862701907439, 1.0: 0.21821372980925488}}\n",
      "\n",
      "weights of features: {'surname': {0.0: 0.1463126177519403, 1.0: 175.04349456022118}, 'address_1': {0.0: 0.11199319826228323, 1.0: 311.9008698685735}, 'address_2': {0.0: 0.22958854241730656, 1.0: 626.996269503714}, 'given_name': {0.0: 0.3425249271926735, 1.0: 222.53080289900313}, 'date_of_birth': {0.0: 0.10497538220051303, 1.0: 34959.94085387161}, 'suburb': {0.0: 0.253943535743463, 1.0: 839.8503981223914}, 'state': {0.0: 0.07538581428691435, 1.0: 4.312581093068459}}\n"
     ]
    }
   ],
   "source": [
    "print(\"p probability P(Match):\", ecm_full.p)\n",
    "print()\n",
    "print(\"m probabilities P(x_i=1|Match):\", ecm_full.m_probs)\n",
    "print()\n",
    "print(\"u probabilities P(x_i=1|Non-Match):\", ecm_full.u_probs)\n",
    "print()\n",
    "print(\"weights of features:\", ecm_full.weights)"
   ]
  },
  {
   "cell_type": "code",
   "execution_count": 70,
   "metadata": {
    "hideCode": true,
    "hidePrompt": true
   },
   "outputs": [
    {
     "name": "stdout",
     "output_type": "stream",
     "text": [
      "Predicted number of links: 4958\n"
     ]
    }
   ],
   "source": [
    "# evaluate the model\n",
    "links_ecm_full = ecm_full.predict(features_full)\n",
    "print(\"Predicted number of links:\", len(links_ecm_full))"
   ]
  },
  {
   "cell_type": "code",
   "execution_count": 71,
   "metadata": {
    "hideCode": true,
    "hideOutput": false,
    "hidePrompt": true
   },
   "outputs": [
    {
     "name": "stdout",
     "output_type": "stream",
     "text": [
      "rec_id_1      rec_id_2      \n",
      "rec-1070-org  rec-561-dup-0     5.170889e-10\n",
      "              rec-2642-dup-0    2.958100e-08\n",
      "              rec-608-dup-0     5.170889e-10\n",
      "              rec-3239-dup-0    5.170889e-10\n",
      "              rec-2886-dup-0    5.170889e-10\n",
      "                                    ...     \n",
      "rec-66-org    rec-4495-dup-0    2.958100e-08\n",
      "              rec-4211-dup-0    5.170889e-10\n",
      "              rec-3131-dup-0    5.170889e-10\n",
      "              rec-3815-dup-0    5.170889e-10\n",
      "              rec-493-dup-0     5.170889e-10\n",
      "Length: 25000000, dtype: float64\n"
     ]
    }
   ],
   "source": [
    "# Predict the match probability for each pair in the dataset.\n",
    "probs_ecm_full = ecm_full.prob(features_full)\n",
    "print(probs_ecm_full)"
   ]
  },
  {
   "cell_type": "markdown",
   "metadata": {},
   "source": [
    "### Evaluation\n",
    "We compare the results of the deterministic method and the two ML-based ones (Naive Bayes and ECM)"
   ]
  },
  {
   "attachments": {
    "Schermata%202020-02-15%20alle%2011.43.22.png": {
     "image/png": "[encoded data removed]"
    }
   },
   "cell_type": "markdown",
   "metadata": {},
   "source": [
    "![Schermata%202020-02-15%20alle%2011.43.22.png](attachment:Schermata%202020-02-15%20alle%2011.43.22.png)"
   ]
  },
  {
   "cell_type": "code",
   "execution_count": 72,
   "metadata": {
    "hideCode": true,
    "hidePrompt": true
   },
   "outputs": [
    {
     "name": "stdout",
     "output_type": "stream",
     "text": [
      "Deterministic approach \n",
      "\n",
      "Confusion matrix: \n",
      " [[    4865      135]\n",
      " [       0 24995000]]\n",
      "Fscore: 0.9863152559553979\n",
      "Recall: 0.973\n",
      "Precision: 1.0\n"
     ]
    }
   ],
   "source": [
    "cm_noml_full, fscore_noml_full, recall_noml_full, precision_noml_full = evaluate_results(true_links, \n",
    "                                                                                         links_noml_full, \n",
    "                                                                                         len(candidate_links_full))\n",
    "print(\"Deterministic approach \\n\")\n",
    "print('Confusion matrix: \\n', cm_noml_full)\n",
    "print('Fscore:',fscore_noml_full)\n",
    "print('Recall:',recall_noml_full)\n",
    "print('Precision:',precision_noml_full)"
   ]
  },
  {
   "cell_type": "code",
   "execution_count": 73,
   "metadata": {
    "hideCode": true,
    "hidePrompt": true
   },
   "outputs": [
    {
     "name": "stdout",
     "output_type": "stream",
     "text": [
      "Naive Bayes \n",
      "\n",
      "Confusion matrix: \n",
      " [[    4954       46]\n",
      " [       4 24994996]]\n",
      "Fscore: 0.9949789114279977\n",
      "Recall: 0.9908\n",
      "Precision: 0.9991932230738201\n"
     ]
    }
   ],
   "source": [
    "cm_nb_full, fscore_nb_full, recall_nb_full, precision_nb_full = evaluate_results(true_links, \n",
    "                                                                                 links_bayes_full, \n",
    "                                                                                 len(candidate_links_full))\n",
    "print(\"Naive Bayes \\n\")\n",
    "print('Confusion matrix: \\n', cm_nb_full)\n",
    "print('Fscore:', fscore_nb_full)\n",
    "print('Recall:', recall_nb_full)\n",
    "print('Precision:', precision_nb_full)"
   ]
  },
  {
   "cell_type": "code",
   "execution_count": 74,
   "metadata": {
    "hideCode": true,
    "hidePrompt": true
   },
   "outputs": [
    {
     "name": "stdout",
     "output_type": "stream",
     "text": [
      "Expectation-Conditional Maximisation \n",
      "\n",
      "Confusion matrix: \n",
      " [[    4954       46]\n",
      " [       4 24994996]]\n",
      "Fscore: 0.9949789114279977\n",
      "Recall: 0.9908\n",
      "Precision: 0.9991932230738201\n"
     ]
    }
   ],
   "source": [
    "cm_ecm_full, fscore_ecm_full, recall_ecm_full, precision_ecm_full = evaluate_results(true_links, \n",
    "                                                                                     links_ecm_full, \n",
    "                                                                                     len(candidate_links_full))\n",
    "print(\"Expectation-Conditional Maximisation \\n\")\n",
    "print('Confusion matrix: \\n', cm_ecm_full)\n",
    "print('Fscore:',fscore_ecm_full)\n",
    "print('Recall:',recall_ecm_full)\n",
    "print('Precision:',precision_ecm_full)"
   ]
  },
  {
   "cell_type": "markdown",
   "metadata": {},
   "source": [
    "## Experiment 2 : Using a Block index\n",
    "\n",
    "### Indexing (Block)\n",
    "Indexing is the process of creating all the possible links between the two datasets. In this specific example, we use a technique called **Blocking**, which groups together all the records that agree on AT LEAST one of the specified attributes.\n",
    "\n",
    "We have decided to use **surname**, **date_of_birth** and **soc_sec_id** as discriminating variables. By doing that, the resulting records will agree on at least one of these attributes."
   ]
  },
  {
   "cell_type": "markdown",
   "metadata": {},
   "source": [
    "**Note**: the cardinality using the Block index method is way less than the Full index method. "
   ]
  },
  {
   "cell_type": "code",
   "execution_count": 75,
   "metadata": {
    "hideCode": true,
    "hideOutput": false,
    "hidePrompt": true
   },
   "outputs": [
    {
     "data": {
      "text/plain": [
       "MultiIndex([(  'rec-0-org',    'rec-0-dup-0'),\n",
       "            (  'rec-0-org', 'rec-1505-dup-0'),\n",
       "            (  'rec-0-org', 'rec-1636-dup-0'),\n",
       "            (  'rec-0-org', 'rec-2074-dup-0'),\n",
       "            (  'rec-0-org', 'rec-2683-dup-0'),\n",
       "            (  'rec-0-org', 'rec-2724-dup-0'),\n",
       "            (  'rec-0-org', 'rec-2894-dup-0'),\n",
       "            (  'rec-1-org',    'rec-1-dup-0'),\n",
       "            (  'rec-1-org', 'rec-1052-dup-0'),\n",
       "            (  'rec-1-org', 'rec-2552-dup-0'),\n",
       "            ...\n",
       "            ('rec-999-org', 'rec-3685-dup-0'),\n",
       "            ('rec-999-org',  'rec-370-dup-0'),\n",
       "            ('rec-999-org', 'rec-3766-dup-0'),\n",
       "            ('rec-999-org', 'rec-3862-dup-0'),\n",
       "            ('rec-999-org', 'rec-3913-dup-0'),\n",
       "            ('rec-999-org', 'rec-3940-dup-0'),\n",
       "            ('rec-999-org', 'rec-4941-dup-0'),\n",
       "            ('rec-999-org',  'rec-859-dup-0'),\n",
       "            ('rec-999-org',  'rec-911-dup-0'),\n",
       "            ('rec-999-org',  'rec-999-dup-0')],\n",
       "           names=['rec_id_1', 'rec_id_2'], length=87132)"
      ]
     },
     "execution_count": 75,
     "metadata": {},
     "output_type": "execute_result"
    }
   ],
   "source": [
    "candidate_links_block = indexing_dataset(dfA, dfB, ['surname', 'date_of_birth', 'soc_sec_id'])\n",
    "candidate_links_block"
   ]
  },
  {
   "cell_type": "markdown",
   "metadata": {
    "hideCode": false,
    "hideOutput": false,
    "hidePrompt": true
   },
   "source": [
    "We verify that a pair of candidate links agree on the given attributes:"
   ]
  },
  {
   "cell_type": "code",
   "execution_count": 76,
   "metadata": {
    "hideCode": true,
    "hideOutput": false,
    "hidePrompt": true
   },
   "outputs": [
    {
     "data": {
      "text/plain": [
       "given_name               rachael\n",
       "surname                     dent\n",
       "street_number                  1\n",
       "address_1            knox street\n",
       "address_2        lakewood estate\n",
       "suburb                    byford\n",
       "postcode                    4129\n",
       "state                        vic\n",
       "date_of_birth           19280722\n",
       "soc_sec_id               1683994\n",
       "Name: rec-0-org, dtype: object"
      ]
     },
     "execution_count": 76,
     "metadata": {},
     "output_type": "execute_result"
    }
   ],
   "source": [
    "dfA.loc[candidate_links_block[0][0]]"
   ]
  },
  {
   "cell_type": "code",
   "execution_count": 77,
   "metadata": {
    "hideCode": true,
    "hideOutput": false,
    "hidePrompt": true
   },
   "outputs": [
    {
     "data": {
      "text/plain": [
       "given_name               rachael\n",
       "surname                     dent\n",
       "street_number                  4\n",
       "address_1            knox street\n",
       "address_2        lakewood estate\n",
       "suburb                    byford\n",
       "postcode                    4129\n",
       "state                        vic\n",
       "date_of_birth           19280722\n",
       "soc_sec_id               1683994\n",
       "Name: rec-0-dup-0, dtype: object"
      ]
     },
     "execution_count": 77,
     "metadata": {},
     "output_type": "execute_result"
    }
   ],
   "source": [
    "dfB.loc[candidate_links_block[0][1]]"
   ]
  },
  {
   "cell_type": "markdown",
   "metadata": {},
   "source": [
    "### Comparison\n",
    "We used the same metrics and threshold for each pair of attributes used in the previous experiment."
   ]
  },
  {
   "cell_type": "code",
   "execution_count": 78,
   "metadata": {
    "hideCode": true,
    "hideOutput": false,
    "hidePrompt": true
   },
   "outputs": [
    {
     "data": {
      "text/html": [
       "<div>\n",
       "<style scoped>\n",
       "    .dataframe tbody tr th:only-of-type {\n",
       "        vertical-align: middle;\n",
       "    }\n",
       "\n",
       "    .dataframe tbody tr th {\n",
       "        vertical-align: top;\n",
       "    }\n",
       "\n",
       "    .dataframe thead th {\n",
       "        text-align: right;\n",
       "    }\n",
       "</style>\n",
       "<table border=\"1\" class=\"dataframe\">\n",
       "  <thead>\n",
       "    <tr style=\"text-align: right;\">\n",
       "      <th></th>\n",
       "      <th></th>\n",
       "      <th>surname</th>\n",
       "      <th>address_1</th>\n",
       "      <th>address_2</th>\n",
       "      <th>given_name</th>\n",
       "      <th>date_of_birth</th>\n",
       "      <th>suburb</th>\n",
       "      <th>state</th>\n",
       "    </tr>\n",
       "    <tr>\n",
       "      <th>rec_id_1</th>\n",
       "      <th>rec_id_2</th>\n",
       "      <th></th>\n",
       "      <th></th>\n",
       "      <th></th>\n",
       "      <th></th>\n",
       "      <th></th>\n",
       "      <th></th>\n",
       "      <th></th>\n",
       "    </tr>\n",
       "  </thead>\n",
       "  <tbody>\n",
       "    <tr>\n",
       "      <td rowspan=\"5\" valign=\"top\">rec-0-org</td>\n",
       "      <td>rec-0-dup-0</td>\n",
       "      <td>1.0</td>\n",
       "      <td>1.0</td>\n",
       "      <td>1.0</td>\n",
       "      <td>1</td>\n",
       "      <td>1</td>\n",
       "      <td>1</td>\n",
       "      <td>1</td>\n",
       "    </tr>\n",
       "    <tr>\n",
       "      <td>rec-1505-dup-0</td>\n",
       "      <td>1.0</td>\n",
       "      <td>0.0</td>\n",
       "      <td>0.0</td>\n",
       "      <td>0</td>\n",
       "      <td>0</td>\n",
       "      <td>0</td>\n",
       "      <td>0</td>\n",
       "    </tr>\n",
       "    <tr>\n",
       "      <td>rec-1636-dup-0</td>\n",
       "      <td>1.0</td>\n",
       "      <td>0.0</td>\n",
       "      <td>0.0</td>\n",
       "      <td>0</td>\n",
       "      <td>0</td>\n",
       "      <td>0</td>\n",
       "      <td>0</td>\n",
       "    </tr>\n",
       "    <tr>\n",
       "      <td>rec-2074-dup-0</td>\n",
       "      <td>1.0</td>\n",
       "      <td>0.0</td>\n",
       "      <td>0.0</td>\n",
       "      <td>0</td>\n",
       "      <td>0</td>\n",
       "      <td>0</td>\n",
       "      <td>1</td>\n",
       "    </tr>\n",
       "    <tr>\n",
       "      <td>rec-2683-dup-0</td>\n",
       "      <td>1.0</td>\n",
       "      <td>0.0</td>\n",
       "      <td>0.0</td>\n",
       "      <td>0</td>\n",
       "      <td>0</td>\n",
       "      <td>0</td>\n",
       "      <td>0</td>\n",
       "    </tr>\n",
       "    <tr>\n",
       "      <td>...</td>\n",
       "      <td>...</td>\n",
       "      <td>...</td>\n",
       "      <td>...</td>\n",
       "      <td>...</td>\n",
       "      <td>...</td>\n",
       "      <td>...</td>\n",
       "      <td>...</td>\n",
       "      <td>...</td>\n",
       "    </tr>\n",
       "    <tr>\n",
       "      <td rowspan=\"5\" valign=\"top\">rec-999-org</td>\n",
       "      <td>rec-3940-dup-0</td>\n",
       "      <td>1.0</td>\n",
       "      <td>0.0</td>\n",
       "      <td>0.0</td>\n",
       "      <td>0</td>\n",
       "      <td>0</td>\n",
       "      <td>0</td>\n",
       "      <td>0</td>\n",
       "    </tr>\n",
       "    <tr>\n",
       "      <td>rec-4941-dup-0</td>\n",
       "      <td>1.0</td>\n",
       "      <td>0.0</td>\n",
       "      <td>0.0</td>\n",
       "      <td>0</td>\n",
       "      <td>0</td>\n",
       "      <td>0</td>\n",
       "      <td>0</td>\n",
       "    </tr>\n",
       "    <tr>\n",
       "      <td>rec-859-dup-0</td>\n",
       "      <td>1.0</td>\n",
       "      <td>0.0</td>\n",
       "      <td>0.0</td>\n",
       "      <td>0</td>\n",
       "      <td>0</td>\n",
       "      <td>0</td>\n",
       "      <td>0</td>\n",
       "    </tr>\n",
       "    <tr>\n",
       "      <td>rec-911-dup-0</td>\n",
       "      <td>1.0</td>\n",
       "      <td>0.0</td>\n",
       "      <td>0.0</td>\n",
       "      <td>0</td>\n",
       "      <td>0</td>\n",
       "      <td>0</td>\n",
       "      <td>1</td>\n",
       "    </tr>\n",
       "    <tr>\n",
       "      <td>rec-999-dup-0</td>\n",
       "      <td>1.0</td>\n",
       "      <td>1.0</td>\n",
       "      <td>1.0</td>\n",
       "      <td>1</td>\n",
       "      <td>1</td>\n",
       "      <td>1</td>\n",
       "      <td>1</td>\n",
       "    </tr>\n",
       "  </tbody>\n",
       "</table>\n",
       "<p>87132 rows × 7 columns</p>\n",
       "</div>"
      ],
      "text/plain": [
       "                            surname  address_1  address_2  given_name  \\\n",
       "rec_id_1    rec_id_2                                                    \n",
       "rec-0-org   rec-0-dup-0         1.0        1.0        1.0           1   \n",
       "            rec-1505-dup-0      1.0        0.0        0.0           0   \n",
       "            rec-1636-dup-0      1.0        0.0        0.0           0   \n",
       "            rec-2074-dup-0      1.0        0.0        0.0           0   \n",
       "            rec-2683-dup-0      1.0        0.0        0.0           0   \n",
       "...                             ...        ...        ...         ...   \n",
       "rec-999-org rec-3940-dup-0      1.0        0.0        0.0           0   \n",
       "            rec-4941-dup-0      1.0        0.0        0.0           0   \n",
       "            rec-859-dup-0       1.0        0.0        0.0           0   \n",
       "            rec-911-dup-0       1.0        0.0        0.0           0   \n",
       "            rec-999-dup-0       1.0        1.0        1.0           1   \n",
       "\n",
       "                            date_of_birth  suburb  state  \n",
       "rec_id_1    rec_id_2                                      \n",
       "rec-0-org   rec-0-dup-0                 1       1      1  \n",
       "            rec-1505-dup-0              0       0      0  \n",
       "            rec-1636-dup-0              0       0      0  \n",
       "            rec-2074-dup-0              0       0      1  \n",
       "            rec-2683-dup-0              0       0      0  \n",
       "...                                   ...     ...    ...  \n",
       "rec-999-org rec-3940-dup-0              0       0      0  \n",
       "            rec-4941-dup-0              0       0      0  \n",
       "            rec-859-dup-0               0       0      0  \n",
       "            rec-911-dup-0               0       0      1  \n",
       "            rec-999-dup-0               1       1      1  \n",
       "\n",
       "[87132 rows x 7 columns]"
      ]
     },
     "execution_count": 78,
     "metadata": {},
     "output_type": "execute_result"
    }
   ],
   "source": [
    "features_block = compare_records(candidate_links_block, dfA, dfB, comparison, exact)\n",
    "features_block"
   ]
  },
  {
   "cell_type": "markdown",
   "metadata": {},
   "source": [
    "### Classification\n",
    "\n",
    "#### Deterministic approach\n",
    "Also in this case, we consider a match all the pairs that agree on at least 4 attributes."
   ]
  },
  {
   "cell_type": "code",
   "execution_count": 79,
   "metadata": {
    "hideCode": true,
    "hidePrompt": true
   },
   "outputs": [
    {
     "data": {
      "text/plain": [
       "7.0     1304\n",
       "6.0     1857\n",
       "5.0     1257\n",
       "4.0      438\n",
       "3.0      268\n",
       "2.0    18304\n",
       "1.0    63704\n",
       "dtype: int64"
      ]
     },
     "execution_count": 79,
     "metadata": {},
     "output_type": "execute_result"
    }
   ],
   "source": [
    "# Sum the comparison results.\n",
    "features_block.sum(axis=1).value_counts().sort_index(ascending=False)"
   ]
  },
  {
   "cell_type": "code",
   "execution_count": 80,
   "metadata": {
    "hideCode": true,
    "hideOutput": true,
    "hidePrompt": true
   },
   "outputs": [
    {
     "data": {
      "text/plain": [
       "7.0     1.496580\n",
       "6.0     2.131249\n",
       "5.0     1.442639\n",
       "4.0     0.502686\n",
       "3.0     0.307579\n",
       "2.0    21.007207\n",
       "1.0    73.112060\n",
       "dtype: float64"
      ]
     },
     "execution_count": 80,
     "metadata": {},
     "output_type": "execute_result"
    }
   ],
   "source": [
    "# Percentage of the comparison results.\n",
    "(features_block.sum(axis=1).value_counts() / len(candidate_links_block) * 100).sort_index(ascending=False) "
   ]
  },
  {
   "cell_type": "code",
   "execution_count": 81,
   "metadata": {
    "hideCode": true,
    "hideOutput": true,
    "hidePrompt": true
   },
   "outputs": [
    {
     "data": {
      "text/html": [
       "<div>\n",
       "<style scoped>\n",
       "    .dataframe tbody tr th:only-of-type {\n",
       "        vertical-align: middle;\n",
       "    }\n",
       "\n",
       "    .dataframe tbody tr th {\n",
       "        vertical-align: top;\n",
       "    }\n",
       "\n",
       "    .dataframe thead th {\n",
       "        text-align: right;\n",
       "    }\n",
       "</style>\n",
       "<table border=\"1\" class=\"dataframe\">\n",
       "  <thead>\n",
       "    <tr style=\"text-align: right;\">\n",
       "      <th></th>\n",
       "      <th></th>\n",
       "      <th>surname</th>\n",
       "      <th>address_1</th>\n",
       "      <th>address_2</th>\n",
       "      <th>given_name</th>\n",
       "      <th>date_of_birth</th>\n",
       "      <th>suburb</th>\n",
       "      <th>state</th>\n",
       "    </tr>\n",
       "    <tr>\n",
       "      <th>rec_id_1</th>\n",
       "      <th>rec_id_2</th>\n",
       "      <th></th>\n",
       "      <th></th>\n",
       "      <th></th>\n",
       "      <th></th>\n",
       "      <th></th>\n",
       "      <th></th>\n",
       "      <th></th>\n",
       "    </tr>\n",
       "  </thead>\n",
       "  <tbody>\n",
       "    <tr>\n",
       "      <td>rec-0-org</td>\n",
       "      <td>rec-0-dup-0</td>\n",
       "      <td>1.0</td>\n",
       "      <td>1.0</td>\n",
       "      <td>1.0</td>\n",
       "      <td>1</td>\n",
       "      <td>1</td>\n",
       "      <td>1</td>\n",
       "      <td>1</td>\n",
       "    </tr>\n",
       "    <tr>\n",
       "      <td>rec-1-org</td>\n",
       "      <td>rec-1-dup-0</td>\n",
       "      <td>1.0</td>\n",
       "      <td>1.0</td>\n",
       "      <td>1.0</td>\n",
       "      <td>1</td>\n",
       "      <td>1</td>\n",
       "      <td>1</td>\n",
       "      <td>1</td>\n",
       "    </tr>\n",
       "    <tr>\n",
       "      <td>rec-10-org</td>\n",
       "      <td>rec-10-dup-0</td>\n",
       "      <td>1.0</td>\n",
       "      <td>1.0</td>\n",
       "      <td>1.0</td>\n",
       "      <td>0</td>\n",
       "      <td>1</td>\n",
       "      <td>1</td>\n",
       "      <td>1</td>\n",
       "    </tr>\n",
       "    <tr>\n",
       "      <td>rec-100-org</td>\n",
       "      <td>rec-100-dup-0</td>\n",
       "      <td>1.0</td>\n",
       "      <td>1.0</td>\n",
       "      <td>1.0</td>\n",
       "      <td>1</td>\n",
       "      <td>0</td>\n",
       "      <td>1</td>\n",
       "      <td>1</td>\n",
       "    </tr>\n",
       "    <tr>\n",
       "      <td>rec-1000-org</td>\n",
       "      <td>rec-1000-dup-0</td>\n",
       "      <td>1.0</td>\n",
       "      <td>1.0</td>\n",
       "      <td>1.0</td>\n",
       "      <td>1</td>\n",
       "      <td>1</td>\n",
       "      <td>1</td>\n",
       "      <td>1</td>\n",
       "    </tr>\n",
       "    <tr>\n",
       "      <td>...</td>\n",
       "      <td>...</td>\n",
       "      <td>...</td>\n",
       "      <td>...</td>\n",
       "      <td>...</td>\n",
       "      <td>...</td>\n",
       "      <td>...</td>\n",
       "      <td>...</td>\n",
       "      <td>...</td>\n",
       "    </tr>\n",
       "    <tr>\n",
       "      <td>rec-995-org</td>\n",
       "      <td>rec-995-dup-0</td>\n",
       "      <td>1.0</td>\n",
       "      <td>1.0</td>\n",
       "      <td>1.0</td>\n",
       "      <td>1</td>\n",
       "      <td>1</td>\n",
       "      <td>1</td>\n",
       "      <td>1</td>\n",
       "    </tr>\n",
       "    <tr>\n",
       "      <td>rec-996-org</td>\n",
       "      <td>rec-996-dup-0</td>\n",
       "      <td>1.0</td>\n",
       "      <td>1.0</td>\n",
       "      <td>0.0</td>\n",
       "      <td>1</td>\n",
       "      <td>1</td>\n",
       "      <td>1</td>\n",
       "      <td>1</td>\n",
       "    </tr>\n",
       "    <tr>\n",
       "      <td>rec-997-org</td>\n",
       "      <td>rec-997-dup-0</td>\n",
       "      <td>1.0</td>\n",
       "      <td>1.0</td>\n",
       "      <td>1.0</td>\n",
       "      <td>1</td>\n",
       "      <td>1</td>\n",
       "      <td>1</td>\n",
       "      <td>1</td>\n",
       "    </tr>\n",
       "    <tr>\n",
       "      <td>rec-998-org</td>\n",
       "      <td>rec-998-dup-0</td>\n",
       "      <td>1.0</td>\n",
       "      <td>1.0</td>\n",
       "      <td>1.0</td>\n",
       "      <td>1</td>\n",
       "      <td>1</td>\n",
       "      <td>1</td>\n",
       "      <td>1</td>\n",
       "    </tr>\n",
       "    <tr>\n",
       "      <td>rec-999-org</td>\n",
       "      <td>rec-999-dup-0</td>\n",
       "      <td>1.0</td>\n",
       "      <td>1.0</td>\n",
       "      <td>1.0</td>\n",
       "      <td>1</td>\n",
       "      <td>1</td>\n",
       "      <td>1</td>\n",
       "      <td>1</td>\n",
       "    </tr>\n",
       "  </tbody>\n",
       "</table>\n",
       "<p>4856 rows × 7 columns</p>\n",
       "</div>"
      ],
      "text/plain": [
       "                             surname  address_1  address_2  given_name  \\\n",
       "rec_id_1     rec_id_2                                                    \n",
       "rec-0-org    rec-0-dup-0         1.0        1.0        1.0           1   \n",
       "rec-1-org    rec-1-dup-0         1.0        1.0        1.0           1   \n",
       "rec-10-org   rec-10-dup-0        1.0        1.0        1.0           0   \n",
       "rec-100-org  rec-100-dup-0       1.0        1.0        1.0           1   \n",
       "rec-1000-org rec-1000-dup-0      1.0        1.0        1.0           1   \n",
       "...                              ...        ...        ...         ...   \n",
       "rec-995-org  rec-995-dup-0       1.0        1.0        1.0           1   \n",
       "rec-996-org  rec-996-dup-0       1.0        1.0        0.0           1   \n",
       "rec-997-org  rec-997-dup-0       1.0        1.0        1.0           1   \n",
       "rec-998-org  rec-998-dup-0       1.0        1.0        1.0           1   \n",
       "rec-999-org  rec-999-dup-0       1.0        1.0        1.0           1   \n",
       "\n",
       "                             date_of_birth  suburb  state  \n",
       "rec_id_1     rec_id_2                                      \n",
       "rec-0-org    rec-0-dup-0                 1       1      1  \n",
       "rec-1-org    rec-1-dup-0                 1       1      1  \n",
       "rec-10-org   rec-10-dup-0                1       1      1  \n",
       "rec-100-org  rec-100-dup-0               0       1      1  \n",
       "rec-1000-org rec-1000-dup-0              1       1      1  \n",
       "...                                    ...     ...    ...  \n",
       "rec-995-org  rec-995-dup-0               1       1      1  \n",
       "rec-996-org  rec-996-dup-0               1       1      1  \n",
       "rec-997-org  rec-997-dup-0               1       1      1  \n",
       "rec-998-org  rec-998-dup-0               1       1      1  \n",
       "rec-999-org  rec-999-dup-0               1       1      1  \n",
       "\n",
       "[4856 rows x 7 columns]"
      ]
     },
     "execution_count": 81,
     "metadata": {},
     "output_type": "execute_result"
    }
   ],
   "source": [
    "links_noml_block = features_block[features_block.sum(axis=1) >= 4]\n",
    "links_noml_block"
   ]
  },
  {
   "cell_type": "markdown",
   "metadata": {},
   "source": [
    "#### Naive Bayes"
   ]
  },
  {
   "cell_type": "code",
   "execution_count": 82,
   "metadata": {
    "hideCode": false,
    "hideOutput": true,
    "hidePrompt": true
   },
   "outputs": [],
   "source": [
    "# Initialise the NaiveBayesClassifier.\n",
    "nb_block = rl.NaiveBayesClassifier()\n",
    "nb_block.fit(features_block, true_links)"
   ]
  },
  {
   "cell_type": "code",
   "execution_count": 83,
   "metadata": {
    "hideCode": true,
    "hidePrompt": true
   },
   "outputs": [
    {
     "name": "stdout",
     "output_type": "stream",
     "text": [
      "p probability P(Match): 0.05726943028967549\n",
      "\n",
      "m probabilities P(x_i=1|Match): {'surname': {0.0: 0.1462925993469899, 1.0: 0.8537074006530102}, 'address_1': {0.0: 0.11302606761418561, 1.0: 0.8869739323858145}, 'address_2': {0.0: 0.23026053185328524, 1.0: 0.7697394681467138}, 'given_name': {0.0: 0.34268537704667806, 1.0: 0.6573146229533218}, 'date_of_birth': {0.0: 0.10440883349062785, 1.0: 0.8955911665093714}, 'suburb': {0.0: 0.25430862708181856, 1.0: 0.7456913729181811}, 'state': {0.0: 0.05871745255641471, 1.0: 0.941282547443585}}\n",
      "\n",
      "u probabilities P(x_i=1|Non-Match): {'surname': {0.0: 0.0077305166474385435, 1.0: 0.9922694833525615}, 'address_1': {0.0: 0.9970904032112915, 1.0: 0.002909596788708342}, 'address_2': {0.0: 0.9987338986176765, 1.0: 0.001266101382323047}, 'given_name': {0.0: 0.9970173589710086, 1.0: 0.002982641028992133}, 'date_of_birth': {0.0: 0.9922329612324204, 1.0: 0.007767038767580439}, 'suburb': {0.0: 0.9990382496188591, 1.0: 0.0009617503811405855}, 'state': {0.0: 0.7818777232551495, 1.0: 0.21812227674485082}}\n",
      "\n",
      "weights of features: {'surname': {0.0: 18.924039106165434, 1.0: 0.8603584157084078}, 'address_1': {0.0: 0.11335588754055481, 1.0: 304.8442780209312}, 'address_2': {0.0: 0.2305524346094423, 1.0: 607.960372600173}, 'given_name': {0.0: 0.3437105422119764, 1.0: 220.38006470240086}, 'date_of_birth': {0.0: 0.10522612891325946, 1.0: 115.30664302173464}, 'suburb': {0.0: 0.2545534439535616, 1.0: 775.3481439059377}, 'state': {0.0: 0.07509799909883542, 1.0: 4.315389337993445}}\n"
     ]
    }
   ],
   "source": [
    "# Print the parameters that are trained (m, u and p).\n",
    "print(\"p probability P(Match):\", nb_block.p)\n",
    "print()\n",
    "print(\"m probabilities P(x_i=1|Match):\", nb_block.m_probs)\n",
    "print()\n",
    "print(\"u probabilities P(x_i=1|Non-Match):\", nb_block.u_probs)\n",
    "print()\n",
    "print(\"weights of features:\", nb_block.weights)"
   ]
  },
  {
   "cell_type": "code",
   "execution_count": 84,
   "metadata": {
    "hideCode": true,
    "hidePrompt": true
   },
   "outputs": [
    {
     "name": "stdout",
     "output_type": "stream",
     "text": [
      "Predicted number of links: 5107\n"
     ]
    }
   ],
   "source": [
    "# Evaluate the model\n",
    "links_bayes_block = nb_block.predict(features_block)\n",
    "print(\"Predicted number of links:\", len(links_bayes_block))"
   ]
  },
  {
   "cell_type": "code",
   "execution_count": 85,
   "metadata": {
    "hideCode": true,
    "hidePrompt": true
   },
   "outputs": [
    {
     "data": {
      "text/plain": [
       "rec_id_1     rec_id_2      \n",
       "rec-0-org    rec-0-dup-0       1.000000e+00\n",
       "             rec-1505-dup-0    9.443910e-07\n",
       "             rec-1636-dup-0    9.443910e-07\n",
       "             rec-2074-dup-0    5.426506e-05\n",
       "             rec-2683-dup-0    9.443910e-07\n",
       "                                   ...     \n",
       "rec-999-org  rec-3940-dup-0    9.443910e-07\n",
       "             rec-4941-dup-0    9.443910e-07\n",
       "             rec-859-dup-0     9.443910e-07\n",
       "             rec-911-dup-0     5.426506e-05\n",
       "             rec-999-dup-0     1.000000e+00\n",
       "Length: 87132, dtype: float64"
      ]
     },
     "execution_count": 85,
     "metadata": {},
     "output_type": "execute_result"
    }
   ],
   "source": [
    "# Predict the match probability for each pair in the dataset.\n",
    "probs_bayes_block = nb_block.prob(features_block)\n",
    "probs_bayes_block"
   ]
  },
  {
   "cell_type": "markdown",
   "metadata": {},
   "source": [
    "#### Expectation-Conditional Maximisation"
   ]
  },
  {
   "cell_type": "code",
   "execution_count": 86,
   "metadata": {
    "hideCode": false,
    "hideOutput": true,
    "hidePrompt": true
   },
   "outputs": [],
   "source": [
    "# Initialise the Expectation-Conditional Maximisation classifier.\n",
    "ecm_block = rl.ECMClassifier()\n",
    "ecm_block.fit(features_block)"
   ]
  },
  {
   "cell_type": "code",
   "execution_count": 87,
   "metadata": {
    "hideCode": true,
    "hidePrompt": true
   },
   "outputs": [
    {
     "name": "stdout",
     "output_type": "stream",
     "text": [
      "p probability P(Match): 0.05890218346289975\n",
      "\n",
      "m probabilities P(x_i=1|Match): {'surname': {0.0: 0.17208594081201783, 1.0: 0.8279140591879811}, 'address_1': {0.0: 0.1364062789961936, 1.0: 0.863593721003806}, 'address_2': {0.0: 0.25072440372196897, 1.0: 0.7492755962780303}, 'given_name': {0.0: 0.36109752267741557, 1.0: 0.6389024773225834}, 'date_of_birth': {0.0: 0.1019492644528454, 1.0: 0.8980507355471536}, 'suburb': {0.0: 0.2754889672490091, 1.0: 0.7245110327509904}, 'state': {0.0: 0.06435714759255907, 1.0: 0.9356428524074404}}\n",
      "\n",
      "u probabilities P(x_i=1|Non-Match): {'surname': {0.0: 0.00587574265639725, 1.0: 0.9941242573436027}, 'address_1': {0.0: 0.9971608673018983, 1.0: 0.002839132698101932}, 'address_2': {0.0: 0.9987863491894582, 1.0: 0.001213650810542423}, 'given_name': {0.0: 0.9970001958451015, 1.0: 0.002999804154898576}, 'date_of_birth': {0.0: 0.9939272291845378, 1.0: 0.006072770815462413}, 'suburb': {0.0: 0.9990046632627301, 1.0: 0.0009953367372699084}, 'state': {0.0: 0.7827793845853916, 1.0: 0.21722061541460944}}\n",
      "\n",
      "weights of features: {'surname': {0.0: 29.287521744108087, 1.0: 0.832807421277747}, 'address_1': {0.0: 0.13679465718031986, 1.0: 304.1751875779358}, 'address_2': {0.0: 0.25102906535060127, 1.0: 617.3732920288273}, 'given_name': {0.0: 0.3621840037567228, 1.0: 212.98139622857641}, 'date_of_birth': {0.0: 0.10257216168279153, 1.0: 147.88154581110624}, 'suburb': {0.0: 0.2757634447363513, 1.0: 727.9054470934519}, 'state': {0.0: 0.08221620147373528, 1.0: 4.307339110616076}}\n"
     ]
    }
   ],
   "source": [
    "# Print the parameters that are trained (m, u and p).\n",
    "print(\"p probability P(Match):\", ecm_block.p)\n",
    "print()\n",
    "print(\"m probabilities P(x_i=1|Match):\", ecm_block.m_probs)\n",
    "print()\n",
    "print(\"u probabilities P(x_i=1|Non-Match):\", ecm_block.u_probs)\n",
    "print()\n",
    "print(\"weights of features:\", ecm_block.weights)"
   ]
  },
  {
   "cell_type": "code",
   "execution_count": 88,
   "metadata": {
    "hideCode": true,
    "hidePrompt": true
   },
   "outputs": [
    {
     "name": "stdout",
     "output_type": "stream",
     "text": [
      "Predicted number of links: 5110\n"
     ]
    }
   ],
   "source": [
    "# evaluate the model\n",
    "links_ecm_block = ecm_block.predict(features_block)\n",
    "print(\"Predicted number of links:\", len(links_ecm_block))"
   ]
  },
  {
   "cell_type": "code",
   "execution_count": 89,
   "metadata": {
    "hideCode": true,
    "hidePrompt": true
   },
   "outputs": [
    {
     "name": "stdout",
     "output_type": "stream",
     "text": [
      "rec_id_1     rec_id_2      \n",
      "rec-0-org    rec-0-dup-0       1.000000\n",
      "             rec-1505-dup-0    0.000002\n",
      "             rec-1636-dup-0    0.000002\n",
      "             rec-2074-dup-0    0.000079\n",
      "             rec-2683-dup-0    0.000002\n",
      "                                 ...   \n",
      "rec-999-org  rec-3940-dup-0    0.000002\n",
      "             rec-4941-dup-0    0.000002\n",
      "             rec-859-dup-0     0.000002\n",
      "             rec-911-dup-0     0.000079\n",
      "             rec-999-dup-0     1.000000\n",
      "Length: 87132, dtype: float64\n"
     ]
    }
   ],
   "source": [
    "# Predict the match probability for each pair in the dataset.\n",
    "probs_ecm_block = ecm_block.prob(features_block)\n",
    "print(probs_ecm_block)"
   ]
  },
  {
   "cell_type": "markdown",
   "metadata": {
    "hideCode": false
   },
   "source": [
    "### Evaluation"
   ]
  },
  {
   "cell_type": "code",
   "execution_count": 90,
   "metadata": {
    "hideCode": true,
    "hidePrompt": true
   },
   "outputs": [
    {
     "name": "stdout",
     "output_type": "stream",
     "text": [
      "Deterministic approach \n",
      "\n",
      "Confusion matrix: \n",
      " [[ 4856   144]\n",
      " [    0 82132]]\n",
      "Fscore: 0.9853896103896103\n",
      "Recall: 0.9712\n",
      "Precision: 1.0\n"
     ]
    }
   ],
   "source": [
    "cm_noml_block, fscore_noml_block, recall_noml_block, precision_noml_block = evaluate_results(true_links, links_noml_block, len(candidate_links_block))\n",
    "\n",
    "print(\"Deterministic approach \\n\")\n",
    "print('Confusion matrix: \\n', cm_noml_block)\n",
    "print('Fscore:',fscore_noml_block)\n",
    "print('Recall:',recall_noml_block)\n",
    "print('Precision:',precision_noml_block)"
   ]
  },
  {
   "cell_type": "code",
   "execution_count": 91,
   "metadata": {
    "hideCode": true,
    "hidePrompt": true
   },
   "outputs": [
    {
     "name": "stdout",
     "output_type": "stream",
     "text": [
      "Naive Bayes \n",
      "\n",
      "Confusion matrix: \n",
      " [[ 4956    44]\n",
      " [  151 81981]]\n",
      "Fscore: 0.9807064410804394\n",
      "Recall: 0.9912\n",
      "Precision: 0.9704327393773252\n"
     ]
    }
   ],
   "source": [
    "cm_nb_block, fscore_nb_block, recall_nb_block, precision_nb_block = evaluate_results(true_links, links_bayes_block, len(candidate_links_block))\n",
    "\n",
    "print(\"Naive Bayes \\n\")\n",
    "print('Confusion matrix: \\n', cm_nb_block)\n",
    "print('Fscore:',fscore_nb_block)\n",
    "print('Recall:',recall_nb_block)\n",
    "print('Precision:',precision_nb_block)"
   ]
  },
  {
   "cell_type": "code",
   "execution_count": 92,
   "metadata": {
    "hideCode": true,
    "hidePrompt": true
   },
   "outputs": [
    {
     "name": "stdout",
     "output_type": "stream",
     "text": [
      "Expectation-Conditional Maximisation \n",
      "\n",
      "Confusion matrix: \n",
      " [[ 4959    41]\n",
      " [  151 81981]]\n",
      "Fscore: 0.9810089020771513\n",
      "Recall: 0.9918\n",
      "Precision: 0.9704500978473581\n"
     ]
    }
   ],
   "source": [
    "cm_ecm_block, fscore_ecm_block, recall_ecm_block, precision_ecm_block = evaluate_results(true_links, links_ecm_block, len(candidate_links_block))\n",
    "\n",
    "print(\"Expectation-Conditional Maximisation \\n\")\n",
    "print('Confusion matrix: \\n', cm_ecm_block)\n",
    "print('Fscore:',fscore_ecm_block)\n",
    "print('Recall:',recall_ecm_block)\n",
    "print('Precision:',precision_ecm_block)"
   ]
  },
  {
   "cell_type": "markdown",
   "metadata": {},
   "source": [
    "## Results Analysis\n",
    "From the previous two experiments, we noticed that:\n",
    "- The cardinality of the candidate links with Full index method is 25000000, with the Block index is 87132. \n",
    "- This leads to a significative difference in the execution time: \n",
    "    - The Full index takes 160 seconds circa for the comparison phase; the Block index takes about 0.56 seconds instead. \n",
    "    - Naive Bayes takes about 150s with Full index and 0.23s with Block index.\n",
    "    - ECM takes about 92s with Full index and 0.29s with Block index.\n",
    "- This does not lead to a significative difference in the evaluation results:\n",
    "    - The Full index method brings a very small increase in the Fscore.  \n",
    "\n",
    "We do not consider this result to be meaningful. Blocking should always be preferred, provided that it is clear what attributes should be used in the index."
   ]
  },
  {
   "cell_type": "markdown",
   "metadata": {},
   "source": [
    "## Chapter 2: Data Deduplication\n",
    "Data Deduplication is the process of linking a dataset to itself, in order to find duplicate records."
   ]
  },
  {
   "cell_type": "markdown",
   "metadata": {},
   "source": [
    "## Experiment 3 : Creating prediction models\n",
    "In this experiment, we first train our models on a smaller dataset. Then, we test the models on a bigger one with the *same* attributes but with different distribution of duplicates.\n",
    "\n",
    "## Part 1 : Training\n",
    "\n",
    "### Dataset description\n",
    "This data set contains 5000 records (4000 originals and 1000 duplicates), with a maximum of 5 duplicates based on one original record (and a poisson distribution of duplicate records). Distribution of duplicates: 19 originals records have 5 duplicate records 47 originals records have 4 duplicate records 107 originals records have 3 duplicate records 141 originals records have 2 duplicate records 114 originals records have 1 duplicate record 572 originals records have no duplicate record."
   ]
  },
  {
   "cell_type": "code",
   "execution_count": 93,
   "metadata": {
    "hideCode": true,
    "hidePrompt": true
   },
   "outputs": [
    {
     "name": "stdout",
     "output_type": "stream",
     "text": [
      "Loading data...\n",
      "5000 records in dataset A\n",
      "1934 links between dataset A and A\n"
     ]
    }
   ],
   "source": [
    "from recordlinkage.datasets import load_febrl2\n",
    "# load datasets\n",
    "print('Loading data...')\n",
    "df, true_links = load_febrl2(return_links = True)\n",
    "print(len(df), 'records in dataset A')\n",
    "print(len(true_links), 'links between dataset A and A')"
   ]
  },
  {
   "cell_type": "code",
   "execution_count": 94,
   "metadata": {
    "hideCode": true,
    "hidePrompt": true
   },
   "outputs": [
    {
     "data": {
      "text/html": [
       "<div>\n",
       "<style scoped>\n",
       "    .dataframe tbody tr th:only-of-type {\n",
       "        vertical-align: middle;\n",
       "    }\n",
       "\n",
       "    .dataframe tbody tr th {\n",
       "        vertical-align: top;\n",
       "    }\n",
       "\n",
       "    .dataframe thead th {\n",
       "        text-align: right;\n",
       "    }\n",
       "</style>\n",
       "<table border=\"1\" class=\"dataframe\">\n",
       "  <thead>\n",
       "    <tr style=\"text-align: right;\">\n",
       "      <th></th>\n",
       "      <th>given_name</th>\n",
       "      <th>surname</th>\n",
       "      <th>street_number</th>\n",
       "      <th>address_1</th>\n",
       "      <th>address_2</th>\n",
       "      <th>suburb</th>\n",
       "      <th>postcode</th>\n",
       "      <th>state</th>\n",
       "      <th>date_of_birth</th>\n",
       "      <th>soc_sec_id</th>\n",
       "    </tr>\n",
       "    <tr>\n",
       "      <th>rec_id</th>\n",
       "      <th></th>\n",
       "      <th></th>\n",
       "      <th></th>\n",
       "      <th></th>\n",
       "      <th></th>\n",
       "      <th></th>\n",
       "      <th></th>\n",
       "      <th></th>\n",
       "      <th></th>\n",
       "      <th></th>\n",
       "    </tr>\n",
       "  </thead>\n",
       "  <tbody>\n",
       "    <tr>\n",
       "      <td>rec-2778-org</td>\n",
       "      <td>sarah</td>\n",
       "      <td>bruhn</td>\n",
       "      <td>44</td>\n",
       "      <td>forbes street</td>\n",
       "      <td>wintersloe</td>\n",
       "      <td>kellerberrin</td>\n",
       "      <td>4510</td>\n",
       "      <td>vic</td>\n",
       "      <td>19300213</td>\n",
       "      <td>7535316</td>\n",
       "    </tr>\n",
       "    <tr>\n",
       "      <td>rec-712-dup-0</td>\n",
       "      <td>jacob</td>\n",
       "      <td>lanyon</td>\n",
       "      <td>5</td>\n",
       "      <td>milne cove</td>\n",
       "      <td>wellwod</td>\n",
       "      <td>beaconsfield upper</td>\n",
       "      <td>2602</td>\n",
       "      <td>vic</td>\n",
       "      <td>19080712</td>\n",
       "      <td>9497788</td>\n",
       "    </tr>\n",
       "    <tr>\n",
       "      <td>rec-1321-org</td>\n",
       "      <td>brinley</td>\n",
       "      <td>efthimiou</td>\n",
       "      <td>35</td>\n",
       "      <td>sturdee crescent</td>\n",
       "      <td>tremearne</td>\n",
       "      <td>scarborough</td>\n",
       "      <td>5211</td>\n",
       "      <td>qld</td>\n",
       "      <td>19940319</td>\n",
       "      <td>6814956</td>\n",
       "    </tr>\n",
       "    <tr>\n",
       "      <td>rec-3004-org</td>\n",
       "      <td>aleisha</td>\n",
       "      <td>hobson</td>\n",
       "      <td>54</td>\n",
       "      <td>oliver street</td>\n",
       "      <td>inglewood</td>\n",
       "      <td>toowoomba</td>\n",
       "      <td>3175</td>\n",
       "      <td>qld</td>\n",
       "      <td>19290427</td>\n",
       "      <td>5967384</td>\n",
       "    </tr>\n",
       "    <tr>\n",
       "      <td>rec-1384-org</td>\n",
       "      <td>ethan</td>\n",
       "      <td>gazzola</td>\n",
       "      <td>49</td>\n",
       "      <td>sheaffe street</td>\n",
       "      <td>bimby vale</td>\n",
       "      <td>port pirie</td>\n",
       "      <td>3088</td>\n",
       "      <td>sa</td>\n",
       "      <td>19631225</td>\n",
       "      <td>3832742</td>\n",
       "    </tr>\n",
       "    <tr>\n",
       "      <td>...</td>\n",
       "      <td>...</td>\n",
       "      <td>...</td>\n",
       "      <td>...</td>\n",
       "      <td>...</td>\n",
       "      <td>...</td>\n",
       "      <td>...</td>\n",
       "      <td>...</td>\n",
       "      <td>...</td>\n",
       "      <td>...</td>\n",
       "      <td>...</td>\n",
       "    </tr>\n",
       "    <tr>\n",
       "      <td>rec-1487-org</td>\n",
       "      <td>thomas</td>\n",
       "      <td>green</td>\n",
       "      <td>44</td>\n",
       "      <td>tuthill place</td>\n",
       "      <td>holmeleigh</td>\n",
       "      <td>bonny hills</td>\n",
       "      <td>4740</td>\n",
       "      <td>vic</td>\n",
       "      <td>19420210</td>\n",
       "      <td>9334580</td>\n",
       "    </tr>\n",
       "    <tr>\n",
       "      <td>rec-1856-org</td>\n",
       "      <td>james</td>\n",
       "      <td>mcneill</td>\n",
       "      <td>42</td>\n",
       "      <td>archibald street</td>\n",
       "      <td>NaN</td>\n",
       "      <td>evans head</td>\n",
       "      <td>2250</td>\n",
       "      <td>nsw</td>\n",
       "      <td>19011207</td>\n",
       "      <td>4837378</td>\n",
       "    </tr>\n",
       "    <tr>\n",
       "      <td>rec-3307-org</td>\n",
       "      <td>paige</td>\n",
       "      <td>lock</td>\n",
       "      <td>7</td>\n",
       "      <td>a'beckett street</td>\n",
       "      <td>camboon</td>\n",
       "      <td>carina heights</td>\n",
       "      <td>2290</td>\n",
       "      <td>nsw</td>\n",
       "      <td>19871002</td>\n",
       "      <td>5142242</td>\n",
       "    </tr>\n",
       "    <tr>\n",
       "      <td>rec-227-org</td>\n",
       "      <td>antonio</td>\n",
       "      <td>collier</td>\n",
       "      <td>25</td>\n",
       "      <td>govett place</td>\n",
       "      <td>the rocks</td>\n",
       "      <td>broken hill</td>\n",
       "      <td>2304</td>\n",
       "      <td>qld</td>\n",
       "      <td>19400225</td>\n",
       "      <td>3973395</td>\n",
       "    </tr>\n",
       "    <tr>\n",
       "      <td>rec-1143-org</td>\n",
       "      <td>harry</td>\n",
       "      <td>ryan</td>\n",
       "      <td>30</td>\n",
       "      <td>van raalte place</td>\n",
       "      <td>anana</td>\n",
       "      <td>preston west</td>\n",
       "      <td>2572</td>\n",
       "      <td>wa</td>\n",
       "      <td>19250425</td>\n",
       "      <td>6392122</td>\n",
       "    </tr>\n",
       "  </tbody>\n",
       "</table>\n",
       "<p>5000 rows × 10 columns</p>\n",
       "</div>"
      ],
      "text/plain": [
       "              given_name    surname street_number         address_1  \\\n",
       "rec_id                                                                \n",
       "rec-2778-org       sarah      bruhn            44     forbes street   \n",
       "rec-712-dup-0      jacob     lanyon             5        milne cove   \n",
       "rec-1321-org     brinley  efthimiou            35  sturdee crescent   \n",
       "rec-3004-org     aleisha     hobson            54     oliver street   \n",
       "rec-1384-org       ethan    gazzola            49    sheaffe street   \n",
       "...                  ...        ...           ...               ...   \n",
       "rec-1487-org      thomas      green            44     tuthill place   \n",
       "rec-1856-org       james    mcneill            42  archibald street   \n",
       "rec-3307-org       paige       lock             7  a'beckett street   \n",
       "rec-227-org      antonio    collier            25      govett place   \n",
       "rec-1143-org       harry       ryan            30  van raalte place   \n",
       "\n",
       "                address_2              suburb postcode state date_of_birth  \\\n",
       "rec_id                                                                       \n",
       "rec-2778-org   wintersloe        kellerberrin     4510   vic      19300213   \n",
       "rec-712-dup-0     wellwod  beaconsfield upper     2602   vic      19080712   \n",
       "rec-1321-org    tremearne         scarborough     5211   qld      19940319   \n",
       "rec-3004-org    inglewood           toowoomba     3175   qld      19290427   \n",
       "rec-1384-org   bimby vale          port pirie     3088    sa      19631225   \n",
       "...                   ...                 ...      ...   ...           ...   \n",
       "rec-1487-org   holmeleigh         bonny hills     4740   vic      19420210   \n",
       "rec-1856-org          NaN          evans head     2250   nsw      19011207   \n",
       "rec-3307-org      camboon      carina heights     2290   nsw      19871002   \n",
       "rec-227-org     the rocks         broken hill     2304   qld      19400225   \n",
       "rec-1143-org        anana        preston west     2572    wa      19250425   \n",
       "\n",
       "              soc_sec_id  \n",
       "rec_id                    \n",
       "rec-2778-org     7535316  \n",
       "rec-712-dup-0    9497788  \n",
       "rec-1321-org     6814956  \n",
       "rec-3004-org     5967384  \n",
       "rec-1384-org     3832742  \n",
       "...                  ...  \n",
       "rec-1487-org     9334580  \n",
       "rec-1856-org     4837378  \n",
       "rec-3307-org     5142242  \n",
       "rec-227-org      3973395  \n",
       "rec-1143-org     6392122  \n",
       "\n",
       "[5000 rows x 10 columns]"
      ]
     },
     "execution_count": 94,
     "metadata": {},
     "output_type": "execute_result"
    }
   ],
   "source": [
    "df"
   ]
  },
  {
   "cell_type": "code",
   "execution_count": 95,
   "metadata": {
    "hideCode": true,
    "hideOutput": true,
    "hidePrompt": true
   },
   "outputs": [
    {
     "data": {
      "text/plain": [
       "given_name       object\n",
       "surname          object\n",
       "street_number    object\n",
       "address_1        object\n",
       "address_2        object\n",
       "suburb           object\n",
       "postcode         object\n",
       "state            object\n",
       "date_of_birth    object\n",
       "soc_sec_id       object\n",
       "dtype: object"
      ]
     },
     "execution_count": 95,
     "metadata": {},
     "output_type": "execute_result"
    }
   ],
   "source": [
    "df.dtypes"
   ]
  },
  {
   "cell_type": "markdown",
   "metadata": {},
   "source": [
    "We notice that the records having the same numeric id represent the same entity but with some errors in various attributes."
   ]
  },
  {
   "cell_type": "code",
   "execution_count": 96,
   "metadata": {
    "hideCode": true,
    "hidePrompt": true
   },
   "outputs": [
    {
     "data": {
      "text/plain": [
       "given_name                    jacob\n",
       "surname                      lanyon\n",
       "street_number                     5\n",
       "address_1                milne cove\n",
       "address_2                  wellwood\n",
       "suburb           beaconsfield upper\n",
       "postcode                       2602\n",
       "state                           vic\n",
       "date_of_birth              19080712\n",
       "soc_sec_id                  9497788\n",
       "Name: rec-712-org, dtype: object"
      ]
     },
     "execution_count": 96,
     "metadata": {},
     "output_type": "execute_result"
    }
   ],
   "source": [
    "df.loc['rec-712-org']"
   ]
  },
  {
   "cell_type": "code",
   "execution_count": 97,
   "metadata": {
    "hideCode": true,
    "hidePrompt": true
   },
   "outputs": [
    {
     "data": {
      "text/plain": [
       "given_name                    jacob\n",
       "surname                      lanyon\n",
       "street_number                     5\n",
       "address_1                milne cove\n",
       "address_2                   wellwod\n",
       "suburb           beaconsfield upper\n",
       "postcode                       2602\n",
       "state                           vic\n",
       "date_of_birth              19080712\n",
       "soc_sec_id                  9497788\n",
       "Name: rec-712-dup-0, dtype: object"
      ]
     },
     "execution_count": 97,
     "metadata": {},
     "output_type": "execute_result"
    }
   ],
   "source": [
    "df.loc['rec-712-dup-0']"
   ]
  },
  {
   "cell_type": "code",
   "execution_count": 98,
   "metadata": {
    "hideCode": true,
    "hidePrompt": true
   },
   "outputs": [
    {
     "data": {
      "text/plain": [
       "given_name                    jacob\n",
       "surname                      lanyln\n",
       "street_number                     5\n",
       "address_1                milne cove\n",
       "address_2                  wellwood\n",
       "suburb           beaconsfieod upper\n",
       "postcode                       2602\n",
       "state                           vic\n",
       "date_of_birth              19080712\n",
       "soc_sec_id                  9497788\n",
       "Name: rec-712-dup-1, dtype: object"
      ]
     },
     "execution_count": 98,
     "metadata": {},
     "output_type": "execute_result"
    }
   ],
   "source": [
    "df.loc['rec-712-dup-1']"
   ]
  },
  {
   "cell_type": "markdown",
   "metadata": {
    "hideCode": false
   },
   "source": [
    "### Indexing (Block)\n",
    "We have decided to use **surname**, **date_of_birth** and **soc_sec_id** as discriminating variables. It's important to notice that the discriminating variables are the same throughout different experiments."
   ]
  },
  {
   "cell_type": "code",
   "execution_count": 99,
   "metadata": {
    "hideCode": true,
    "hideOutput": false,
    "hidePrompt": true
   },
   "outputs": [
    {
     "data": {
      "text/plain": [
       "MultiIndex([(    'rec-0-org', 'rec-3741-dup-0'),\n",
       "            (    'rec-0-org',   'rec-3741-org'),\n",
       "            (   'rec-10-org',   'rec-2162-org'),\n",
       "            (   'rec-10-org',    'rec-343-org'),\n",
       "            (   'rec-10-org',    'rec-956-org'),\n",
       "            ('rec-100-dup-0',    'rec-100-org'),\n",
       "            ('rec-100-dup-1',  'rec-100-dup-0'),\n",
       "            ('rec-100-dup-1',    'rec-100-org'),\n",
       "            ('rec-100-dup-2',  'rec-100-dup-0'),\n",
       "            ('rec-100-dup-2',  'rec-100-dup-1'),\n",
       "            ...\n",
       "            (  'rec-998-org',   'rec-1578-org'),\n",
       "            (  'rec-998-org',   'rec-2112-org'),\n",
       "            (  'rec-998-org',   'rec-2273-org'),\n",
       "            (  'rec-998-org',   'rec-2670-org'),\n",
       "            (  'rec-998-org',    'rec-305-org'),\n",
       "            (  'rec-998-org',    'rec-345-org'),\n",
       "            (  'rec-998-org',   'rec-3803-org'),\n",
       "            (  'rec-998-org',   'rec-3936-org'),\n",
       "            (  'rec-998-org',    'rec-622-org'),\n",
       "            (  'rec-999-org',   'rec-3297-org')],\n",
       "           names=['rec_id_1', 'rec_id_2'], length=50929)"
      ]
     },
     "execution_count": 99,
     "metadata": {},
     "output_type": "execute_result"
    }
   ],
   "source": [
    "candidate_links = indexing_dataset(df, None, ['surname','date_of_birth', 'soc_sec_id'])\n",
    "candidate_links"
   ]
  },
  {
   "cell_type": "markdown",
   "metadata": {},
   "source": [
    "We show a pair of candidate links in order to verify that at least one of the values of the discriminating variables are equal."
   ]
  },
  {
   "cell_type": "code",
   "execution_count": 100,
   "metadata": {},
   "outputs": [
    {
     "data": {
      "text/plain": [
       "given_name              annabelle\n",
       "surname                  friswell\n",
       "street_number                 205\n",
       "address_1            meares place\n",
       "address_2        sunningdale farm\n",
       "suburb              wildes meadow\n",
       "postcode                     7018\n",
       "state                          wa\n",
       "date_of_birth            19761129\n",
       "soc_sec_id                9016980\n",
       "Name: rec-0-org, dtype: object"
      ]
     },
     "execution_count": 100,
     "metadata": {},
     "output_type": "execute_result"
    }
   ],
   "source": [
    "df.loc[candidate_links[0][0]]"
   ]
  },
  {
   "cell_type": "code",
   "execution_count": 101,
   "metadata": {},
   "outputs": [
    {
     "data": {
      "text/plain": [
       "given_name            michael\n",
       "surname              shepherd\n",
       "street_number              70\n",
       "address_1        hurry nplace\n",
       "address_2            tintagel\n",
       "suburb                penguin\n",
       "postcode                 4179\n",
       "state                     vic\n",
       "date_of_birth        19761129\n",
       "soc_sec_id            8270855\n",
       "Name: rec-3741-dup-0, dtype: object"
      ]
     },
     "execution_count": 101,
     "metadata": {},
     "output_type": "execute_result"
    }
   ],
   "source": [
    "df.loc[candidate_links[0][1]]"
   ]
  },
  {
   "cell_type": "markdown",
   "metadata": {},
   "source": [
    "### Comparison\n",
    "Also in this case, we used the same metrics and threshold used in the previous experiment."
   ]
  },
  {
   "cell_type": "code",
   "execution_count": 102,
   "metadata": {
    "hideCode": true,
    "hideOutput": false,
    "hidePrompt": true
   },
   "outputs": [
    {
     "data": {
      "text/html": [
       "<div>\n",
       "<style scoped>\n",
       "    .dataframe tbody tr th:only-of-type {\n",
       "        vertical-align: middle;\n",
       "    }\n",
       "\n",
       "    .dataframe tbody tr th {\n",
       "        vertical-align: top;\n",
       "    }\n",
       "\n",
       "    .dataframe thead th {\n",
       "        text-align: right;\n",
       "    }\n",
       "</style>\n",
       "<table border=\"1\" class=\"dataframe\">\n",
       "  <thead>\n",
       "    <tr style=\"text-align: right;\">\n",
       "      <th></th>\n",
       "      <th></th>\n",
       "      <th>surname</th>\n",
       "      <th>address_1</th>\n",
       "      <th>address_2</th>\n",
       "      <th>given_name</th>\n",
       "      <th>date_of_birth</th>\n",
       "      <th>suburb</th>\n",
       "      <th>state</th>\n",
       "    </tr>\n",
       "    <tr>\n",
       "      <th>rec_id_1</th>\n",
       "      <th>rec_id_2</th>\n",
       "      <th></th>\n",
       "      <th></th>\n",
       "      <th></th>\n",
       "      <th></th>\n",
       "      <th></th>\n",
       "      <th></th>\n",
       "      <th></th>\n",
       "    </tr>\n",
       "  </thead>\n",
       "  <tbody>\n",
       "    <tr>\n",
       "      <td rowspan=\"2\" valign=\"top\">rec-0-org</td>\n",
       "      <td>rec-3741-dup-0</td>\n",
       "      <td>0.0</td>\n",
       "      <td>0.0</td>\n",
       "      <td>0.0</td>\n",
       "      <td>0</td>\n",
       "      <td>1</td>\n",
       "      <td>0</td>\n",
       "      <td>0</td>\n",
       "    </tr>\n",
       "    <tr>\n",
       "      <td>rec-3741-org</td>\n",
       "      <td>0.0</td>\n",
       "      <td>0.0</td>\n",
       "      <td>0.0</td>\n",
       "      <td>0</td>\n",
       "      <td>1</td>\n",
       "      <td>0</td>\n",
       "      <td>0</td>\n",
       "    </tr>\n",
       "    <tr>\n",
       "      <td rowspan=\"3\" valign=\"top\">rec-10-org</td>\n",
       "      <td>rec-2162-org</td>\n",
       "      <td>1.0</td>\n",
       "      <td>0.0</td>\n",
       "      <td>0.0</td>\n",
       "      <td>0</td>\n",
       "      <td>0</td>\n",
       "      <td>0</td>\n",
       "      <td>0</td>\n",
       "    </tr>\n",
       "    <tr>\n",
       "      <td>rec-343-org</td>\n",
       "      <td>1.0</td>\n",
       "      <td>0.0</td>\n",
       "      <td>0.0</td>\n",
       "      <td>0</td>\n",
       "      <td>0</td>\n",
       "      <td>0</td>\n",
       "      <td>0</td>\n",
       "    </tr>\n",
       "    <tr>\n",
       "      <td>rec-956-org</td>\n",
       "      <td>1.0</td>\n",
       "      <td>0.0</td>\n",
       "      <td>0.0</td>\n",
       "      <td>0</td>\n",
       "      <td>0</td>\n",
       "      <td>0</td>\n",
       "      <td>0</td>\n",
       "    </tr>\n",
       "    <tr>\n",
       "      <td>...</td>\n",
       "      <td>...</td>\n",
       "      <td>...</td>\n",
       "      <td>...</td>\n",
       "      <td>...</td>\n",
       "      <td>...</td>\n",
       "      <td>...</td>\n",
       "      <td>...</td>\n",
       "      <td>...</td>\n",
       "    </tr>\n",
       "    <tr>\n",
       "      <td rowspan=\"4\" valign=\"top\">rec-998-org</td>\n",
       "      <td>rec-345-org</td>\n",
       "      <td>1.0</td>\n",
       "      <td>0.0</td>\n",
       "      <td>0.0</td>\n",
       "      <td>0</td>\n",
       "      <td>0</td>\n",
       "      <td>0</td>\n",
       "      <td>1</td>\n",
       "    </tr>\n",
       "    <tr>\n",
       "      <td>rec-3803-org</td>\n",
       "      <td>1.0</td>\n",
       "      <td>0.0</td>\n",
       "      <td>0.0</td>\n",
       "      <td>0</td>\n",
       "      <td>0</td>\n",
       "      <td>0</td>\n",
       "      <td>1</td>\n",
       "    </tr>\n",
       "    <tr>\n",
       "      <td>rec-3936-org</td>\n",
       "      <td>1.0</td>\n",
       "      <td>0.0</td>\n",
       "      <td>0.0</td>\n",
       "      <td>0</td>\n",
       "      <td>0</td>\n",
       "      <td>0</td>\n",
       "      <td>0</td>\n",
       "    </tr>\n",
       "    <tr>\n",
       "      <td>rec-622-org</td>\n",
       "      <td>1.0</td>\n",
       "      <td>0.0</td>\n",
       "      <td>0.0</td>\n",
       "      <td>0</td>\n",
       "      <td>0</td>\n",
       "      <td>0</td>\n",
       "      <td>0</td>\n",
       "    </tr>\n",
       "    <tr>\n",
       "      <td>rec-999-org</td>\n",
       "      <td>rec-3297-org</td>\n",
       "      <td>1.0</td>\n",
       "      <td>0.0</td>\n",
       "      <td>0.0</td>\n",
       "      <td>0</td>\n",
       "      <td>0</td>\n",
       "      <td>0</td>\n",
       "      <td>0</td>\n",
       "    </tr>\n",
       "  </tbody>\n",
       "</table>\n",
       "<p>50929 rows × 7 columns</p>\n",
       "</div>"
      ],
      "text/plain": [
       "                            surname  address_1  address_2  given_name  \\\n",
       "rec_id_1    rec_id_2                                                    \n",
       "rec-0-org   rec-3741-dup-0      0.0        0.0        0.0           0   \n",
       "            rec-3741-org        0.0        0.0        0.0           0   \n",
       "rec-10-org  rec-2162-org        1.0        0.0        0.0           0   \n",
       "            rec-343-org         1.0        0.0        0.0           0   \n",
       "            rec-956-org         1.0        0.0        0.0           0   \n",
       "...                             ...        ...        ...         ...   \n",
       "rec-998-org rec-345-org         1.0        0.0        0.0           0   \n",
       "            rec-3803-org        1.0        0.0        0.0           0   \n",
       "            rec-3936-org        1.0        0.0        0.0           0   \n",
       "            rec-622-org         1.0        0.0        0.0           0   \n",
       "rec-999-org rec-3297-org        1.0        0.0        0.0           0   \n",
       "\n",
       "                            date_of_birth  suburb  state  \n",
       "rec_id_1    rec_id_2                                      \n",
       "rec-0-org   rec-3741-dup-0              1       0      0  \n",
       "            rec-3741-org                1       0      0  \n",
       "rec-10-org  rec-2162-org                0       0      0  \n",
       "            rec-343-org                 0       0      0  \n",
       "            rec-956-org                 0       0      0  \n",
       "...                                   ...     ...    ...  \n",
       "rec-998-org rec-345-org                 0       0      1  \n",
       "            rec-3803-org                0       0      1  \n",
       "            rec-3936-org                0       0      0  \n",
       "            rec-622-org                 0       0      0  \n",
       "rec-999-org rec-3297-org                0       0      0  \n",
       "\n",
       "[50929 rows x 7 columns]"
      ]
     },
     "execution_count": 102,
     "metadata": {},
     "output_type": "execute_result"
    }
   ],
   "source": [
    "features = compare_records(candidate_links, df, None, comparison, exact)\n",
    "features"
   ]
  },
  {
   "cell_type": "markdown",
   "metadata": {
    "hideCode": false
   },
   "source": [
    "### Classification\n",
    "We train our ML models in order to acquire knowledge to classify records in the test set, considering the weights of the attributes."
   ]
  },
  {
   "cell_type": "markdown",
   "metadata": {
    "hideCode": true,
    "hideOutput": true,
    "hidePrompt": true
   },
   "source": [
    "#### Deterministic approach"
   ]
  },
  {
   "cell_type": "code",
   "execution_count": 103,
   "metadata": {
    "hideCode": true,
    "hideOutput": true,
    "hidePrompt": true
   },
   "outputs": [
    {
     "data": {
      "text/plain": [
       "7.0      340\n",
       "6.0      648\n",
       "5.0      575\n",
       "4.0      262\n",
       "3.0      197\n",
       "2.0    10633\n",
       "1.0    38274\n",
       "dtype: int64"
      ]
     },
     "execution_count": 103,
     "metadata": {},
     "output_type": "execute_result"
    }
   ],
   "source": [
    "# Sum the comparison results.\n",
    "features.sum(axis=1).value_counts().sort_index(ascending=False)"
   ]
  },
  {
   "cell_type": "code",
   "execution_count": 104,
   "metadata": {
    "hideCode": true,
    "hideOutput": true,
    "hidePrompt": true
   },
   "outputs": [
    {
     "data": {
      "text/plain": [
       "7.0     0.667596\n",
       "6.0     1.272360\n",
       "5.0     1.129023\n",
       "4.0     0.514442\n",
       "3.0     0.386813\n",
       "2.0    20.878085\n",
       "1.0    75.151682\n",
       "dtype: float64"
      ]
     },
     "execution_count": 104,
     "metadata": {},
     "output_type": "execute_result"
    }
   ],
   "source": [
    "# Percentage of the comparison results.\n",
    "(features.sum(axis=1).value_counts() / len(candidate_links) * 100).sort_index(ascending=False) "
   ]
  },
  {
   "cell_type": "code",
   "execution_count": 105,
   "metadata": {
    "hideCode": true,
    "hideOutput": true,
    "hidePrompt": true
   },
   "outputs": [
    {
     "data": {
      "text/html": [
       "<div>\n",
       "<style scoped>\n",
       "    .dataframe tbody tr th:only-of-type {\n",
       "        vertical-align: middle;\n",
       "    }\n",
       "\n",
       "    .dataframe tbody tr th {\n",
       "        vertical-align: top;\n",
       "    }\n",
       "\n",
       "    .dataframe thead th {\n",
       "        text-align: right;\n",
       "    }\n",
       "</style>\n",
       "<table border=\"1\" class=\"dataframe\">\n",
       "  <thead>\n",
       "    <tr style=\"text-align: right;\">\n",
       "      <th></th>\n",
       "      <th></th>\n",
       "      <th>surname</th>\n",
       "      <th>address_1</th>\n",
       "      <th>address_2</th>\n",
       "      <th>given_name</th>\n",
       "      <th>date_of_birth</th>\n",
       "      <th>suburb</th>\n",
       "      <th>state</th>\n",
       "    </tr>\n",
       "    <tr>\n",
       "      <th>rec_id_1</th>\n",
       "      <th>rec_id_2</th>\n",
       "      <th></th>\n",
       "      <th></th>\n",
       "      <th></th>\n",
       "      <th></th>\n",
       "      <th></th>\n",
       "      <th></th>\n",
       "      <th></th>\n",
       "    </tr>\n",
       "  </thead>\n",
       "  <tbody>\n",
       "    <tr>\n",
       "      <td>rec-100-dup-0</td>\n",
       "      <td>rec-100-org</td>\n",
       "      <td>1.0</td>\n",
       "      <td>1.0</td>\n",
       "      <td>1.0</td>\n",
       "      <td>1</td>\n",
       "      <td>1</td>\n",
       "      <td>1</td>\n",
       "      <td>1</td>\n",
       "    </tr>\n",
       "    <tr>\n",
       "      <td rowspan=\"2\" valign=\"top\">rec-100-dup-1</td>\n",
       "      <td>rec-100-dup-0</td>\n",
       "      <td>1.0</td>\n",
       "      <td>1.0</td>\n",
       "      <td>1.0</td>\n",
       "      <td>1</td>\n",
       "      <td>1</td>\n",
       "      <td>1</td>\n",
       "      <td>1</td>\n",
       "    </tr>\n",
       "    <tr>\n",
       "      <td>rec-100-org</td>\n",
       "      <td>1.0</td>\n",
       "      <td>1.0</td>\n",
       "      <td>1.0</td>\n",
       "      <td>1</td>\n",
       "      <td>1</td>\n",
       "      <td>1</td>\n",
       "      <td>1</td>\n",
       "    </tr>\n",
       "    <tr>\n",
       "      <td rowspan=\"2\" valign=\"top\">rec-100-dup-2</td>\n",
       "      <td>rec-100-dup-0</td>\n",
       "      <td>0.0</td>\n",
       "      <td>1.0</td>\n",
       "      <td>1.0</td>\n",
       "      <td>0</td>\n",
       "      <td>1</td>\n",
       "      <td>1</td>\n",
       "      <td>1</td>\n",
       "    </tr>\n",
       "    <tr>\n",
       "      <td>rec-100-dup-1</td>\n",
       "      <td>0.0</td>\n",
       "      <td>1.0</td>\n",
       "      <td>1.0</td>\n",
       "      <td>0</td>\n",
       "      <td>1</td>\n",
       "      <td>1</td>\n",
       "      <td>1</td>\n",
       "    </tr>\n",
       "    <tr>\n",
       "      <td>...</td>\n",
       "      <td>...</td>\n",
       "      <td>...</td>\n",
       "      <td>...</td>\n",
       "      <td>...</td>\n",
       "      <td>...</td>\n",
       "      <td>...</td>\n",
       "      <td>...</td>\n",
       "      <td>...</td>\n",
       "    </tr>\n",
       "    <tr>\n",
       "      <td>rec-977-org</td>\n",
       "      <td>rec-977-dup-0</td>\n",
       "      <td>1.0</td>\n",
       "      <td>1.0</td>\n",
       "      <td>1.0</td>\n",
       "      <td>0</td>\n",
       "      <td>1</td>\n",
       "      <td>1</td>\n",
       "      <td>1</td>\n",
       "    </tr>\n",
       "    <tr>\n",
       "      <td rowspan=\"2\" valign=\"top\">rec-979-dup-1</td>\n",
       "      <td>rec-979-dup-0</td>\n",
       "      <td>1.0</td>\n",
       "      <td>1.0</td>\n",
       "      <td>1.0</td>\n",
       "      <td>0</td>\n",
       "      <td>1</td>\n",
       "      <td>0</td>\n",
       "      <td>1</td>\n",
       "    </tr>\n",
       "    <tr>\n",
       "      <td>rec-979-org</td>\n",
       "      <td>1.0</td>\n",
       "      <td>1.0</td>\n",
       "      <td>1.0</td>\n",
       "      <td>0</td>\n",
       "      <td>1</td>\n",
       "      <td>1</td>\n",
       "      <td>1</td>\n",
       "    </tr>\n",
       "    <tr>\n",
       "      <td>rec-979-org</td>\n",
       "      <td>rec-979-dup-0</td>\n",
       "      <td>1.0</td>\n",
       "      <td>1.0</td>\n",
       "      <td>1.0</td>\n",
       "      <td>1</td>\n",
       "      <td>1</td>\n",
       "      <td>0</td>\n",
       "      <td>1</td>\n",
       "    </tr>\n",
       "    <tr>\n",
       "      <td>rec-996-org</td>\n",
       "      <td>rec-996-dup-0</td>\n",
       "      <td>1.0</td>\n",
       "      <td>0.0</td>\n",
       "      <td>1.0</td>\n",
       "      <td>0</td>\n",
       "      <td>1</td>\n",
       "      <td>1</td>\n",
       "      <td>1</td>\n",
       "    </tr>\n",
       "  </tbody>\n",
       "</table>\n",
       "<p>1825 rows × 7 columns</p>\n",
       "</div>"
      ],
      "text/plain": [
       "                             surname  address_1  address_2  given_name  \\\n",
       "rec_id_1      rec_id_2                                                   \n",
       "rec-100-dup-0 rec-100-org        1.0        1.0        1.0           1   \n",
       "rec-100-dup-1 rec-100-dup-0      1.0        1.0        1.0           1   \n",
       "              rec-100-org        1.0        1.0        1.0           1   \n",
       "rec-100-dup-2 rec-100-dup-0      0.0        1.0        1.0           0   \n",
       "              rec-100-dup-1      0.0        1.0        1.0           0   \n",
       "...                              ...        ...        ...         ...   \n",
       "rec-977-org   rec-977-dup-0      1.0        1.0        1.0           0   \n",
       "rec-979-dup-1 rec-979-dup-0      1.0        1.0        1.0           0   \n",
       "              rec-979-org        1.0        1.0        1.0           0   \n",
       "rec-979-org   rec-979-dup-0      1.0        1.0        1.0           1   \n",
       "rec-996-org   rec-996-dup-0      1.0        0.0        1.0           0   \n",
       "\n",
       "                             date_of_birth  suburb  state  \n",
       "rec_id_1      rec_id_2                                     \n",
       "rec-100-dup-0 rec-100-org                1       1      1  \n",
       "rec-100-dup-1 rec-100-dup-0              1       1      1  \n",
       "              rec-100-org                1       1      1  \n",
       "rec-100-dup-2 rec-100-dup-0              1       1      1  \n",
       "              rec-100-dup-1              1       1      1  \n",
       "...                                    ...     ...    ...  \n",
       "rec-977-org   rec-977-dup-0              1       1      1  \n",
       "rec-979-dup-1 rec-979-dup-0              1       0      1  \n",
       "              rec-979-org                1       1      1  \n",
       "rec-979-org   rec-979-dup-0              1       0      1  \n",
       "rec-996-org   rec-996-dup-0              1       1      1  \n",
       "\n",
       "[1825 rows x 7 columns]"
      ]
     },
     "execution_count": 105,
     "metadata": {},
     "output_type": "execute_result"
    }
   ],
   "source": [
    "links_noml = features[features.sum(axis=1) >= 4]\n",
    "links_noml"
   ]
  },
  {
   "cell_type": "markdown",
   "metadata": {},
   "source": [
    "#### Naive Bayes"
   ]
  },
  {
   "cell_type": "code",
   "execution_count": 106,
   "metadata": {
    "hideCode": false,
    "hideOutput": true,
    "hidePrompt": true
   },
   "outputs": [],
   "source": [
    "# Initialise the NaiveBayesClassifier.\n",
    "nb = rl.NaiveBayesClassifier()\n",
    "nb.fit(features, true_links)"
   ]
  },
  {
   "cell_type": "code",
   "execution_count": 107,
   "metadata": {
    "hideCode": true,
    "hidePrompt": true
   },
   "outputs": [
    {
     "name": "stdout",
     "output_type": "stream",
     "text": [
      "p probability P(Match): 0.03769954250034364\n",
      "\n",
      "m probabilities P(x_i=1|Match): {'surname': {0.0: 0.19739586485459734, 1.0: 0.8026041351454025}, 'address_1': {0.0: 0.12031253955077714, 1.0: 0.879687460449223}, 'address_2': {0.0: 0.2984375209960916, 1.0: 0.7015624790039081}, 'given_name': {0.0: 0.3880208449978287, 1.0: 0.6119791550021711}, 'date_of_birth': {0.0: 0.13072920513237446, 1.0: 0.8692707948676252}, 'suburb': {0.0: 0.35468751513671715, 1.0: 0.645312484863283}, 'state': {0.0: 0.06197921229383207, 1.0: 0.9380207877061676}}\n",
      "\n",
      "u probabilities P(x_i=1|Non-Match): {'surname': {0.0: 0.006304966409006646, 1.0: 0.9936950335909945}, 'address_1': {0.0: 0.9959803281194052, 1.0: 0.004019671880594699}, 'address_2': {0.0: 0.9986533065410298, 1.0: 0.0013466934589700125}, 'given_name': {0.0: 0.9961435634428644, 1.0: 0.003856436557136706}, 'date_of_birth': {0.0: 0.9936746291755609, 1.0: 0.006325370824438895}, 'suburb': {0.0: 0.9990409904342437, 1.0: 0.0009590095657572717}, 'state': {0.0: 0.7887734894049123, 1.0: 0.2112265105950886}}\n",
      "\n",
      "weights of features: {'surname': {0.0: 31.3079962761764, 1.0: 0.8076966352996334}, 'address_1': {0.0: 0.12079810830997982, 1.0: 218.84558903824646}, 'address_2': {0.0: 0.29883996682469327, 1.0: 520.9518724034511}, 'given_name': {0.0: 0.38952301579578924, 1.0: 158.6903209569583}, 'date_of_birth': {0.0: 0.13156137964480266, 1.0: 137.42606069972751}, 'suburb': {0.0: 0.3550279903755986, 1.0: 672.8947321330616}, 'state': {0.0: 0.07857669296237643, 1.0: 4.440828876372956}}\n"
     ]
    }
   ],
   "source": [
    "# Print the parameters that are trained (m, u and p).\n",
    "print(\"p probability P(Match):\", nb.p)\n",
    "print()\n",
    "print(\"m probabilities P(x_i=1|Match):\", nb.m_probs)\n",
    "print()\n",
    "print(\"u probabilities P(x_i=1|Non-Match):\", nb.u_probs)\n",
    "print()\n",
    "print(\"weights of features:\", nb.weights)"
   ]
  },
  {
   "cell_type": "code",
   "execution_count": 108,
   "metadata": {
    "hideCode": true,
    "hideOutput": true,
    "hidePrompt": true
   },
   "outputs": [
    {
     "name": "stdout",
     "output_type": "stream",
     "text": [
      "Predicted number of links: 1969\n"
     ]
    }
   ],
   "source": [
    "# Evaluate the model\n",
    "links_bayes = nb.predict(features)\n",
    "print(\"Predicted number of links:\", len(links_bayes))"
   ]
  },
  {
   "cell_type": "code",
   "execution_count": 109,
   "metadata": {
    "hideCode": true,
    "hideOutput": true,
    "hidePrompt": true
   },
   "outputs": [
    {
     "data": {
      "text/plain": [
       "rec_id_1     rec_id_2      \n",
       "rec-0-org    rec-3741-dup-0    0.062020\n",
       "             rec-3741-org      0.062020\n",
       "rec-10-org   rec-2162-org      0.000002\n",
       "             rec-343-org       0.000002\n",
       "             rec-956-org       0.000002\n",
       "                                 ...   \n",
       "rec-998-org  rec-345-org       0.000092\n",
       "             rec-3803-org      0.000092\n",
       "             rec-3936-org      0.000002\n",
       "             rec-622-org       0.000002\n",
       "rec-999-org  rec-3297-org      0.000002\n",
       "Length: 50929, dtype: float64"
      ]
     },
     "execution_count": 109,
     "metadata": {},
     "output_type": "execute_result"
    }
   ],
   "source": [
    "# Predict the match probability for each pair in the dataset.\n",
    "probs_bayes = nb.prob(features)\n",
    "probs_bayes"
   ]
  },
  {
   "cell_type": "markdown",
   "metadata": {},
   "source": [
    "#### Expectation-Conditional Maximisation"
   ]
  },
  {
   "cell_type": "code",
   "execution_count": 110,
   "metadata": {
    "hideCode": false,
    "hideOutput": true,
    "hidePrompt": true
   },
   "outputs": [],
   "source": [
    "# Initialise the Expectation-Conditional Maximisation classifier.\n",
    "ecm = rl.ECMClassifier()\n",
    "ecm.fit(features)"
   ]
  },
  {
   "cell_type": "code",
   "execution_count": 111,
   "metadata": {
    "hideCode": true,
    "hidePrompt": true
   },
   "outputs": [
    {
     "name": "stdout",
     "output_type": "stream",
     "text": [
      "p probability P(Match): 0.04422886741322979\n",
      "\n",
      "m probabilities P(x_i=1|Match): {'surname': {0.0: 0.30542655786279255, 1.0: 0.694573442137208}, 'address_1': {0.0: 0.2468825894881691, 1.0: 0.7531174105118315}, 'address_2': {0.0: 0.40047239991837746, 1.0: 0.5995276000816229}, 'given_name': {0.0: 0.4751710465591838, 1.0: 0.5248289534408166}, 'date_of_birth': {0.0: 0.12148308903836183, 1.0: 0.8785169109616388}, 'suburb': {0.0: 0.44839860553963623, 1.0: 0.551601394460364}, 'state': {0.0: 0.1612905703295032, 1.0: 0.8387094296704972}}\n",
      "\n",
      "u probabilities P(x_i=1|Non-Match): {'surname': {0.0: 3.4736045678538596e-07, 1.0: 0.9999996526395413}, 'address_1': {0.0: 0.9961053266705839, 1.0: 0.0038946733294151813}, 'address_2': {0.0: 0.9987150895414244, 1.0: 0.0012849104585748773}, 'given_name': {0.0: 0.9962650126166345, 1.0: 0.003734987383363294}, 'date_of_birth': {0.0: 0.9999976876787589, 1.0: 2.3123212408447907e-06}, 'suburb': {0.0: 0.9991063399654829, 1.0: 0.0008936600345149506}, 'state': {0.0: 0.7891428733450196, 1.0: 0.21085712665497933}}\n",
      "\n",
      "weights of features: {'surname': {0.0: 879278.4322353012, 1.0: 0.6945736834046412}, 'address_1': {0.0: 0.24784787600058097, 1.0: 193.37113714359157}, 'address_2': {0.0: 0.4009876331219353, 1.0: 466.59095665434324}, 'given_name': {0.0: 0.47695245797217506, 1.0: 140.51692805671993}, 'date_of_birth': {0.0: 0.1214833699469386, 1.0: 379928.57369622134}, 'suburb': {0.0: 0.4487996798770464, 1.0: 617.2385170606351}, 'state': {0.0: 0.20438703278891002, 1.0: 3.97761955204321}}\n"
     ]
    }
   ],
   "source": [
    "# Print the parameters that are trained (m, u and p). \n",
    "print(\"p probability P(Match):\", ecm.p)\n",
    "print()\n",
    "print(\"m probabilities P(x_i=1|Match):\", ecm.m_probs)\n",
    "print()\n",
    "print(\"u probabilities P(x_i=1|Non-Match):\", ecm.u_probs)\n",
    "print()\n",
    "print(\"weights of features:\", ecm.weights)"
   ]
  },
  {
   "cell_type": "code",
   "execution_count": 112,
   "metadata": {
    "hideCode": true,
    "hideOutput": true,
    "hidePrompt": true
   },
   "outputs": [
    {
     "name": "stdout",
     "output_type": "stream",
     "text": [
      "Predicted number of links: 2224\n"
     ]
    }
   ],
   "source": [
    "# evaluate the model\n",
    "links_ecm = ecm.predict(features)\n",
    "print(\"Predicted number of links:\", len(links_ecm))"
   ]
  },
  {
   "cell_type": "code",
   "execution_count": 113,
   "metadata": {
    "hideCode": true,
    "hideOutput": true,
    "hidePrompt": true
   },
   "outputs": [
    {
     "name": "stdout",
     "output_type": "stream",
     "text": [
      "rec_id_1     rec_id_2      \n",
      "rec-0-org    rec-3741-dup-0    1.000000\n",
      "             rec-3741-org      1.000000\n",
      "rec-10-org   rec-2162-org      0.000017\n",
      "             rec-343-org       0.000017\n",
      "             rec-956-org       0.000017\n",
      "                                 ...   \n",
      "rec-998-org  rec-345-org       0.000330\n",
      "             rec-3803-org      0.000330\n",
      "             rec-3936-org      0.000017\n",
      "             rec-622-org       0.000017\n",
      "rec-999-org  rec-3297-org      0.000017\n",
      "Length: 50929, dtype: float64\n"
     ]
    }
   ],
   "source": [
    "# Predict the match probability for each pair in the dataset.\n",
    "probs_ecm = ecm.prob(features)\n",
    "print(probs_ecm)"
   ]
  },
  {
   "cell_type": "markdown",
   "metadata": {
    "hideCode": true,
    "hideOutput": true,
    "hidePrompt": true
   },
   "source": [
    "### Evaluation"
   ]
  },
  {
   "cell_type": "code",
   "execution_count": 114,
   "metadata": {
    "hideCode": true,
    "hideOutput": true,
    "hidePrompt": true
   },
   "outputs": [
    {
     "name": "stdout",
     "output_type": "stream",
     "text": [
      "Deterministic approach \n",
      "\n",
      "Confusion matrix: \n",
      " [[ 1824   110]\n",
      " [    1 48994]]\n",
      "Fscore: 0.9704708699122107\n",
      "Recall: 0.9431230610134437\n",
      "Precision: 0.9994520547945206\n"
     ]
    }
   ],
   "source": [
    "cm_noml, fscore_noml, recall_noml, precision_noml = evaluate_results(true_links, links_noml, len(candidate_links))\n",
    "\n",
    "print(\"Deterministic approach \\n\")\n",
    "print('Confusion matrix: \\n', cm_noml)\n",
    "print('Fscore:',fscore_noml)\n",
    "print('Recall:',recall_noml)\n",
    "print('Precision:',precision_noml)"
   ]
  },
  {
   "cell_type": "code",
   "execution_count": 115,
   "metadata": {
    "hideCode": true,
    "hideOutput": true,
    "hidePrompt": true
   },
   "outputs": [
    {
     "name": "stdout",
     "output_type": "stream",
     "text": [
      "Naive Bayes \n",
      "\n",
      "Confusion matrix: \n",
      " [[ 1895    39]\n",
      " [   74 48921]]\n",
      "Fscore: 0.9710479118626698\n",
      "Recall: 0.9798345398138573\n",
      "Precision: 0.9624174707973591\n"
     ]
    }
   ],
   "source": [
    "cm_nb, fscore_nb, recall_nb, precision_nb = evaluate_results(true_links, links_bayes, len(candidate_links))\n",
    "\n",
    "print(\"Naive Bayes \\n\")\n",
    "print('Confusion matrix: \\n', cm_nb)\n",
    "print('Fscore:',fscore_nb)\n",
    "print('Recall:',recall_nb)\n",
    "print('Precision:',precision_nb)"
   ]
  },
  {
   "cell_type": "code",
   "execution_count": 116,
   "metadata": {
    "hideCode": true,
    "hideOutput": true,
    "hidePrompt": true
   },
   "outputs": [
    {
     "name": "stdout",
     "output_type": "stream",
     "text": [
      "Expectation-Conditional Maximisation \n",
      "\n",
      "Confusion matrix: \n",
      " [[ 1912    22]\n",
      " [  312 48683]]\n",
      "Fscore: 0.9196729196729198\n",
      "Recall: 0.9886246122026887\n",
      "Precision: 0.8597122302158273\n"
     ]
    }
   ],
   "source": [
    "cm_ecm, fscore_ecm, recall_ecm, precision_ecm = evaluate_results(true_links, links_ecm, len(candidate_links))\n",
    "\n",
    "print(\"Expectation-Conditional Maximisation \\n\")\n",
    "print('Confusion matrix: \\n', cm_ecm)\n",
    "print('Fscore:',fscore_ecm)\n",
    "print('Recall:',recall_ecm)\n",
    "print('Precision:',precision_ecm)"
   ]
  },
  {
   "cell_type": "markdown",
   "metadata": {},
   "source": [
    "## Part 2 : Testing\n",
    "\n",
    "### Dataset description\n",
    "This data set contains 5000 records (2000 originals and 3000 duplicates), with a maximum of 5 duplicates based on one original record (and a Zipf distribution of duplicate records). Distribution of duplicates: 168 originals records have 5 duplicate records 161 originals records have 4 duplicate records 212 originals records have 3 duplicate records 256 originals records have 2 duplicate records 368 originals records have 1 duplicate record 1835 originals records have no duplicate record."
   ]
  },
  {
   "cell_type": "code",
   "execution_count": 117,
   "metadata": {
    "hideCode": true,
    "hidePrompt": true
   },
   "outputs": [
    {
     "name": "stdout",
     "output_type": "stream",
     "text": [
      "Loading data...\n",
      "5000 records in dataset A\n",
      "6538 links between dataset A and A\n"
     ]
    }
   ],
   "source": [
    "from recordlinkage.datasets import load_febrl3\n",
    "# load datasets\n",
    "print('Loading data...')\n",
    "df, true_links = load_febrl3(return_links = True)\n",
    "print(len(df), 'records in dataset A')\n",
    "print(len(true_links), 'links between dataset A and A')"
   ]
  },
  {
   "cell_type": "code",
   "execution_count": 118,
   "metadata": {
    "hideCode": true,
    "hidePrompt": true
   },
   "outputs": [
    {
     "data": {
      "text/html": [
       "<div>\n",
       "<style scoped>\n",
       "    .dataframe tbody tr th:only-of-type {\n",
       "        vertical-align: middle;\n",
       "    }\n",
       "\n",
       "    .dataframe tbody tr th {\n",
       "        vertical-align: top;\n",
       "    }\n",
       "\n",
       "    .dataframe thead th {\n",
       "        text-align: right;\n",
       "    }\n",
       "</style>\n",
       "<table border=\"1\" class=\"dataframe\">\n",
       "  <thead>\n",
       "    <tr style=\"text-align: right;\">\n",
       "      <th></th>\n",
       "      <th>given_name</th>\n",
       "      <th>surname</th>\n",
       "      <th>street_number</th>\n",
       "      <th>address_1</th>\n",
       "      <th>address_2</th>\n",
       "      <th>suburb</th>\n",
       "      <th>postcode</th>\n",
       "      <th>state</th>\n",
       "      <th>date_of_birth</th>\n",
       "      <th>soc_sec_id</th>\n",
       "    </tr>\n",
       "    <tr>\n",
       "      <th>rec_id</th>\n",
       "      <th></th>\n",
       "      <th></th>\n",
       "      <th></th>\n",
       "      <th></th>\n",
       "      <th></th>\n",
       "      <th></th>\n",
       "      <th></th>\n",
       "      <th></th>\n",
       "      <th></th>\n",
       "      <th></th>\n",
       "    </tr>\n",
       "  </thead>\n",
       "  <tbody>\n",
       "    <tr>\n",
       "      <td>rec-1496-org</td>\n",
       "      <td>mitchell</td>\n",
       "      <td>green</td>\n",
       "      <td>7</td>\n",
       "      <td>wallaby place</td>\n",
       "      <td>delmar</td>\n",
       "      <td>cleveland</td>\n",
       "      <td>2119</td>\n",
       "      <td>sa</td>\n",
       "      <td>19560409</td>\n",
       "      <td>1804974</td>\n",
       "    </tr>\n",
       "    <tr>\n",
       "      <td>rec-552-dup-3</td>\n",
       "      <td>harley</td>\n",
       "      <td>mccarthy</td>\n",
       "      <td>177</td>\n",
       "      <td>pridhamstreet</td>\n",
       "      <td>milton</td>\n",
       "      <td>marsden</td>\n",
       "      <td>3165</td>\n",
       "      <td>nsw</td>\n",
       "      <td>19080419</td>\n",
       "      <td>6089216</td>\n",
       "    </tr>\n",
       "    <tr>\n",
       "      <td>rec-988-dup-1</td>\n",
       "      <td>madeline</td>\n",
       "      <td>mason</td>\n",
       "      <td>54</td>\n",
       "      <td>hoseason street</td>\n",
       "      <td>lakefront retrmnt vlge</td>\n",
       "      <td>granville</td>\n",
       "      <td>4881</td>\n",
       "      <td>nsw</td>\n",
       "      <td>19081128</td>\n",
       "      <td>2185997</td>\n",
       "    </tr>\n",
       "    <tr>\n",
       "      <td>rec-1716-dup-1</td>\n",
       "      <td>isabelle</td>\n",
       "      <td>NaN</td>\n",
       "      <td>23</td>\n",
       "      <td>gundulu place</td>\n",
       "      <td>currin ga</td>\n",
       "      <td>utakarra</td>\n",
       "      <td>2193</td>\n",
       "      <td>wa</td>\n",
       "      <td>19921119</td>\n",
       "      <td>4314184</td>\n",
       "    </tr>\n",
       "    <tr>\n",
       "      <td>rec-1213-org</td>\n",
       "      <td>taylor</td>\n",
       "      <td>hathaway</td>\n",
       "      <td>7</td>\n",
       "      <td>yuranigh court</td>\n",
       "      <td>brentwood vlge</td>\n",
       "      <td>NaN</td>\n",
       "      <td>4220</td>\n",
       "      <td>nsw</td>\n",
       "      <td>19991207</td>\n",
       "      <td>9144092</td>\n",
       "    </tr>\n",
       "    <tr>\n",
       "      <td>...</td>\n",
       "      <td>...</td>\n",
       "      <td>...</td>\n",
       "      <td>...</td>\n",
       "      <td>...</td>\n",
       "      <td>...</td>\n",
       "      <td>...</td>\n",
       "      <td>...</td>\n",
       "      <td>...</td>\n",
       "      <td>...</td>\n",
       "      <td>...</td>\n",
       "    </tr>\n",
       "    <tr>\n",
       "      <td>rec-937-org</td>\n",
       "      <td>jack</td>\n",
       "      <td>campbell</td>\n",
       "      <td>169</td>\n",
       "      <td>marr street</td>\n",
       "      <td>rhosewyn</td>\n",
       "      <td>oakleigh</td>\n",
       "      <td>3356</td>\n",
       "      <td>vic</td>\n",
       "      <td>19770109</td>\n",
       "      <td>1485686</td>\n",
       "    </tr>\n",
       "    <tr>\n",
       "      <td>rec-1200-dup-0</td>\n",
       "      <td>william</td>\n",
       "      <td>lazaroff</td>\n",
       "      <td>12</td>\n",
       "      <td>leah ylose</td>\n",
       "      <td>milwlood</td>\n",
       "      <td>forbes</td>\n",
       "      <td>7256</td>\n",
       "      <td>qld</td>\n",
       "      <td>NaN</td>\n",
       "      <td>8072193</td>\n",
       "    </tr>\n",
       "    <tr>\n",
       "      <td>rec-1756-org</td>\n",
       "      <td>destynii</td>\n",
       "      <td>bowerman</td>\n",
       "      <td>12</td>\n",
       "      <td>halford crescent</td>\n",
       "      <td>sutton</td>\n",
       "      <td>nollamara</td>\n",
       "      <td>2431</td>\n",
       "      <td>qld</td>\n",
       "      <td>19880821</td>\n",
       "      <td>6089424</td>\n",
       "    </tr>\n",
       "    <tr>\n",
       "      <td>rec-1444-org</td>\n",
       "      <td>gianni</td>\n",
       "      <td>dooley</td>\n",
       "      <td>38</td>\n",
       "      <td>ashburton circuit</td>\n",
       "      <td>brentwood vlge</td>\n",
       "      <td>ryde</td>\n",
       "      <td>6025</td>\n",
       "      <td>qld</td>\n",
       "      <td>19371212</td>\n",
       "      <td>5854405</td>\n",
       "    </tr>\n",
       "    <tr>\n",
       "      <td>rec-993-dup-0</td>\n",
       "      <td>jake</td>\n",
       "      <td>westbrook</td>\n",
       "      <td>231</td>\n",
       "      <td>booroondar a street</td>\n",
       "      <td>jodayne</td>\n",
       "      <td>salisbury east</td>\n",
       "      <td>2074</td>\n",
       "      <td>nsw</td>\n",
       "      <td>19001115</td>\n",
       "      <td>2330929</td>\n",
       "    </tr>\n",
       "  </tbody>\n",
       "</table>\n",
       "<p>5000 rows × 10 columns</p>\n",
       "</div>"
      ],
      "text/plain": [
       "               given_name    surname street_number            address_1  \\\n",
       "rec_id                                                                    \n",
       "rec-1496-org     mitchell      green             7        wallaby place   \n",
       "rec-552-dup-3      harley   mccarthy           177        pridhamstreet   \n",
       "rec-988-dup-1    madeline      mason            54      hoseason street   \n",
       "rec-1716-dup-1   isabelle        NaN            23        gundulu place   \n",
       "rec-1213-org       taylor   hathaway             7       yuranigh court   \n",
       "...                   ...        ...           ...                  ...   \n",
       "rec-937-org          jack   campbell           169          marr street   \n",
       "rec-1200-dup-0    william   lazaroff            12           leah ylose   \n",
       "rec-1756-org     destynii   bowerman            12     halford crescent   \n",
       "rec-1444-org       gianni     dooley            38    ashburton circuit   \n",
       "rec-993-dup-0        jake  westbrook           231  booroondar a street   \n",
       "\n",
       "                             address_2          suburb postcode state  \\\n",
       "rec_id                                                                  \n",
       "rec-1496-org                    delmar       cleveland     2119    sa   \n",
       "rec-552-dup-3                   milton         marsden     3165   nsw   \n",
       "rec-988-dup-1   lakefront retrmnt vlge       granville     4881   nsw   \n",
       "rec-1716-dup-1               currin ga        utakarra     2193    wa   \n",
       "rec-1213-org            brentwood vlge             NaN     4220   nsw   \n",
       "...                                ...             ...      ...   ...   \n",
       "rec-937-org                   rhosewyn        oakleigh     3356   vic   \n",
       "rec-1200-dup-0                milwlood          forbes     7256   qld   \n",
       "rec-1756-org                    sutton       nollamara     2431   qld   \n",
       "rec-1444-org            brentwood vlge            ryde     6025   qld   \n",
       "rec-993-dup-0                  jodayne  salisbury east     2074   nsw   \n",
       "\n",
       "               date_of_birth soc_sec_id  \n",
       "rec_id                                   \n",
       "rec-1496-org        19560409    1804974  \n",
       "rec-552-dup-3       19080419    6089216  \n",
       "rec-988-dup-1       19081128    2185997  \n",
       "rec-1716-dup-1      19921119    4314184  \n",
       "rec-1213-org        19991207    9144092  \n",
       "...                      ...        ...  \n",
       "rec-937-org         19770109    1485686  \n",
       "rec-1200-dup-0           NaN    8072193  \n",
       "rec-1756-org        19880821    6089424  \n",
       "rec-1444-org        19371212    5854405  \n",
       "rec-993-dup-0       19001115    2330929  \n",
       "\n",
       "[5000 rows x 10 columns]"
      ]
     },
     "execution_count": 118,
     "metadata": {},
     "output_type": "execute_result"
    }
   ],
   "source": [
    "df"
   ]
  },
  {
   "cell_type": "code",
   "execution_count": 119,
   "metadata": {
    "hideCode": true,
    "hideOutput": true,
    "hidePrompt": true
   },
   "outputs": [
    {
     "data": {
      "text/plain": [
       "given_name       object\n",
       "surname          object\n",
       "street_number    object\n",
       "address_1        object\n",
       "address_2        object\n",
       "suburb           object\n",
       "postcode         object\n",
       "state            object\n",
       "date_of_birth    object\n",
       "soc_sec_id       object\n",
       "dtype: object"
      ]
     },
     "execution_count": 119,
     "metadata": {},
     "output_type": "execute_result"
    }
   ],
   "source": [
    "df.dtypes"
   ]
  },
  {
   "cell_type": "code",
   "execution_count": 120,
   "metadata": {
    "hideCode": true,
    "hideOutput": true,
    "hidePrompt": true
   },
   "outputs": [
    {
     "data": {
      "text/plain": [
       "given_name               harley\n",
       "surname                mccarthy\n",
       "street_number               177\n",
       "address_1        pridham street\n",
       "address_2                milton\n",
       "suburb                  marsden\n",
       "postcode                   3165\n",
       "state                       nsw\n",
       "date_of_birth          19080419\n",
       "soc_sec_id              6089216\n",
       "Name: rec-552-org, dtype: object"
      ]
     },
     "execution_count": 120,
     "metadata": {},
     "output_type": "execute_result"
    }
   ],
   "source": [
    "df.loc['rec-552-org']"
   ]
  },
  {
   "cell_type": "code",
   "execution_count": 121,
   "metadata": {
    "hideCode": true,
    "hideOutput": true,
    "hidePrompt": true
   },
   "outputs": [
    {
     "data": {
      "text/plain": [
       "given_name                harley\n",
       "surname                 mccarthy\n",
       "street_number                177\n",
       "address_1        pridham tstreet\n",
       "address_2                 milton\n",
       "suburb                   marsden\n",
       "postcode                    3165\n",
       "state                        nsw\n",
       "date_of_birth           19080419\n",
       "soc_sec_id               6089216\n",
       "Name: rec-552-dup-0, dtype: object"
      ]
     },
     "execution_count": 121,
     "metadata": {},
     "output_type": "execute_result"
    }
   ],
   "source": [
    "df.loc['rec-552-dup-0']"
   ]
  },
  {
   "cell_type": "code",
   "execution_count": 122,
   "metadata": {
    "hideCode": true,
    "hideOutput": true,
    "hidePrompt": true
   },
   "outputs": [
    {
     "data": {
      "text/plain": [
       "given_name               harley\n",
       "surname                mccarthy\n",
       "street_number               177\n",
       "address_1        pridham street\n",
       "address_2                milton\n",
       "suburb                  marsden\n",
       "postcode                   3167\n",
       "state                       nsw\n",
       "date_of_birth          19080419\n",
       "soc_sec_id              6089216\n",
       "Name: rec-552-dup-1, dtype: object"
      ]
     },
     "execution_count": 122,
     "metadata": {},
     "output_type": "execute_result"
    }
   ],
   "source": [
    "df.loc['rec-552-dup-1']"
   ]
  },
  {
   "cell_type": "code",
   "execution_count": 123,
   "metadata": {
    "hideCode": true,
    "hideOutput": true,
    "hidePrompt": true
   },
   "outputs": [
    {
     "data": {
      "text/plain": [
       "given_name               haryley\n",
       "surname                 mccarthy\n",
       "street_number                177\n",
       "address_1        pridhamp street\n",
       "address_2                 miltoh\n",
       "suburb                   marsden\n",
       "postcode                    3165\n",
       "state                        nsw\n",
       "date_of_birth           19080419\n",
       "soc_sec_id               6089216\n",
       "Name: rec-552-dup-2, dtype: object"
      ]
     },
     "execution_count": 123,
     "metadata": {},
     "output_type": "execute_result"
    }
   ],
   "source": [
    "df.loc['rec-552-dup-2']"
   ]
  },
  {
   "cell_type": "code",
   "execution_count": 124,
   "metadata": {
    "hideCode": true,
    "hideOutput": true,
    "hidePrompt": true
   },
   "outputs": [
    {
     "data": {
      "text/plain": [
       "given_name              harley\n",
       "surname               mccarthy\n",
       "street_number              177\n",
       "address_1        pridhamstreet\n",
       "address_2               milton\n",
       "suburb                 marsden\n",
       "postcode                  3165\n",
       "state                      nsw\n",
       "date_of_birth         19080419\n",
       "soc_sec_id             6089216\n",
       "Name: rec-552-dup-3, dtype: object"
      ]
     },
     "execution_count": 124,
     "metadata": {},
     "output_type": "execute_result"
    }
   ],
   "source": [
    "df.loc['rec-552-dup-3']"
   ]
  },
  {
   "cell_type": "markdown",
   "metadata": {},
   "source": [
    "### Indexing"
   ]
  },
  {
   "cell_type": "code",
   "execution_count": 125,
   "metadata": {
    "hideCode": false,
    "hideOutput": false,
    "hidePrompt": true
   },
   "outputs": [
    {
     "data": {
      "text/plain": [
       "MultiIndex([(   'rec-1-org', 'rec-1963-dup-0'),\n",
       "            (   'rec-1-org',  'rec-567-dup-1'),\n",
       "            (   'rec-1-org',  'rec-910-dup-1'),\n",
       "            ('rec-10-dup-0',   'rec-10-dup-2'),\n",
       "            ('rec-10-dup-1',   'rec-10-dup-0'),\n",
       "            ('rec-10-dup-1',   'rec-10-dup-2'),\n",
       "            ('rec-10-dup-1', 'rec-1411-dup-0'),\n",
       "            ('rec-10-dup-1', 'rec-1411-dup-1'),\n",
       "            ('rec-10-dup-1', 'rec-1411-dup-2'),\n",
       "            ('rec-10-dup-1',   'rec-1411-org'),\n",
       "            ...\n",
       "            ( 'rec-997-org',   'rec-66-dup-0'),\n",
       "            ( 'rec-997-org',     'rec-66-org'),\n",
       "            ( 'rec-997-org',  'rec-724-dup-0'),\n",
       "            ( 'rec-997-org',  'rec-724-dup-4'),\n",
       "            ( 'rec-997-org',    'rec-724-org'),\n",
       "            ( 'rec-997-org',    'rec-849-org'),\n",
       "            ( 'rec-997-org',  'rec-997-dup-0'),\n",
       "            ( 'rec-999-org',    'rec-234-org'),\n",
       "            ( 'rec-999-org',  'rec-679-dup-1'),\n",
       "            ( 'rec-999-org',    'rec-679-org')],\n",
       "           names=['rec_id_1', 'rec_id_2'], length=40470)"
      ]
     },
     "execution_count": 125,
     "metadata": {},
     "output_type": "execute_result"
    }
   ],
   "source": [
    "candidate_links = indexing_dataset(df, None, ['surname','date_of_birth', 'soc_sec_id'])\n",
    "candidate_links"
   ]
  },
  {
   "cell_type": "markdown",
   "metadata": {},
   "source": [
    "### Comparison"
   ]
  },
  {
   "cell_type": "code",
   "execution_count": 126,
   "metadata": {
    "hideCode": true,
    "hideOutput": false,
    "hidePrompt": true,
    "scrolled": false
   },
   "outputs": [
    {
     "data": {
      "text/html": [
       "<div>\n",
       "<style scoped>\n",
       "    .dataframe tbody tr th:only-of-type {\n",
       "        vertical-align: middle;\n",
       "    }\n",
       "\n",
       "    .dataframe tbody tr th {\n",
       "        vertical-align: top;\n",
       "    }\n",
       "\n",
       "    .dataframe thead th {\n",
       "        text-align: right;\n",
       "    }\n",
       "</style>\n",
       "<table border=\"1\" class=\"dataframe\">\n",
       "  <thead>\n",
       "    <tr style=\"text-align: right;\">\n",
       "      <th></th>\n",
       "      <th></th>\n",
       "      <th>surname</th>\n",
       "      <th>address_1</th>\n",
       "      <th>address_2</th>\n",
       "      <th>given_name</th>\n",
       "      <th>date_of_birth</th>\n",
       "      <th>suburb</th>\n",
       "      <th>state</th>\n",
       "    </tr>\n",
       "    <tr>\n",
       "      <th>rec_id_1</th>\n",
       "      <th>rec_id_2</th>\n",
       "      <th></th>\n",
       "      <th></th>\n",
       "      <th></th>\n",
       "      <th></th>\n",
       "      <th></th>\n",
       "      <th></th>\n",
       "      <th></th>\n",
       "    </tr>\n",
       "  </thead>\n",
       "  <tbody>\n",
       "    <tr>\n",
       "      <td rowspan=\"3\" valign=\"top\">rec-1-org</td>\n",
       "      <td>rec-1963-dup-0</td>\n",
       "      <td>1.0</td>\n",
       "      <td>0.0</td>\n",
       "      <td>0.0</td>\n",
       "      <td>0</td>\n",
       "      <td>0</td>\n",
       "      <td>0</td>\n",
       "      <td>0</td>\n",
       "    </tr>\n",
       "    <tr>\n",
       "      <td>rec-567-dup-1</td>\n",
       "      <td>1.0</td>\n",
       "      <td>0.0</td>\n",
       "      <td>0.0</td>\n",
       "      <td>0</td>\n",
       "      <td>0</td>\n",
       "      <td>0</td>\n",
       "      <td>1</td>\n",
       "    </tr>\n",
       "    <tr>\n",
       "      <td>rec-910-dup-1</td>\n",
       "      <td>1.0</td>\n",
       "      <td>0.0</td>\n",
       "      <td>0.0</td>\n",
       "      <td>0</td>\n",
       "      <td>0</td>\n",
       "      <td>0</td>\n",
       "      <td>1</td>\n",
       "    </tr>\n",
       "    <tr>\n",
       "      <td>rec-10-dup-0</td>\n",
       "      <td>rec-10-dup-2</td>\n",
       "      <td>0.0</td>\n",
       "      <td>0.0</td>\n",
       "      <td>1.0</td>\n",
       "      <td>0</td>\n",
       "      <td>1</td>\n",
       "      <td>1</td>\n",
       "      <td>1</td>\n",
       "    </tr>\n",
       "    <tr>\n",
       "      <td>rec-10-dup-1</td>\n",
       "      <td>rec-10-dup-0</td>\n",
       "      <td>0.0</td>\n",
       "      <td>0.0</td>\n",
       "      <td>1.0</td>\n",
       "      <td>0</td>\n",
       "      <td>1</td>\n",
       "      <td>1</td>\n",
       "      <td>1</td>\n",
       "    </tr>\n",
       "    <tr>\n",
       "      <td>...</td>\n",
       "      <td>...</td>\n",
       "      <td>...</td>\n",
       "      <td>...</td>\n",
       "      <td>...</td>\n",
       "      <td>...</td>\n",
       "      <td>...</td>\n",
       "      <td>...</td>\n",
       "      <td>...</td>\n",
       "    </tr>\n",
       "    <tr>\n",
       "      <td rowspan=\"2\" valign=\"top\">rec-997-org</td>\n",
       "      <td>rec-849-org</td>\n",
       "      <td>1.0</td>\n",
       "      <td>0.0</td>\n",
       "      <td>0.0</td>\n",
       "      <td>0</td>\n",
       "      <td>0</td>\n",
       "      <td>0</td>\n",
       "      <td>1</td>\n",
       "    </tr>\n",
       "    <tr>\n",
       "      <td>rec-997-dup-0</td>\n",
       "      <td>1.0</td>\n",
       "      <td>1.0</td>\n",
       "      <td>1.0</td>\n",
       "      <td>0</td>\n",
       "      <td>1</td>\n",
       "      <td>1</td>\n",
       "      <td>1</td>\n",
       "    </tr>\n",
       "    <tr>\n",
       "      <td rowspan=\"3\" valign=\"top\">rec-999-org</td>\n",
       "      <td>rec-234-org</td>\n",
       "      <td>1.0</td>\n",
       "      <td>0.0</td>\n",
       "      <td>0.0</td>\n",
       "      <td>0</td>\n",
       "      <td>0</td>\n",
       "      <td>0</td>\n",
       "      <td>0</td>\n",
       "    </tr>\n",
       "    <tr>\n",
       "      <td>rec-679-dup-1</td>\n",
       "      <td>1.0</td>\n",
       "      <td>0.0</td>\n",
       "      <td>0.0</td>\n",
       "      <td>0</td>\n",
       "      <td>0</td>\n",
       "      <td>0</td>\n",
       "      <td>0</td>\n",
       "    </tr>\n",
       "    <tr>\n",
       "      <td>rec-679-org</td>\n",
       "      <td>1.0</td>\n",
       "      <td>0.0</td>\n",
       "      <td>0.0</td>\n",
       "      <td>0</td>\n",
       "      <td>0</td>\n",
       "      <td>0</td>\n",
       "      <td>0</td>\n",
       "    </tr>\n",
       "  </tbody>\n",
       "</table>\n",
       "<p>40470 rows × 7 columns</p>\n",
       "</div>"
      ],
      "text/plain": [
       "                             surname  address_1  address_2  given_name  \\\n",
       "rec_id_1     rec_id_2                                                    \n",
       "rec-1-org    rec-1963-dup-0      1.0        0.0        0.0           0   \n",
       "             rec-567-dup-1       1.0        0.0        0.0           0   \n",
       "             rec-910-dup-1       1.0        0.0        0.0           0   \n",
       "rec-10-dup-0 rec-10-dup-2        0.0        0.0        1.0           0   \n",
       "rec-10-dup-1 rec-10-dup-0        0.0        0.0        1.0           0   \n",
       "...                              ...        ...        ...         ...   \n",
       "rec-997-org  rec-849-org         1.0        0.0        0.0           0   \n",
       "             rec-997-dup-0       1.0        1.0        1.0           0   \n",
       "rec-999-org  rec-234-org         1.0        0.0        0.0           0   \n",
       "             rec-679-dup-1       1.0        0.0        0.0           0   \n",
       "             rec-679-org         1.0        0.0        0.0           0   \n",
       "\n",
       "                             date_of_birth  suburb  state  \n",
       "rec_id_1     rec_id_2                                      \n",
       "rec-1-org    rec-1963-dup-0              0       0      0  \n",
       "             rec-567-dup-1               0       0      1  \n",
       "             rec-910-dup-1               0       0      1  \n",
       "rec-10-dup-0 rec-10-dup-2                1       1      1  \n",
       "rec-10-dup-1 rec-10-dup-0                1       1      1  \n",
       "...                                    ...     ...    ...  \n",
       "rec-997-org  rec-849-org                 0       0      1  \n",
       "             rec-997-dup-0               1       1      1  \n",
       "rec-999-org  rec-234-org                 0       0      0  \n",
       "             rec-679-dup-1               0       0      0  \n",
       "             rec-679-org                 0       0      0  \n",
       "\n",
       "[40470 rows x 7 columns]"
      ]
     },
     "execution_count": 126,
     "metadata": {},
     "output_type": "execute_result"
    }
   ],
   "source": [
    "features = compare_records(candidate_links, df, None, comparison, exact)\n",
    "features"
   ]
  },
  {
   "cell_type": "markdown",
   "metadata": {},
   "source": [
    "### Classification\n",
    "#### Deterministic approach"
   ]
  },
  {
   "cell_type": "markdown",
   "metadata": {},
   "source": [
    "We consider a match all the pairs that agree on at least 4 attributes."
   ]
  },
  {
   "cell_type": "code",
   "execution_count": 127,
   "metadata": {
    "hideCode": true,
    "hidePrompt": true
   },
   "outputs": [
    {
     "data": {
      "text/plain": [
       "7.0      969\n",
       "6.0     2066\n",
       "5.0     1955\n",
       "4.0     1007\n",
       "3.0      451\n",
       "2.0     6929\n",
       "1.0    27093\n",
       "dtype: int64"
      ]
     },
     "execution_count": 127,
     "metadata": {},
     "output_type": "execute_result"
    }
   ],
   "source": [
    "# Sum the comparison results.\n",
    "features.sum(axis=1).value_counts().sort_index(ascending=False)"
   ]
  },
  {
   "cell_type": "code",
   "execution_count": 128,
   "metadata": {
    "hideCode": true,
    "hideOutput": true,
    "hidePrompt": true
   },
   "outputs": [
    {
     "data": {
      "text/plain": [
       "7.0     2.394366\n",
       "6.0     5.105016\n",
       "5.0     4.830739\n",
       "4.0     2.488263\n",
       "3.0     1.114406\n",
       "2.0    17.121324\n",
       "1.0    66.945886\n",
       "dtype: float64"
      ]
     },
     "execution_count": 128,
     "metadata": {},
     "output_type": "execute_result"
    }
   ],
   "source": [
    "# Percentage of the comparison results.\n",
    "(features.sum(axis=1).value_counts() / len(candidate_links) * 100).sort_index(ascending=False) "
   ]
  },
  {
   "cell_type": "code",
   "execution_count": 129,
   "metadata": {
    "hideCode": true,
    "hideOutput": false,
    "hidePrompt": true
   },
   "outputs": [
    {
     "data": {
      "text/html": [
       "<div>\n",
       "<style scoped>\n",
       "    .dataframe tbody tr th:only-of-type {\n",
       "        vertical-align: middle;\n",
       "    }\n",
       "\n",
       "    .dataframe tbody tr th {\n",
       "        vertical-align: top;\n",
       "    }\n",
       "\n",
       "    .dataframe thead th {\n",
       "        text-align: right;\n",
       "    }\n",
       "</style>\n",
       "<table border=\"1\" class=\"dataframe\">\n",
       "  <thead>\n",
       "    <tr style=\"text-align: right;\">\n",
       "      <th></th>\n",
       "      <th></th>\n",
       "      <th>surname</th>\n",
       "      <th>address_1</th>\n",
       "      <th>address_2</th>\n",
       "      <th>given_name</th>\n",
       "      <th>date_of_birth</th>\n",
       "      <th>suburb</th>\n",
       "      <th>state</th>\n",
       "    </tr>\n",
       "    <tr>\n",
       "      <th>rec_id_1</th>\n",
       "      <th>rec_id_2</th>\n",
       "      <th></th>\n",
       "      <th></th>\n",
       "      <th></th>\n",
       "      <th></th>\n",
       "      <th></th>\n",
       "      <th></th>\n",
       "      <th></th>\n",
       "    </tr>\n",
       "  </thead>\n",
       "  <tbody>\n",
       "    <tr>\n",
       "      <td>rec-10-dup-0</td>\n",
       "      <td>rec-10-dup-2</td>\n",
       "      <td>0.0</td>\n",
       "      <td>0.0</td>\n",
       "      <td>1.0</td>\n",
       "      <td>0</td>\n",
       "      <td>1</td>\n",
       "      <td>1</td>\n",
       "      <td>1</td>\n",
       "    </tr>\n",
       "    <tr>\n",
       "      <td rowspan=\"2\" valign=\"top\">rec-10-dup-1</td>\n",
       "      <td>rec-10-dup-0</td>\n",
       "      <td>0.0</td>\n",
       "      <td>0.0</td>\n",
       "      <td>1.0</td>\n",
       "      <td>0</td>\n",
       "      <td>1</td>\n",
       "      <td>1</td>\n",
       "      <td>1</td>\n",
       "    </tr>\n",
       "    <tr>\n",
       "      <td>rec-10-dup-2</td>\n",
       "      <td>1.0</td>\n",
       "      <td>0.0</td>\n",
       "      <td>1.0</td>\n",
       "      <td>0</td>\n",
       "      <td>1</td>\n",
       "      <td>1</td>\n",
       "      <td>1</td>\n",
       "    </tr>\n",
       "    <tr>\n",
       "      <td rowspan=\"2\" valign=\"top\">rec-10-org</td>\n",
       "      <td>rec-10-dup-0</td>\n",
       "      <td>0.0</td>\n",
       "      <td>1.0</td>\n",
       "      <td>1.0</td>\n",
       "      <td>0</td>\n",
       "      <td>1</td>\n",
       "      <td>1</td>\n",
       "      <td>1</td>\n",
       "    </tr>\n",
       "    <tr>\n",
       "      <td>rec-10-dup-1</td>\n",
       "      <td>1.0</td>\n",
       "      <td>0.0</td>\n",
       "      <td>1.0</td>\n",
       "      <td>0</td>\n",
       "      <td>1</td>\n",
       "      <td>1</td>\n",
       "      <td>1</td>\n",
       "    </tr>\n",
       "    <tr>\n",
       "      <td>...</td>\n",
       "      <td>...</td>\n",
       "      <td>...</td>\n",
       "      <td>...</td>\n",
       "      <td>...</td>\n",
       "      <td>...</td>\n",
       "      <td>...</td>\n",
       "      <td>...</td>\n",
       "      <td>...</td>\n",
       "    </tr>\n",
       "    <tr>\n",
       "      <td>rec-995-dup-0</td>\n",
       "      <td>rec-995-org</td>\n",
       "      <td>1.0</td>\n",
       "      <td>1.0</td>\n",
       "      <td>1.0</td>\n",
       "      <td>1</td>\n",
       "      <td>1</td>\n",
       "      <td>1</td>\n",
       "      <td>1</td>\n",
       "    </tr>\n",
       "    <tr>\n",
       "      <td>rec-996-dup-1</td>\n",
       "      <td>rec-996-dup-0</td>\n",
       "      <td>1.0</td>\n",
       "      <td>1.0</td>\n",
       "      <td>1.0</td>\n",
       "      <td>0</td>\n",
       "      <td>1</td>\n",
       "      <td>0</td>\n",
       "      <td>1</td>\n",
       "    </tr>\n",
       "    <tr>\n",
       "      <td rowspan=\"2\" valign=\"top\">rec-996-org</td>\n",
       "      <td>rec-996-dup-0</td>\n",
       "      <td>1.0</td>\n",
       "      <td>1.0</td>\n",
       "      <td>1.0</td>\n",
       "      <td>0</td>\n",
       "      <td>1</td>\n",
       "      <td>1</td>\n",
       "      <td>1</td>\n",
       "    </tr>\n",
       "    <tr>\n",
       "      <td>rec-996-dup-1</td>\n",
       "      <td>1.0</td>\n",
       "      <td>1.0</td>\n",
       "      <td>1.0</td>\n",
       "      <td>1</td>\n",
       "      <td>1</td>\n",
       "      <td>0</td>\n",
       "      <td>1</td>\n",
       "    </tr>\n",
       "    <tr>\n",
       "      <td>rec-997-org</td>\n",
       "      <td>rec-997-dup-0</td>\n",
       "      <td>1.0</td>\n",
       "      <td>1.0</td>\n",
       "      <td>1.0</td>\n",
       "      <td>0</td>\n",
       "      <td>1</td>\n",
       "      <td>1</td>\n",
       "      <td>1</td>\n",
       "    </tr>\n",
       "  </tbody>\n",
       "</table>\n",
       "<p>5997 rows × 7 columns</p>\n",
       "</div>"
      ],
      "text/plain": [
       "                             surname  address_1  address_2  given_name  \\\n",
       "rec_id_1      rec_id_2                                                   \n",
       "rec-10-dup-0  rec-10-dup-2       0.0        0.0        1.0           0   \n",
       "rec-10-dup-1  rec-10-dup-0       0.0        0.0        1.0           0   \n",
       "              rec-10-dup-2       1.0        0.0        1.0           0   \n",
       "rec-10-org    rec-10-dup-0       0.0        1.0        1.0           0   \n",
       "              rec-10-dup-1       1.0        0.0        1.0           0   \n",
       "...                              ...        ...        ...         ...   \n",
       "rec-995-dup-0 rec-995-org        1.0        1.0        1.0           1   \n",
       "rec-996-dup-1 rec-996-dup-0      1.0        1.0        1.0           0   \n",
       "rec-996-org   rec-996-dup-0      1.0        1.0        1.0           0   \n",
       "              rec-996-dup-1      1.0        1.0        1.0           1   \n",
       "rec-997-org   rec-997-dup-0      1.0        1.0        1.0           0   \n",
       "\n",
       "                             date_of_birth  suburb  state  \n",
       "rec_id_1      rec_id_2                                     \n",
       "rec-10-dup-0  rec-10-dup-2               1       1      1  \n",
       "rec-10-dup-1  rec-10-dup-0               1       1      1  \n",
       "              rec-10-dup-2               1       1      1  \n",
       "rec-10-org    rec-10-dup-0               1       1      1  \n",
       "              rec-10-dup-1               1       1      1  \n",
       "...                                    ...     ...    ...  \n",
       "rec-995-dup-0 rec-995-org                1       1      1  \n",
       "rec-996-dup-1 rec-996-dup-0              1       0      1  \n",
       "rec-996-org   rec-996-dup-0              1       1      1  \n",
       "              rec-996-dup-1              1       0      1  \n",
       "rec-997-org   rec-997-dup-0              1       1      1  \n",
       "\n",
       "[5997 rows x 7 columns]"
      ]
     },
     "execution_count": 129,
     "metadata": {},
     "output_type": "execute_result"
    }
   ],
   "source": [
    "links_noml = features[features.sum(axis=1) >= 4]\n",
    "links_noml"
   ]
  },
  {
   "cell_type": "markdown",
   "metadata": {},
   "source": [
    "#### Naive Bayes"
   ]
  },
  {
   "cell_type": "code",
   "execution_count": 130,
   "metadata": {
    "hideCode": true,
    "hideOutput": false,
    "hidePrompt": true
   },
   "outputs": [
    {
     "name": "stdout",
     "output_type": "stream",
     "text": [
      "Predicted number of links: 6428\n"
     ]
    }
   ],
   "source": [
    "# Evaluate the model\n",
    "links_bayes = nb.predict(features)\n",
    "print(\"Predicted number of links:\", len(links_bayes))"
   ]
  },
  {
   "cell_type": "markdown",
   "metadata": {},
   "source": [
    "#### Expectation-Conditional Maximisation"
   ]
  },
  {
   "cell_type": "code",
   "execution_count": 131,
   "metadata": {
    "hideCode": true,
    "hidePrompt": true
   },
   "outputs": [
    {
     "name": "stdout",
     "output_type": "stream",
     "text": [
      "Predicted number of links: 6750\n"
     ]
    }
   ],
   "source": [
    "# evaluate the model\n",
    "links_ecm = ecm.predict(features)\n",
    "print(\"Predicted number of links:\", len(links_ecm))"
   ]
  },
  {
   "cell_type": "markdown",
   "metadata": {},
   "source": [
    "### Comparison"
   ]
  },
  {
   "cell_type": "code",
   "execution_count": 132,
   "metadata": {
    "hideCode": true,
    "hidePrompt": true
   },
   "outputs": [
    {
     "name": "stdout",
     "output_type": "stream",
     "text": [
      "Deterministic approach \n",
      "\n",
      "Confusion matrix: \n",
      " [[ 5997   541]\n",
      " [    0 33932]]\n",
      "Fscore: 0.9568408456322298\n",
      "Recall: 0.9172529825634751\n",
      "Precision: 1.0\n"
     ]
    }
   ],
   "source": [
    "cm_noml, fscore_noml, recall_noml, precision_noml = evaluate_results(true_links, links_noml, len(candidate_links))\n",
    "\n",
    "print('Deterministic approach \\n')\n",
    "print('Confusion matrix: \\n', cm_noml)\n",
    "print('Fscore:',fscore_noml)\n",
    "print('Recall:',recall_noml)\n",
    "print('Precision:',precision_noml)"
   ]
  },
  {
   "cell_type": "code",
   "execution_count": 133,
   "metadata": {
    "hideCode": true,
    "hidePrompt": true
   },
   "outputs": [
    {
     "name": "stdout",
     "output_type": "stream",
     "text": [
      "Naive Bayes \n",
      "\n",
      "Confusion matrix: \n",
      " [[ 6364   174]\n",
      " [   64 33868]]\n",
      "Fscore: 0.9816443004781737\n",
      "Recall: 0.9733863566840012\n",
      "Precision: 0.9900435594275047\n"
     ]
    }
   ],
   "source": [
    "cm_nb, fscore_nb, recall_nb, precision_nb = evaluate_results(true_links, links_bayes, len(candidate_links))\n",
    "\n",
    "print('Naive Bayes \\n')\n",
    "print('Confusion matrix: \\n', cm_nb)\n",
    "print('Fscore:',fscore_nb)\n",
    "print('Recall:',recall_nb)\n",
    "print('Precision:',precision_nb)"
   ]
  },
  {
   "cell_type": "code",
   "execution_count": 134,
   "metadata": {
    "hideCode": true,
    "hidePrompt": true
   },
   "outputs": [
    {
     "name": "stdout",
     "output_type": "stream",
     "text": [
      "Expectation-Conditional Maximisation \n",
      "\n",
      "Confusion matrix: \n",
      " [[ 6436   102]\n",
      " [  314 33618]]\n",
      "Fscore: 0.9686935580975315\n",
      "Recall: 0.9843988987457938\n",
      "Precision: 0.9534814814814815\n"
     ]
    }
   ],
   "source": [
    "cm_ecm, fscore_ecm, recall_ecm, precision_ecm = evaluate_results(true_links, links_ecm, len(candidate_links))\n",
    "\n",
    "print('Expectation-Conditional Maximisation \\n')\n",
    "print('Confusion matrix: \\n', cm_ecm)\n",
    "print('Fscore:',fscore_ecm)\n",
    "print('Recall:',recall_ecm)\n",
    "print('Precision:',precision_ecm)"
   ]
  },
  {
   "cell_type": "markdown",
   "metadata": {},
   "source": [
    "## Results analysis\n",
    "We conclude that our approach is viabile as shown by the confusion matrices, however it necessitates the true links, which may not be always available (or may require the manpower to do so). "
   ]
  }
 ],
 "metadata": {
  "celltoolbar": "Hide code",
  "kernelspec": {
   "display_name": "Python 3",
   "language": "python",
   "name": "python3"
  },
  "language_info": {
   "codemirror_mode": {
    "name": "ipython",
    "version": 3
   },
   "file_extension": ".py",
   "mimetype": "text/x-python",
   "name": "python",
   "nbconvert_exporter": "python",
   "pygments_lexer": "ipython3",
   "version": "3.7.4"
  }
 },
 "nbformat": 4,
 "nbformat_minor": 2
}
