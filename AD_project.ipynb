{
 "cells": [
  {
   "cell_type": "markdown",
   "metadata": {},
   "source": [
    "# Machine Learning aided Record Linkage (and Data Fusion?) - a comparison between different ML methods\n",
    "\n",
    "## Group Components\n",
    "* **Francesco Porto**\n",
    "* **Francesco Stranieri**\n",
    "* **Mattia Vincenzi**\n",
    "\n",
    "## Abstract\n",
    "Record Linkage is the process of finding records in one or more datasets that refer to the same entity across different data sources. Traditionally, it is done by applying comparison rules between pairs of attributes from each dataset. In this project we investigate some possible Machine Learning applications to Data Linkage, and we compare them to the standard approach.\n",
    "\n",
    "## Python Record Linkage Toolkit\n",
    "Throughout the project, we make use of a Python library called \"Python Record Linkage Toolkit\", which provides a simple framework to facilitate the process of Record Linkage. In the context of this library, the Record Linkage process is dived into 5 steps:\n",
    "\n",
    "* Preprocessing\n",
    "* Indexing\n",
    "* Comparison\n",
    "* Classification\n",
    "* Evaluation\n",
    "\n",
    "Please refer to the documentation available at the following link for further information:\n",
    "\n",
    "https://recordlinkage.readthedocs.io/en/latest/index.html\n",
    "\n",
    "## Dataset description\n",
    "We use the FEBRL dataset since it provides both the \"golden links\" for Record Linkage and a gold standard for Data Fusion. [TBC]"
   ]
  },
  {
   "cell_type": "code",
   "execution_count": 19,
   "metadata": {},
   "outputs": [
    {
     "name": "stdout",
     "output_type": "stream",
     "text": [
      "Requirement already satisfied: recordlinkage in c:\\anaconda3\\lib\\site-packages (0.14)\n",
      "Requirement already satisfied: scikit-learn>=0.19.0 in c:\\anaconda3\\lib\\site-packages (from recordlinkage) (0.21.3)\n",
      "Requirement already satisfied: numpy>=1.13.0 in c:\\anaconda3\\lib\\site-packages (from recordlinkage) (1.16.5)\n",
      "Requirement already satisfied: scipy>=1 in c:\\anaconda3\\lib\\site-packages (from recordlinkage) (1.3.1)\n",
      "Requirement already satisfied: jellyfish>=0.5.4 in c:\\anaconda3\\lib\\site-packages (from recordlinkage) (0.7.2)\n",
      "Requirement already satisfied: joblib in c:\\anaconda3\\lib\\site-packages (from recordlinkage) (0.13.2)\n",
      "Requirement already satisfied: pandas>=0.23 in c:\\anaconda3\\lib\\site-packages (from recordlinkage) (0.25.1)\n",
      "Requirement already satisfied: python-dateutil>=2.6.1 in c:\\anaconda3\\lib\\site-packages (from pandas>=0.23->recordlinkage) (2.8.0)\n",
      "Requirement already satisfied: pytz>=2017.2 in c:\\anaconda3\\lib\\site-packages (from pandas>=0.23->recordlinkage) (2019.3)\n",
      "Requirement already satisfied: six>=1.5 in c:\\anaconda3\\lib\\site-packages (from python-dateutil>=2.6.1->pandas>=0.23->recordlinkage) (1.12.0)\n"
     ]
    }
   ],
   "source": [
    "!pip install recordlinkage\n",
    "import recordlinkage as rl"
   ]
  },
  {
   "cell_type": "code",
   "execution_count": 4,
   "metadata": {},
   "outputs": [
    {
     "data": {
      "text/plain": [
       "'\\nGenerated as one data set with 10000 records (5000 originals and 5000 duplicates, with one duplicate per original), \\nthe originals have been split from the duplicates, into dataset4a.csv (containing the 5000 original records) \\nand dataset4b.csv (containing the 5000 duplicate records). \\nThese two data sets can be used for testing linkage procedures.\\nhttps://github.com/J535D165/FEBRL-fork-v0.4.2/tree/master/dsgen\\n'"
      ]
     },
     "execution_count": 4,
     "metadata": {},
     "output_type": "execute_result"
    }
   ],
   "source": [
    "from recordlinkage.datasets import load_febrl4\n",
    "\n",
    "'''\n",
    "Generated as one data set with 10000 records (5000 originals and 5000 duplicates, with one duplicate per original), \n",
    "the originals have been split from the duplicates, into dataset4a.csv (containing the 5000 original records) \n",
    "and dataset4b.csv (containing the 5000 duplicate records). \n",
    "These two data sets can be used for testing linkage procedures.\n",
    "https://github.com/J535D165/FEBRL-fork-v0.4.2/tree/master/dsgen\n",
    "'''"
   ]
  },
  {
   "cell_type": "code",
   "execution_count": 5,
   "metadata": {},
   "outputs": [],
   "source": [
    "# set logging\n",
    "rl.logging.set_verbosity(rl.logging.INFO)"
   ]
  },
  {
   "cell_type": "code",
   "execution_count": 6,
   "metadata": {},
   "outputs": [
    {
     "name": "stdout",
     "output_type": "stream",
     "text": [
      "Loading data...\n",
      "5000 records in dataset A\n",
      "5000 records in dataset B\n",
      "5000 links between dataset A and B\n"
     ]
    }
   ],
   "source": [
    "# load datasets\n",
    "print('Loading data...')\n",
    "dfA, dfB, true_links = load_febrl4(return_links=True)\n",
    "print(len(dfA), 'records in dataset A')\n",
    "print(len(dfB), 'records in dataset B')\n",
    "print(len(true_links), 'links between dataset A and B')"
   ]
  },
  {
   "cell_type": "code",
   "execution_count": 7,
   "metadata": {},
   "outputs": [
    {
     "data": {
      "text/plain": [
       "given_name       object\n",
       "surname          object\n",
       "street_number    object\n",
       "address_1        object\n",
       "address_2        object\n",
       "suburb           object\n",
       "postcode         object\n",
       "state            object\n",
       "date_of_birth    object\n",
       "soc_sec_id       object\n",
       "dtype: object"
      ]
     },
     "execution_count": 7,
     "metadata": {},
     "output_type": "execute_result"
    }
   ],
   "source": [
    "dfA\n",
    "dfA.dtypes"
   ]
  },
  {
   "cell_type": "code",
   "execution_count": 8,
   "metadata": {},
   "outputs": [
    {
     "data": {
      "text/html": [
       "<div>\n",
       "<style scoped>\n",
       "    .dataframe tbody tr th:only-of-type {\n",
       "        vertical-align: middle;\n",
       "    }\n",
       "\n",
       "    .dataframe tbody tr th {\n",
       "        vertical-align: top;\n",
       "    }\n",
       "\n",
       "    .dataframe thead th {\n",
       "        text-align: right;\n",
       "    }\n",
       "</style>\n",
       "<table border=\"1\" class=\"dataframe\">\n",
       "  <thead>\n",
       "    <tr style=\"text-align: right;\">\n",
       "      <th></th>\n",
       "      <th>given_name</th>\n",
       "      <th>surname</th>\n",
       "      <th>street_number</th>\n",
       "      <th>address_1</th>\n",
       "      <th>address_2</th>\n",
       "      <th>suburb</th>\n",
       "      <th>postcode</th>\n",
       "      <th>state</th>\n",
       "      <th>date_of_birth</th>\n",
       "      <th>soc_sec_id</th>\n",
       "    </tr>\n",
       "    <tr>\n",
       "      <th>rec_id</th>\n",
       "      <th></th>\n",
       "      <th></th>\n",
       "      <th></th>\n",
       "      <th></th>\n",
       "      <th></th>\n",
       "      <th></th>\n",
       "      <th></th>\n",
       "      <th></th>\n",
       "      <th></th>\n",
       "      <th></th>\n",
       "    </tr>\n",
       "  </thead>\n",
       "  <tbody>\n",
       "    <tr>\n",
       "      <td>rec-561-dup-0</td>\n",
       "      <td>elton</td>\n",
       "      <td>NaN</td>\n",
       "      <td>3</td>\n",
       "      <td>light setreet</td>\n",
       "      <td>pinehill</td>\n",
       "      <td>windermere</td>\n",
       "      <td>3212</td>\n",
       "      <td>vic</td>\n",
       "      <td>19651013</td>\n",
       "      <td>1551941</td>\n",
       "    </tr>\n",
       "    <tr>\n",
       "      <td>rec-2642-dup-0</td>\n",
       "      <td>mitchell</td>\n",
       "      <td>maxon</td>\n",
       "      <td>47</td>\n",
       "      <td>edkins street</td>\n",
       "      <td>lochaoair</td>\n",
       "      <td>north ryde</td>\n",
       "      <td>3355</td>\n",
       "      <td>nsw</td>\n",
       "      <td>19390212</td>\n",
       "      <td>8859999</td>\n",
       "    </tr>\n",
       "    <tr>\n",
       "      <td>rec-608-dup-0</td>\n",
       "      <td>NaN</td>\n",
       "      <td>white</td>\n",
       "      <td>72</td>\n",
       "      <td>lambrigg street</td>\n",
       "      <td>kelgoola</td>\n",
       "      <td>broadbeach waters</td>\n",
       "      <td>3159</td>\n",
       "      <td>vic</td>\n",
       "      <td>19620216</td>\n",
       "      <td>9731855</td>\n",
       "    </tr>\n",
       "    <tr>\n",
       "      <td>rec-3239-dup-0</td>\n",
       "      <td>elk i</td>\n",
       "      <td>menzies</td>\n",
       "      <td>1</td>\n",
       "      <td>lyster place</td>\n",
       "      <td>NaN</td>\n",
       "      <td>northwood</td>\n",
       "      <td>2585</td>\n",
       "      <td>vic</td>\n",
       "      <td>19980624</td>\n",
       "      <td>4970481</td>\n",
       "    </tr>\n",
       "    <tr>\n",
       "      <td>rec-2886-dup-0</td>\n",
       "      <td>NaN</td>\n",
       "      <td>garanggar</td>\n",
       "      <td>NaN</td>\n",
       "      <td>may maxwell crescent</td>\n",
       "      <td>springettst arcade</td>\n",
       "      <td>forest hill</td>\n",
       "      <td>2342</td>\n",
       "      <td>vic</td>\n",
       "      <td>19921016</td>\n",
       "      <td>1366884</td>\n",
       "    </tr>\n",
       "    <tr>\n",
       "      <td>...</td>\n",
       "      <td>...</td>\n",
       "      <td>...</td>\n",
       "      <td>...</td>\n",
       "      <td>...</td>\n",
       "      <td>...</td>\n",
       "      <td>...</td>\n",
       "      <td>...</td>\n",
       "      <td>...</td>\n",
       "      <td>...</td>\n",
       "      <td>...</td>\n",
       "    </tr>\n",
       "    <tr>\n",
       "      <td>rec-4495-dup-0</td>\n",
       "      <td>connor</td>\n",
       "      <td>belperio</td>\n",
       "      <td>15</td>\n",
       "      <td>NaN</td>\n",
       "      <td>NaN</td>\n",
       "      <td>ryde</td>\n",
       "      <td>2570</td>\n",
       "      <td>nsw</td>\n",
       "      <td>19170518</td>\n",
       "      <td>5394641</td>\n",
       "    </tr>\n",
       "    <tr>\n",
       "      <td>rec-4211-dup-0</td>\n",
       "      <td>daniel</td>\n",
       "      <td>maspn</td>\n",
       "      <td>9</td>\n",
       "      <td>derrington crescent</td>\n",
       "      <td>el pedro caravan park</td>\n",
       "      <td>sunnybank</td>\n",
       "      <td>4350</td>\n",
       "      <td>vic</td>\n",
       "      <td>19500705</td>\n",
       "      <td>5525378</td>\n",
       "    </tr>\n",
       "    <tr>\n",
       "      <td>rec-3131-dup-0</td>\n",
       "      <td>samuel</td>\n",
       "      <td>crofs</td>\n",
       "      <td>613</td>\n",
       "      <td>banjine street</td>\n",
       "      <td>kurrajong vlge</td>\n",
       "      <td>pengzin</td>\n",
       "      <td>2230</td>\n",
       "      <td>qld</td>\n",
       "      <td>19410531</td>\n",
       "      <td>4467228</td>\n",
       "    </tr>\n",
       "    <tr>\n",
       "      <td>rec-3815-dup-0</td>\n",
       "      <td>saah</td>\n",
       "      <td>beattih</td>\n",
       "      <td>60</td>\n",
       "      <td>kay's place</td>\n",
       "      <td>oldershaw court</td>\n",
       "      <td>ashfield</td>\n",
       "      <td>2047</td>\n",
       "      <td>vic</td>\n",
       "      <td>19500712</td>\n",
       "      <td>9435148</td>\n",
       "    </tr>\n",
       "    <tr>\n",
       "      <td>rec-493-dup-0</td>\n",
       "      <td>NaN</td>\n",
       "      <td>blackwell</td>\n",
       "      <td>127</td>\n",
       "      <td>ferrier place</td>\n",
       "      <td>northwood npark</td>\n",
       "      <td>chelsea heights</td>\n",
       "      <td>4211</td>\n",
       "      <td>qld</td>\n",
       "      <td>19570409</td>\n",
       "      <td>8541055</td>\n",
       "    </tr>\n",
       "  </tbody>\n",
       "</table>\n",
       "<p>5000 rows × 10 columns</p>\n",
       "</div>"
      ],
      "text/plain": [
       "               given_name    surname street_number             address_1  \\\n",
       "rec_id                                                                     \n",
       "rec-561-dup-0       elton        NaN             3         light setreet   \n",
       "rec-2642-dup-0   mitchell      maxon            47         edkins street   \n",
       "rec-608-dup-0         NaN      white            72       lambrigg street   \n",
       "rec-3239-dup-0      elk i    menzies             1          lyster place   \n",
       "rec-2886-dup-0        NaN  garanggar           NaN  may maxwell crescent   \n",
       "...                   ...        ...           ...                   ...   \n",
       "rec-4495-dup-0     connor   belperio            15                   NaN   \n",
       "rec-4211-dup-0     daniel      maspn             9   derrington crescent   \n",
       "rec-3131-dup-0     samuel      crofs           613        banjine street   \n",
       "rec-3815-dup-0       saah    beattih            60           kay's place   \n",
       "rec-493-dup-0         NaN  blackwell           127         ferrier place   \n",
       "\n",
       "                            address_2             suburb postcode state  \\\n",
       "rec_id                                                                    \n",
       "rec-561-dup-0                pinehill         windermere     3212   vic   \n",
       "rec-2642-dup-0              lochaoair         north ryde     3355   nsw   \n",
       "rec-608-dup-0                kelgoola  broadbeach waters     3159   vic   \n",
       "rec-3239-dup-0                    NaN          northwood     2585   vic   \n",
       "rec-2886-dup-0     springettst arcade        forest hill     2342   vic   \n",
       "...                               ...                ...      ...   ...   \n",
       "rec-4495-dup-0                    NaN               ryde     2570   nsw   \n",
       "rec-4211-dup-0  el pedro caravan park          sunnybank     4350   vic   \n",
       "rec-3131-dup-0         kurrajong vlge            pengzin     2230   qld   \n",
       "rec-3815-dup-0        oldershaw court           ashfield     2047   vic   \n",
       "rec-493-dup-0         northwood npark    chelsea heights     4211   qld   \n",
       "\n",
       "               date_of_birth soc_sec_id  \n",
       "rec_id                                   \n",
       "rec-561-dup-0       19651013    1551941  \n",
       "rec-2642-dup-0      19390212    8859999  \n",
       "rec-608-dup-0       19620216    9731855  \n",
       "rec-3239-dup-0      19980624    4970481  \n",
       "rec-2886-dup-0      19921016    1366884  \n",
       "...                      ...        ...  \n",
       "rec-4495-dup-0      19170518    5394641  \n",
       "rec-4211-dup-0      19500705    5525378  \n",
       "rec-3131-dup-0      19410531    4467228  \n",
       "rec-3815-dup-0      19500712    9435148  \n",
       "rec-493-dup-0       19570409    8541055  \n",
       "\n",
       "[5000 rows x 10 columns]"
      ]
     },
     "execution_count": 8,
     "metadata": {},
     "output_type": "execute_result"
    }
   ],
   "source": [
    "dfB"
   ]
  },
  {
   "cell_type": "code",
   "execution_count": 9,
   "metadata": {},
   "outputs": [
    {
     "data": {
      "text/plain": [
       "given_name             michaela\n",
       "surname                 neumann\n",
       "street_number                 8\n",
       "address_1        stanley street\n",
       "address_2                 miami\n",
       "suburb            winston hills\n",
       "postcode                   4223\n",
       "state                       nsw\n",
       "date_of_birth          19151111\n",
       "soc_sec_id              5304218\n",
       "Name: rec-1070-org, dtype: object"
      ]
     },
     "execution_count": 9,
     "metadata": {},
     "output_type": "execute_result"
    }
   ],
   "source": [
    "dfA.loc['rec-1070-org']"
   ]
  },
  {
   "cell_type": "code",
   "execution_count": 10,
   "metadata": {},
   "outputs": [
    {
     "data": {
      "text/plain": [
       "given_name             michafla\n",
       "surname                 jakimow\n",
       "street_number                 8\n",
       "address_1        stanleykstreet\n",
       "address_2                 miami\n",
       "suburb            winstonbhills\n",
       "postcode                   4223\n",
       "state                       NaN\n",
       "date_of_birth          19151111\n",
       "soc_sec_id              5304218\n",
       "Name: rec-1070-dup-0, dtype: object"
      ]
     },
     "execution_count": 10,
     "metadata": {},
     "output_type": "execute_result"
    }
   ],
   "source": [
    "dfB.loc['rec-1070-dup-0']"
   ]
  },
  {
   "cell_type": "markdown",
   "metadata": {},
   "source": [
    "## Indexing\n",
    "Indexing is the process of creating all the possible links between the two datasets. In this specific example, we use a technique called **Blocking**, which groups together all the records that agree on AT LEAST one of the specified attributes. It is also capable of returning each link only once (and not twice) by only looking at the upper triangular matrix of matches."
   ]
  },
  {
   "cell_type": "code",
   "execution_count": 11,
   "metadata": {},
   "outputs": [
    {
     "name": "stdout",
     "output_type": "stream",
     "text": [
      "Build index...\n",
      "INFO:recordlinkage:indexing - initialize Index class\n",
      "INFO:recordlinkage:indexing [1/?] - time: 0.83s - pairs: 87132/25000000 - rr: 0.99651\n",
      "INFO:recordlinkage:indexing [1/?] - time: 0.83s - pairs_total: 87132/25000000 - rr_total: 0.99651\n",
      "87132 candidate links between dataset A and B\n"
     ]
    }
   ],
   "source": [
    "from recordlinkage.index import Block\n",
    "# start indexing\n",
    "print('Build index...')\n",
    "indexer = rl.Index()\n",
    "indexer.add(Block('surname'))\n",
    "# OR\n",
    "indexer.add(Block('date_of_birth'))\n",
    "# OR\n",
    "indexer.add(Block('soc_sec_id'))\n",
    "candidate_links = indexer.index(dfA, dfB)\n",
    "print(len(candidate_links), 'candidate links between dataset A and B')"
   ]
  },
  {
   "cell_type": "code",
   "execution_count": 12,
   "metadata": {},
   "outputs": [
    {
     "data": {
      "text/plain": [
       "MultiIndex([(  'rec-0-org',    'rec-0-dup-0'),\n",
       "            (  'rec-0-org', 'rec-1505-dup-0'),\n",
       "            (  'rec-0-org', 'rec-1636-dup-0'),\n",
       "            (  'rec-0-org', 'rec-2074-dup-0'),\n",
       "            (  'rec-0-org', 'rec-2683-dup-0'),\n",
       "            (  'rec-0-org', 'rec-2724-dup-0'),\n",
       "            (  'rec-0-org', 'rec-2894-dup-0'),\n",
       "            (  'rec-1-org',    'rec-1-dup-0'),\n",
       "            (  'rec-1-org', 'rec-1052-dup-0'),\n",
       "            (  'rec-1-org', 'rec-2552-dup-0'),\n",
       "            ...\n",
       "            ('rec-999-org', 'rec-3685-dup-0'),\n",
       "            ('rec-999-org',  'rec-370-dup-0'),\n",
       "            ('rec-999-org', 'rec-3766-dup-0'),\n",
       "            ('rec-999-org', 'rec-3862-dup-0'),\n",
       "            ('rec-999-org', 'rec-3913-dup-0'),\n",
       "            ('rec-999-org', 'rec-3940-dup-0'),\n",
       "            ('rec-999-org', 'rec-4941-dup-0'),\n",
       "            ('rec-999-org',  'rec-859-dup-0'),\n",
       "            ('rec-999-org',  'rec-911-dup-0'),\n",
       "            ('rec-999-org',  'rec-999-dup-0')],\n",
       "           names=['rec_id_1', 'rec_id_2'], length=87132)"
      ]
     },
     "execution_count": 12,
     "metadata": {},
     "output_type": "execute_result"
    }
   ],
   "source": [
    "candidate_links"
   ]
  },
  {
   "cell_type": "code",
   "execution_count": 13,
   "metadata": {},
   "outputs": [
    {
     "data": {
      "text/plain": [
       "given_name               rachael\n",
       "surname                     dent\n",
       "street_number                  1\n",
       "address_1            knox street\n",
       "address_2        lakewood estate\n",
       "suburb                    byford\n",
       "postcode                    4129\n",
       "state                        vic\n",
       "date_of_birth           19280722\n",
       "soc_sec_id               1683994\n",
       "Name: rec-0-org, dtype: object"
      ]
     },
     "execution_count": 13,
     "metadata": {},
     "output_type": "execute_result"
    }
   ],
   "source": [
    "dfA.loc[candidate_links[0][0]]"
   ]
  },
  {
   "cell_type": "code",
   "execution_count": 14,
   "metadata": {},
   "outputs": [
    {
     "data": {
      "text/plain": [
       "given_name               rachael\n",
       "surname                     dent\n",
       "street_number                  4\n",
       "address_1            knox street\n",
       "address_2        lakewood estate\n",
       "suburb                    byford\n",
       "postcode                    4129\n",
       "state                        vic\n",
       "date_of_birth           19280722\n",
       "soc_sec_id               1683994\n",
       "Name: rec-0-dup-0, dtype: object"
      ]
     },
     "execution_count": 14,
     "metadata": {},
     "output_type": "execute_result"
    }
   ],
   "source": [
    "dfB.loc[candidate_links[0][1]]"
   ]
  },
  {
   "cell_type": "code",
   "execution_count": 15,
   "metadata": {},
   "outputs": [
    {
     "data": {
      "text/plain": [
       "given_name                  emiily\n",
       "surname                       dent\n",
       "street_number                   27\n",
       "address_1        gungurra crescent\n",
       "address_2                 redlands\n",
       "suburb                     whyalla\n",
       "postcode                      3775\n",
       "state                          nsw\n",
       "date_of_birth             19960112\n",
       "soc_sec_id                 9836985\n",
       "Name: rec-1505-dup-0, dtype: object"
      ]
     },
     "execution_count": 15,
     "metadata": {},
     "output_type": "execute_result"
    }
   ],
   "source": [
    "dfB.loc[candidate_links[1][1]]"
   ]
  },
  {
   "cell_type": "markdown",
   "metadata": {},
   "source": [
    "## Comparison (aka \"the classic approach\")\n",
    "**Comparison** refers to the process of evaluating all the possible links in order to figure out the best ones. In order to compare attributes, we need to specify (for each attribute):\n",
    "* A **metric** to be used\n",
    "* A **threshold** to decide under which circumstances the metric shall return true (= a match) or false (= not a match)\n",
    "\n",
    "We decided not to use exact matches on strings as input errors (e.g. by an employee) might be common, therefore it would be too strict of a restriction."
   ]
  },
  {
   "cell_type": "code",
   "execution_count": 23,
   "metadata": {},
   "outputs": [
    {
     "name": "stdout",
     "output_type": "stream",
     "text": [
      "Start comparing...\n",
      "INFO:recordlinkage:comparing - initialize Compare class\n",
      "INFO:recordlinkage:comparing [1/?] - time: 25.43s - pairs: 87132\n",
      "INFO:recordlinkage:comparing [1/?] - time: 25.43s - pairs_total: 87132\n",
      "feature shape (87132, 7)\n"
     ]
    }
   ],
   "source": [
    "from recordlinkage.compare import Exact, String\n",
    "# start comparing\n",
    "print('Start comparing...')\n",
    "comparer = rl.Compare()\n",
    "comparer.add(String('given_name', 'given_name', method='jarowinkler',\n",
    "                    threshold=0.85, label='given_name'))\n",
    "comparer.add(String('surname', 'surname', method='jarowinkler',\n",
    "                    threshold=0.85, label='surname'))\n",
    "comparer.add(String('date_of_birth', 'date_of_birth', method='jarowinkler',\n",
    "                    threshold=0.85, label='date_of_birth'))\n",
    "comparer.add(String('suburb', 'suburb', method='jarowinkler', \n",
    "                    threshold=0.85, label='suburb'))\n",
    "comparer.add(String('state', 'state', method='jarowinkler', \n",
    "                    threshold=0.85, label='state'))\n",
    "comparer.add(String('address_1', 'address_1', \n",
    "                    threshold=0.85, label='address_1'))\n",
    "comparer.add(String('address_2', 'address_2', \n",
    "                    threshold=0.85, label='address_2'))\n",
    "features = comparer.compute(candidate_links, dfA, dfB)\n",
    "\n",
    "print('feature shape', features.shape)"
   ]
  },
  {
   "cell_type": "code",
   "execution_count": 17,
   "metadata": {},
   "outputs": [
    {
     "data": {
      "text/html": [
       "<div>\n",
       "<style scoped>\n",
       "    .dataframe tbody tr th:only-of-type {\n",
       "        vertical-align: middle;\n",
       "    }\n",
       "\n",
       "    .dataframe tbody tr th {\n",
       "        vertical-align: top;\n",
       "    }\n",
       "\n",
       "    .dataframe thead th {\n",
       "        text-align: right;\n",
       "    }\n",
       "</style>\n",
       "<table border=\"1\" class=\"dataframe\">\n",
       "  <thead>\n",
       "    <tr style=\"text-align: right;\">\n",
       "      <th></th>\n",
       "      <th></th>\n",
       "      <th>given_name</th>\n",
       "      <th>surname</th>\n",
       "      <th>date_of_birth</th>\n",
       "      <th>suburb</th>\n",
       "      <th>state</th>\n",
       "      <th>address_1</th>\n",
       "      <th>address_2</th>\n",
       "    </tr>\n",
       "    <tr>\n",
       "      <th>rec_id_1</th>\n",
       "      <th>rec_id_2</th>\n",
       "      <th></th>\n",
       "      <th></th>\n",
       "      <th></th>\n",
       "      <th></th>\n",
       "      <th></th>\n",
       "      <th></th>\n",
       "      <th></th>\n",
       "    </tr>\n",
       "  </thead>\n",
       "  <tbody>\n",
       "    <tr>\n",
       "      <td rowspan=\"5\" valign=\"top\">rec-0-org</td>\n",
       "      <td>rec-0-dup-0</td>\n",
       "      <td>1.0</td>\n",
       "      <td>1.0</td>\n",
       "      <td>1.0</td>\n",
       "      <td>1.0</td>\n",
       "      <td>1.0</td>\n",
       "      <td>1.0</td>\n",
       "      <td>1.0</td>\n",
       "    </tr>\n",
       "    <tr>\n",
       "      <td>rec-1505-dup-0</td>\n",
       "      <td>0.0</td>\n",
       "      <td>1.0</td>\n",
       "      <td>0.0</td>\n",
       "      <td>0.0</td>\n",
       "      <td>0.0</td>\n",
       "      <td>0.0</td>\n",
       "      <td>0.0</td>\n",
       "    </tr>\n",
       "    <tr>\n",
       "      <td>rec-1636-dup-0</td>\n",
       "      <td>0.0</td>\n",
       "      <td>1.0</td>\n",
       "      <td>0.0</td>\n",
       "      <td>0.0</td>\n",
       "      <td>0.0</td>\n",
       "      <td>0.0</td>\n",
       "      <td>0.0</td>\n",
       "    </tr>\n",
       "    <tr>\n",
       "      <td>rec-2074-dup-0</td>\n",
       "      <td>0.0</td>\n",
       "      <td>1.0</td>\n",
       "      <td>0.0</td>\n",
       "      <td>0.0</td>\n",
       "      <td>1.0</td>\n",
       "      <td>0.0</td>\n",
       "      <td>0.0</td>\n",
       "    </tr>\n",
       "    <tr>\n",
       "      <td>rec-2683-dup-0</td>\n",
       "      <td>0.0</td>\n",
       "      <td>1.0</td>\n",
       "      <td>0.0</td>\n",
       "      <td>0.0</td>\n",
       "      <td>0.0</td>\n",
       "      <td>0.0</td>\n",
       "      <td>0.0</td>\n",
       "    </tr>\n",
       "    <tr>\n",
       "      <td>...</td>\n",
       "      <td>...</td>\n",
       "      <td>...</td>\n",
       "      <td>...</td>\n",
       "      <td>...</td>\n",
       "      <td>...</td>\n",
       "      <td>...</td>\n",
       "      <td>...</td>\n",
       "      <td>...</td>\n",
       "    </tr>\n",
       "    <tr>\n",
       "      <td rowspan=\"5\" valign=\"top\">rec-999-org</td>\n",
       "      <td>rec-3940-dup-0</td>\n",
       "      <td>0.0</td>\n",
       "      <td>1.0</td>\n",
       "      <td>0.0</td>\n",
       "      <td>0.0</td>\n",
       "      <td>0.0</td>\n",
       "      <td>0.0</td>\n",
       "      <td>0.0</td>\n",
       "    </tr>\n",
       "    <tr>\n",
       "      <td>rec-4941-dup-0</td>\n",
       "      <td>0.0</td>\n",
       "      <td>1.0</td>\n",
       "      <td>0.0</td>\n",
       "      <td>0.0</td>\n",
       "      <td>0.0</td>\n",
       "      <td>0.0</td>\n",
       "      <td>0.0</td>\n",
       "    </tr>\n",
       "    <tr>\n",
       "      <td>rec-859-dup-0</td>\n",
       "      <td>0.0</td>\n",
       "      <td>1.0</td>\n",
       "      <td>0.0</td>\n",
       "      <td>0.0</td>\n",
       "      <td>0.0</td>\n",
       "      <td>0.0</td>\n",
       "      <td>0.0</td>\n",
       "    </tr>\n",
       "    <tr>\n",
       "      <td>rec-911-dup-0</td>\n",
       "      <td>0.0</td>\n",
       "      <td>1.0</td>\n",
       "      <td>0.0</td>\n",
       "      <td>0.0</td>\n",
       "      <td>1.0</td>\n",
       "      <td>0.0</td>\n",
       "      <td>0.0</td>\n",
       "    </tr>\n",
       "    <tr>\n",
       "      <td>rec-999-dup-0</td>\n",
       "      <td>1.0</td>\n",
       "      <td>1.0</td>\n",
       "      <td>1.0</td>\n",
       "      <td>1.0</td>\n",
       "      <td>1.0</td>\n",
       "      <td>1.0</td>\n",
       "      <td>1.0</td>\n",
       "    </tr>\n",
       "  </tbody>\n",
       "</table>\n",
       "<p>87132 rows × 7 columns</p>\n",
       "</div>"
      ],
      "text/plain": [
       "                            given_name  surname  date_of_birth  suburb  state  \\\n",
       "rec_id_1    rec_id_2                                                            \n",
       "rec-0-org   rec-0-dup-0            1.0      1.0            1.0     1.0    1.0   \n",
       "            rec-1505-dup-0         0.0      1.0            0.0     0.0    0.0   \n",
       "            rec-1636-dup-0         0.0      1.0            0.0     0.0    0.0   \n",
       "            rec-2074-dup-0         0.0      1.0            0.0     0.0    1.0   \n",
       "            rec-2683-dup-0         0.0      1.0            0.0     0.0    0.0   \n",
       "...                                ...      ...            ...     ...    ...   \n",
       "rec-999-org rec-3940-dup-0         0.0      1.0            0.0     0.0    0.0   \n",
       "            rec-4941-dup-0         0.0      1.0            0.0     0.0    0.0   \n",
       "            rec-859-dup-0          0.0      1.0            0.0     0.0    0.0   \n",
       "            rec-911-dup-0          0.0      1.0            0.0     0.0    1.0   \n",
       "            rec-999-dup-0          1.0      1.0            1.0     1.0    1.0   \n",
       "\n",
       "                            address_1  address_2  \n",
       "rec_id_1    rec_id_2                              \n",
       "rec-0-org   rec-0-dup-0           1.0        1.0  \n",
       "            rec-1505-dup-0        0.0        0.0  \n",
       "            rec-1636-dup-0        0.0        0.0  \n",
       "            rec-2074-dup-0        0.0        0.0  \n",
       "            rec-2683-dup-0        0.0        0.0  \n",
       "...                               ...        ...  \n",
       "rec-999-org rec-3940-dup-0        0.0        0.0  \n",
       "            rec-4941-dup-0        0.0        0.0  \n",
       "            rec-859-dup-0         0.0        0.0  \n",
       "            rec-911-dup-0         0.0        0.0  \n",
       "            rec-999-dup-0         1.0        1.0  \n",
       "\n",
       "[87132 rows x 7 columns]"
      ]
     },
     "execution_count": 17,
     "metadata": {},
     "output_type": "execute_result"
    }
   ],
   "source": [
    "features"
   ]
  },
  {
   "cell_type": "code",
   "execution_count": 18,
   "metadata": {},
   "outputs": [
    {
     "data": {
      "text/plain": [
       "7.0     1725\n",
       "6.0     1890\n",
       "5.0     1004\n",
       "4.0      310\n",
       "3.0      995\n",
       "2.0    20206\n",
       "1.0    61002\n",
       "dtype: int64"
      ]
     },
     "execution_count": 18,
     "metadata": {},
     "output_type": "execute_result"
    }
   ],
   "source": [
    "# Sum the comparison results.\n",
    "features.sum(axis=1).value_counts().sort_index(ascending=False)"
   ]
  },
  {
   "cell_type": "code",
   "execution_count": 57,
   "metadata": {},
   "outputs": [
    {
     "name": "stdout",
     "output_type": "stream",
     "text": [
      "4920\n"
     ]
    }
   ],
   "source": [
    "# no ML\n",
    "matches = features[features.sum(axis=1) > 3]\n",
    "print(len(matches))"
   ]
  },
  {
   "cell_type": "code",
   "execution_count": 58,
   "metadata": {},
   "outputs": [
    {
     "data": {
      "text/html": [
       "<div>\n",
       "<style scoped>\n",
       "    .dataframe tbody tr th:only-of-type {\n",
       "        vertical-align: middle;\n",
       "    }\n",
       "\n",
       "    .dataframe tbody tr th {\n",
       "        vertical-align: top;\n",
       "    }\n",
       "\n",
       "    .dataframe thead th {\n",
       "        text-align: right;\n",
       "    }\n",
       "</style>\n",
       "<table border=\"1\" class=\"dataframe\">\n",
       "  <thead>\n",
       "    <tr style=\"text-align: right;\">\n",
       "      <th></th>\n",
       "      <th></th>\n",
       "      <th>given_name</th>\n",
       "      <th>surname</th>\n",
       "      <th>date_of_birth</th>\n",
       "      <th>suburb</th>\n",
       "      <th>state</th>\n",
       "      <th>address_1</th>\n",
       "      <th>address_2</th>\n",
       "    </tr>\n",
       "    <tr>\n",
       "      <th>rec_id_1</th>\n",
       "      <th>rec_id_2</th>\n",
       "      <th></th>\n",
       "      <th></th>\n",
       "      <th></th>\n",
       "      <th></th>\n",
       "      <th></th>\n",
       "      <th></th>\n",
       "      <th></th>\n",
       "    </tr>\n",
       "  </thead>\n",
       "  <tbody>\n",
       "    <tr>\n",
       "      <td>rec-0-org</td>\n",
       "      <td>rec-0-dup-0</td>\n",
       "      <td>1.0</td>\n",
       "      <td>1.0</td>\n",
       "      <td>1.0</td>\n",
       "      <td>1.0</td>\n",
       "      <td>1.0</td>\n",
       "      <td>1.0</td>\n",
       "      <td>1.0</td>\n",
       "    </tr>\n",
       "    <tr>\n",
       "      <td>rec-1-org</td>\n",
       "      <td>rec-1-dup-0</td>\n",
       "      <td>1.0</td>\n",
       "      <td>1.0</td>\n",
       "      <td>1.0</td>\n",
       "      <td>1.0</td>\n",
       "      <td>1.0</td>\n",
       "      <td>1.0</td>\n",
       "      <td>1.0</td>\n",
       "    </tr>\n",
       "    <tr>\n",
       "      <td>rec-10-org</td>\n",
       "      <td>rec-10-dup-0</td>\n",
       "      <td>1.0</td>\n",
       "      <td>1.0</td>\n",
       "      <td>1.0</td>\n",
       "      <td>1.0</td>\n",
       "      <td>1.0</td>\n",
       "      <td>1.0</td>\n",
       "      <td>1.0</td>\n",
       "    </tr>\n",
       "    <tr>\n",
       "      <td>rec-100-org</td>\n",
       "      <td>rec-100-dup-0</td>\n",
       "      <td>1.0</td>\n",
       "      <td>1.0</td>\n",
       "      <td>0.0</td>\n",
       "      <td>1.0</td>\n",
       "      <td>1.0</td>\n",
       "      <td>1.0</td>\n",
       "      <td>1.0</td>\n",
       "    </tr>\n",
       "    <tr>\n",
       "      <td>rec-1000-org</td>\n",
       "      <td>rec-1000-dup-0</td>\n",
       "      <td>1.0</td>\n",
       "      <td>1.0</td>\n",
       "      <td>1.0</td>\n",
       "      <td>1.0</td>\n",
       "      <td>1.0</td>\n",
       "      <td>1.0</td>\n",
       "      <td>1.0</td>\n",
       "    </tr>\n",
       "    <tr>\n",
       "      <td>...</td>\n",
       "      <td>...</td>\n",
       "      <td>...</td>\n",
       "      <td>...</td>\n",
       "      <td>...</td>\n",
       "      <td>...</td>\n",
       "      <td>...</td>\n",
       "      <td>...</td>\n",
       "      <td>...</td>\n",
       "    </tr>\n",
       "    <tr>\n",
       "      <td>rec-995-org</td>\n",
       "      <td>rec-995-dup-0</td>\n",
       "      <td>1.0</td>\n",
       "      <td>1.0</td>\n",
       "      <td>1.0</td>\n",
       "      <td>1.0</td>\n",
       "      <td>1.0</td>\n",
       "      <td>1.0</td>\n",
       "      <td>0.0</td>\n",
       "    </tr>\n",
       "    <tr>\n",
       "      <td>rec-996-org</td>\n",
       "      <td>rec-996-dup-0</td>\n",
       "      <td>1.0</td>\n",
       "      <td>1.0</td>\n",
       "      <td>1.0</td>\n",
       "      <td>1.0</td>\n",
       "      <td>1.0</td>\n",
       "      <td>1.0</td>\n",
       "      <td>0.0</td>\n",
       "    </tr>\n",
       "    <tr>\n",
       "      <td>rec-997-org</td>\n",
       "      <td>rec-997-dup-0</td>\n",
       "      <td>1.0</td>\n",
       "      <td>1.0</td>\n",
       "      <td>1.0</td>\n",
       "      <td>1.0</td>\n",
       "      <td>1.0</td>\n",
       "      <td>1.0</td>\n",
       "      <td>1.0</td>\n",
       "    </tr>\n",
       "    <tr>\n",
       "      <td>rec-998-org</td>\n",
       "      <td>rec-998-dup-0</td>\n",
       "      <td>1.0</td>\n",
       "      <td>1.0</td>\n",
       "      <td>1.0</td>\n",
       "      <td>1.0</td>\n",
       "      <td>1.0</td>\n",
       "      <td>1.0</td>\n",
       "      <td>1.0</td>\n",
       "    </tr>\n",
       "    <tr>\n",
       "      <td>rec-999-org</td>\n",
       "      <td>rec-999-dup-0</td>\n",
       "      <td>1.0</td>\n",
       "      <td>1.0</td>\n",
       "      <td>1.0</td>\n",
       "      <td>1.0</td>\n",
       "      <td>1.0</td>\n",
       "      <td>1.0</td>\n",
       "      <td>1.0</td>\n",
       "    </tr>\n",
       "  </tbody>\n",
       "</table>\n",
       "<p>4920 rows × 7 columns</p>\n",
       "</div>"
      ],
      "text/plain": [
       "                             given_name  surname  date_of_birth  suburb  \\\n",
       "rec_id_1     rec_id_2                                                     \n",
       "rec-0-org    rec-0-dup-0            1.0      1.0            1.0     1.0   \n",
       "rec-1-org    rec-1-dup-0            1.0      1.0            1.0     1.0   \n",
       "rec-10-org   rec-10-dup-0           1.0      1.0            1.0     1.0   \n",
       "rec-100-org  rec-100-dup-0          1.0      1.0            0.0     1.0   \n",
       "rec-1000-org rec-1000-dup-0         1.0      1.0            1.0     1.0   \n",
       "...                                 ...      ...            ...     ...   \n",
       "rec-995-org  rec-995-dup-0          1.0      1.0            1.0     1.0   \n",
       "rec-996-org  rec-996-dup-0          1.0      1.0            1.0     1.0   \n",
       "rec-997-org  rec-997-dup-0          1.0      1.0            1.0     1.0   \n",
       "rec-998-org  rec-998-dup-0          1.0      1.0            1.0     1.0   \n",
       "rec-999-org  rec-999-dup-0          1.0      1.0            1.0     1.0   \n",
       "\n",
       "                             state  address_1  address_2  \n",
       "rec_id_1     rec_id_2                                     \n",
       "rec-0-org    rec-0-dup-0       1.0        1.0        1.0  \n",
       "rec-1-org    rec-1-dup-0       1.0        1.0        1.0  \n",
       "rec-10-org   rec-10-dup-0      1.0        1.0        1.0  \n",
       "rec-100-org  rec-100-dup-0     1.0        1.0        1.0  \n",
       "rec-1000-org rec-1000-dup-0    1.0        1.0        1.0  \n",
       "...                            ...        ...        ...  \n",
       "rec-995-org  rec-995-dup-0     1.0        1.0        0.0  \n",
       "rec-996-org  rec-996-dup-0     1.0        1.0        0.0  \n",
       "rec-997-org  rec-997-dup-0     1.0        1.0        1.0  \n",
       "rec-998-org  rec-998-dup-0     1.0        1.0        1.0  \n",
       "rec-999-org  rec-999-dup-0     1.0        1.0        1.0  \n",
       "\n",
       "[4920 rows x 7 columns]"
      ]
     },
     "execution_count": 58,
     "metadata": {},
     "output_type": "execute_result"
    }
   ],
   "source": [
    "matches"
   ]
  },
  {
   "cell_type": "code",
   "execution_count": 66,
   "metadata": {},
   "outputs": [
    {
     "name": "stdout",
     "output_type": "stream",
     "text": [
      "confusion matrix\n",
      "[[ 4918    82]\n",
      " [    2 82130]]\n"
     ]
    }
   ],
   "source": [
    "# return the confusion matrix\n",
    "conf_noml = rl.confusion_matrix(true_links, matches, len(candidate_links))\n",
    "print('confusion matrix')\n",
    "print(conf_noml)"
   ]
  },
  {
   "cell_type": "code",
   "execution_count": 67,
   "metadata": {},
   "outputs": [
    {
     "name": "stdout",
     "output_type": "stream",
     "text": [
      "fscore 0.9915322580645163\n",
      "recall 0.9836\n",
      "precision 0.9995934959349594\n"
     ]
    }
   ],
   "source": [
    "# compute the F-score for this classification\n",
    "fscore = rl.fscore(conf_noml)\n",
    "print('fscore', fscore)\n",
    "recall = rl.recall(true_links, matches)\n",
    "print('recall', recall)\n",
    "precision = rl.precision(true_links, matches)\n",
    "print('precision', precision)"
   ]
  },
  {
   "cell_type": "markdown",
   "metadata": {},
   "source": [
    "## Logistic Regression Classifier"
   ]
  },
  {
   "cell_type": "code",
   "execution_count": 77,
   "metadata": {},
   "outputs": [
    {
     "name": "stdout",
     "output_type": "stream",
     "text": [
      "Deterministic classifier\n",
      "intercept -11.0\n",
      "coefficients [1.5, 1.5, 8.0, 6.0, 2.5, 6.5, 5.0]\n"
     ]
    }
   ],
   "source": [
    "# use the Logistic Regression Classifier\n",
    "# this classifier is equivalent to the deterministic record linkage approach\n",
    "intercept = -11.0\n",
    "coefficients = [1.5, 1.5, 8.0, 6.0, 2.5, 6.5, 5.0]\n",
    "\n",
    "print('Deterministic classifier')\n",
    "print('intercept', intercept)\n",
    "print('coefficients', coefficients)"
   ]
  },
  {
   "cell_type": "code",
   "execution_count": 78,
   "metadata": {},
   "outputs": [
    {
     "name": "stdout",
     "output_type": "stream",
     "text": [
      "INFO:recordlinkage:Classification - predict matches and non-matches\n",
      "5161 matches\n"
     ]
    }
   ],
   "source": [
    "logreg = rl.LogisticRegressionClassifier(\n",
    "    coefficients=coefficients, intercept=intercept)\n",
    "links = logreg.predict(features)\n",
    "\n",
    "print(len(links), 'matches')"
   ]
  },
  {
   "cell_type": "code",
   "execution_count": 79,
   "metadata": {},
   "outputs": [
    {
     "name": "stdout",
     "output_type": "stream",
     "text": [
      "confusion matrix\n",
      "[[ 4972    28]\n",
      " [  189 81943]]\n"
     ]
    }
   ],
   "source": [
    "# return the confusion matrix\n",
    "conf_logreg = rl.confusion_matrix(true_links, links, len(candidate_links))\n",
    "print('confusion matrix')\n",
    "print(conf_logreg)"
   ]
  },
  {
   "cell_type": "code",
   "execution_count": 80,
   "metadata": {},
   "outputs": [
    {
     "name": "stdout",
     "output_type": "stream",
     "text": [
      "fscore 0.9786438342682806\n",
      "recall 0.9944\n",
      "precision 0.963379190079442\n"
     ]
    }
   ],
   "source": [
    "# compute the F-score for this classification\n",
    "fscore = rl.fscore(conf_logreg)\n",
    "print('fscore', fscore)\n",
    "recall = rl.recall(true_links, links)\n",
    "print('recall', recall)\n",
    "precision = rl.precision(true_links, links)\n",
    "print('precision', precision)"
   ]
  },
  {
   "cell_type": "markdown",
   "metadata": {},
   "source": [
    "## Naive Bayes"
   ]
  },
  {
   "cell_type": "code",
   "execution_count": 81,
   "metadata": {},
   "outputs": [
    {
     "name": "stdout",
     "output_type": "stream",
     "text": [
      "INFO:recordlinkage:Classification - start training NaiveBayesClassifier\n",
      "INFO:recordlinkage:Classification - training computation time: ~0.29s\n"
     ]
    }
   ],
   "source": [
    "# Initialise the NaiveBayesClassifier.\n",
    "cl = rl.NaiveBayesClassifier()\n",
    "cl.fit(features, true_links)"
   ]
  },
  {
   "cell_type": "code",
   "execution_count": 82,
   "metadata": {},
   "outputs": [
    {
     "name": "stdout",
     "output_type": "stream",
     "text": [
      "p probability P(Match): 0.05726943028967549\n",
      "m probabilities P(x_i=1|Match): {'given_name': {0.0: 0.20380762710189862, 1.0: 0.7961923728981007}, 'surname': {0.0: 0.1462925993469899, 1.0: 0.8537074006530102}, 'date_of_birth': {0.0: 0.0823647461978057, 1.0: 0.9176352538021937}, 'suburb': {0.0: 0.07474951604210353, 1.0: 0.9252504839578959}, 'state': {0.0: 0.05871745255641471, 1.0: 0.941282547443585}, 'address_1': {0.0: 0.1412825795077122, 1.0: 0.858717420492287}, 'address_2': {0.0: 0.3148296667402937, 1.0: 0.685170333259706}}\n",
      "u probabilities P(x_i=1|Non-Match): {'given_name': {0.0: 0.9940712412795613, 1.0: 0.0059287587204383645}, 'surname': {0.0: 0.0077305166474385435, 1.0: 0.9922694833525615}, 'date_of_birth': {0.0: 0.9820432897128304, 1.0: 0.01795671028716927}, 'suburb': {0.0: 0.9978451936942235, 1.0: 0.0021548063057758365}, 'state': {0.0: 0.7818777232551495, 1.0: 0.21812227674485082}, 'address_1': {0.0: 0.9993912967802312, 1.0: 0.0006087032197689292}, 'address_2': {0.0: 0.9994886891006094, 1.0: 0.0005113108993905411}}\n",
      "log m probabilities P(x_i=1|Match): {'given_name': {0.0: -1.5905787344487523, 1.0: -0.22791444784122916}, 'surname': {0.0: -1.9221465576969958, 1.0: -0.1581667660881294}, 'date_of_birth': {0.0: -2.496597771020517, 1.0: -0.08595529432979987}, 'suburb': {0.0: -2.59361254108543, 1.0: -0.07769078465964974}, 'state': {0.0: -2.835018278511787, 1.0: -0.06051192150854412}, 'address_1': {0.0: -1.956993284169494, 1.0: -0.1523153744566219}, 'address_2': {0.0: -1.1557235269163817, 1.0: -0.37808780993810487}}\n",
      "log u probabilities P(x_i=1|Non-Match): {'given_name': {0.0: -0.005946403586422733, 1.0: -5.127940409900553}, 'surname': {0.0: -4.862579581948936, 1.0: -0.007760551983833963}, 'date_of_birth': {0.0: -0.018119888388685723, 1.0: -4.0197914017514025}, 'suburb': {0.0: -0.0021571312413417587, 1.0: -6.14005444077651}, 'state': {0.0: -0.2460569147868199, 1.0: -1.5226994709407418}, 'address_1': {0.0: -0.0006088885547868017, 1.0: -7.404179732895784}, 'address_2': {0.0: -0.0005114416633844598, 1.0: -7.578532739089016}}\n",
      "log weights of features: {'given_name': {0.0: -1.5846323308623296, 1.0: 4.900025962059324}, 'surname': {0.0: 2.9404330242519405, 1.0: -0.15040621410429544}, 'date_of_birth': {0.0: -2.4784778826318314, 1.0: 3.9338361074216026}, 'suburb': {0.0: -2.5914554098440883, 1.0: 6.06236365611686}, 'state': {0.0: -2.588961363724967, 1.0: 1.4621875494321976}, 'address_1': {0.0: -1.9563843956147071, 1.0: 7.251864358439162}, 'address_2': {0.0: -1.1552120852529972, 1.0: 7.200444929150911}}\n",
      "weights of features: {'given_name': {0.0: 0.20502315994934017, 1.0: 134.29326616942024}, 'surname': {0.0: 18.924039106165434, 1.0: 0.8603584157084078}, 'date_of_birth': {0.0: 0.08387078966945627, 1.0: 51.10263734988684}, 'suburb': {0.0: 0.07491093459634333, 1.0: 429.3891666632932}, 'state': {0.0: 0.07509799909883542, 1.0: 4.315389337993445}, 'address_1': {0.0: 0.14136863104860578, 1.0: 1410.7325090513996}, 'address_2': {0.0: 0.31499072493115793, 1.0: 1340.0268487849512}}\n"
     ]
    }
   ],
   "source": [
    "# Print the parameters that are trained (m, u and p). Note that the estimates\n",
    "# are very good.\n",
    "print(\"p probability P(Match):\", cl.p)\n",
    "print(\"m probabilities P(x_i=1|Match):\", cl.m_probs)\n",
    "print(\"u probabilities P(x_i=1|Non-Match):\", cl.u_probs)\n",
    "print(\"log weights of features:\", cl.log_weights)\n",
    "print(\"weights of features:\", cl.weights)"
   ]
  },
  {
   "cell_type": "code",
   "execution_count": 83,
   "metadata": {},
   "outputs": [
    {
     "name": "stdout",
     "output_type": "stream",
     "text": [
      "INFO:recordlinkage:Classification - predict matches and non-matches\n",
      "Predicted number of links: 4985\n"
     ]
    }
   ],
   "source": [
    "# evaluate the model\n",
    "links = cl.predict(features)\n",
    "print(\"Predicted number of links:\", len(links))"
   ]
  },
  {
   "cell_type": "code",
   "execution_count": 84,
   "metadata": {},
   "outputs": [
    {
     "name": "stdout",
     "output_type": "stream",
     "text": [
      "Confusion matrix:\n",
      " [[ 4977    23]\n",
      " [    8 82124]]\n"
     ]
    }
   ],
   "source": [
    "cm = rl.confusion_matrix(true_links, links, len(candidate_links))\n",
    "print(\"Confusion matrix:\\n\", cm)"
   ]
  },
  {
   "cell_type": "code",
   "execution_count": 85,
   "metadata": {},
   "outputs": [
    {
     "name": "stdout",
     "output_type": "stream",
     "text": [
      "fscore 0.9968953430145219\n",
      "recall 0.9954\n",
      "precision 0.9983951855566701\n"
     ]
    }
   ],
   "source": [
    "# compute the F-score for this classification\n",
    "fscore = rl.fscore(cm)\n",
    "print('fscore', fscore)\n",
    "recall = rl.recall(true_links, links)\n",
    "print('recall', recall)\n",
    "precision = rl.precision(true_links, links)\n",
    "print('precision', precision)"
   ]
  },
  {
   "cell_type": "code",
   "execution_count": 86,
   "metadata": {},
   "outputs": [
    {
     "name": "stdout",
     "output_type": "stream",
     "text": [
      "INFO:recordlinkage:Classification - compute probabilities\n"
     ]
    },
    {
     "data": {
      "text/plain": [
       "rec_id_1     rec_id_2      \n",
       "rec-0-org    rec-0-dup-0       1.000000e+00\n",
       "             rec-1505-dup-0    2.251400e-07\n",
       "             rec-1636-dup-0    2.251400e-07\n",
       "             rec-2074-dup-0    1.293715e-05\n",
       "             rec-2683-dup-0    2.251400e-07\n",
       "                                   ...     \n",
       "rec-999-org  rec-3940-dup-0    2.251400e-07\n",
       "             rec-4941-dup-0    2.251400e-07\n",
       "             rec-859-dup-0     2.251400e-07\n",
       "             rec-911-dup-0     1.293715e-05\n",
       "             rec-999-dup-0     1.000000e+00\n",
       "Length: 87132, dtype: float64"
      ]
     },
     "execution_count": 86,
     "metadata": {},
     "output_type": "execute_result"
    }
   ],
   "source": [
    "# Predict the match probability for each pair in the dataset.\n",
    "probs = cl.prob(features)\n",
    "probs"
   ]
  },
  {
   "cell_type": "markdown",
   "metadata": {},
   "source": [
    "## Expectation-Conditional Maximisation"
   ]
  },
  {
   "cell_type": "code",
   "execution_count": 89,
   "metadata": {},
   "outputs": [],
   "source": [
    "'''\n",
    "Example: Unsupervised learning with the ECM algorithm.\n",
    "Train data is often hard to collect in record linkage or data matching\n",
    "problems. The Expectation-Conditional Maximisation (ECM) algorithm is the most\n",
    "well known algorithm for unsupervised data matching. The algorithm preforms\n",
    "relatively well compared to supervised methods.\n",
    "'''\n",
    "import numpy as np"
   ]
  },
  {
   "cell_type": "code",
   "execution_count": 90,
   "metadata": {},
   "outputs": [
    {
     "name": "stdout",
     "output_type": "stream",
     "text": [
      "INFO:recordlinkage:Classification - start training ECMClassifier\n",
      "INFO:recordlinkage:Classification - training computation time: ~0.27s\n"
     ]
    },
    {
     "name": "stderr",
     "output_type": "stream",
     "text": [
      "INFO:recordlinkage:Classification - training computation time: ~0.27s\n"
     ]
    }
   ],
   "source": [
    "# Initialise the Expectation-Conditional Maximisation classifier.\n",
    "cl = rl.ECMClassifier()\n",
    "cl.fit(features)"
   ]
  },
  {
   "cell_type": "code",
   "execution_count": 91,
   "metadata": {},
   "outputs": [
    {
     "name": "stdout",
     "output_type": "stream",
     "text": [
      "p probability P(Match): 0.0576117927528846\n",
      "m probabilities P(x_i=1|Match): {'given_name': {0.0: 0.20887754384968493, 1.0: 0.7911224561503161}, 'surname': {0.0: 0.151805994706334, 1.0: 0.8481940052936664}, 'date_of_birth': {0.0: 0.08170046345190825, 1.0: 0.918299536548092}, 'suburb': {0.0: 0.07994263723737696, 1.0: 0.9200573627626235}, 'state': {0.0: 0.0594790279590614, 1.0: 0.9405209720409399}, 'address_1': {0.0: 0.146509414260776, 1.0: 0.8534905857392252}, 'address_2': {0.0: 0.31855780722347266, 1.0: 0.6814421927765274}}\n",
      "u probabilities P(x_i=1|Non-Match): {'given_name': {0.0: 0.9940483951307649, 1.0: 0.005951604869236727}, 'surname': {0.0: 0.007343121107290269, 1.0: 0.992656878892712}, 'date_of_birth': {0.0: 0.9824107463801766, 1.0: 0.01758925361982419}, 'suburb': {0.0: 0.9978630721592132, 1.0: 0.0021369278407886807}, 'state': {0.0: 0.7820938834743134, 1.0: 0.2179061165256877}, 'address_1': {0.0: 0.9993835051043114, 1.0: 0.0006164948956893574}, 'address_2': {0.0: 0.9995095058020591, 1.0: 0.0004904941979414457}}\n",
      "log m probabilities P(x_i=1|Match): {'given_name': {0.0: -1.566007113327168, 1.0: -0.23430251137571645}, 'surname': {0.0: -1.8851519239812848, 1.0: -0.16464588952891113}, 'date_of_birth': {0.0: -2.504695604526293, 1.0: -0.08523164904743119}, 'suburb': {0.0: -2.526445936033255, 1.0: -0.0833192600538446}, 'state': {0.0: -2.8221314998394327, 1.0: -0.06132133166889098}, 'address_1': {0.0: -1.920665591423969, 1.0: -0.15842076699098762}, 'address_2': {0.0: -1.1439513220918984, 1.0: -0.3835438549553327}}\n",
      "log u probabilities P(x_i=1|Non-Match): {'given_name': {0.0: -0.0059693862564582645, 1.0: -5.1240943698719565}, 'surname': {0.0: -4.913991307758806, 1.0: -0.007370214536120301}, 'date_of_birth': {0.0: -0.01774578274418559, 1.0: -4.040467153206603}, 'suburb': {0.0: -0.0021392143290395182, 1.0: -6.148386069809203}, 'state': {0.0: -0.2457804900491709, 1.0: -1.5236909670919445}, 'address_1': {0.0: -0.0006166850068058949, 1.0: -7.391460514892354}, 'address_2': {0.0: -0.0004906145295695552, 1.0: -7.620097107894372}}\n",
      "log weights of features: {'given_name': {0.0: -1.5600377270707098, 1.0: 4.88979185849624}, 'surname': {0.0: 3.0288393837775214, 1.0: -0.15727567499279083}, 'date_of_birth': {0.0: -2.4869498217821073, 1.0: 3.9552355041591722}, 'suburb': {0.0: -2.5243067217042157, 1.0: 6.065066809755359}, 'state': {0.0: -2.5763510097902618, 1.0: 1.4623696354230535}, 'address_1': {0.0: -1.920048906417163, 1.0: 7.233039747901366}, 'address_2': {0.0: -1.1434607075623289, 1.0: 7.236553252939039}}\n",
      "weights of features: {'given_name': {0.0: 0.21012814353189269, 1.0: 132.92590377421593}, 'surname': {0.0: 20.673224979991225, 1.0: 0.8544684707567927}, 'date_of_birth': {0.0: 0.08316324282174692, 1.0: 52.20798769500434}, 'suburb': {0.0: 0.08011383472122494, 1.0: 430.5514417478205}, 'state': {0.0: 0.07605100770618019, 1.0: 4.316175181480356}, 'address_1': {0.0: 0.14659979228442835, 1.0: 1384.4244156877598}, 'address_2': {0.0: 0.3187141346573238, 1.0: 1389.2971530274385}}\n"
     ]
    }
   ],
   "source": [
    "# Print the parameters that are trained (m, u and p). Note that the estimates\n",
    "# are very good.\n",
    "print(\"p probability P(Match):\", cl.p)\n",
    "print(\"m probabilities P(x_i=1|Match):\", cl.m_probs)\n",
    "print(\"u probabilities P(x_i=1|Non-Match):\", cl.u_probs)\n",
    "print(\"log weights of features:\", cl.log_weights)\n",
    "print(\"weights of features:\", cl.weights)"
   ]
  },
  {
   "cell_type": "code",
   "execution_count": 92,
   "metadata": {},
   "outputs": [
    {
     "name": "stdout",
     "output_type": "stream",
     "text": [
      "INFO:recordlinkage:Classification - predict matches and non-matches\n"
     ]
    },
    {
     "name": "stderr",
     "output_type": "stream",
     "text": [
      "INFO:recordlinkage:Classification - predict matches and non-matches\n"
     ]
    },
    {
     "name": "stdout",
     "output_type": "stream",
     "text": [
      "Predicted number of links: 4985\n"
     ]
    }
   ],
   "source": [
    "# evaluate the model\n",
    "links = cl.predict(features)\n",
    "print(\"Predicted number of links:\", len(links))"
   ]
  },
  {
   "cell_type": "code",
   "execution_count": 93,
   "metadata": {},
   "outputs": [
    {
     "name": "stdout",
     "output_type": "stream",
     "text": [
      "Confusion matrix:\n",
      " [[ 4977    23]\n",
      " [    8 82124]]\n"
     ]
    }
   ],
   "source": [
    "cm = rl.confusion_matrix(true_links, links, len(candidate_links))\n",
    "print(\"Confusion matrix:\\n\", cm)"
   ]
  },
  {
   "cell_type": "code",
   "execution_count": 94,
   "metadata": {},
   "outputs": [
    {
     "name": "stdout",
     "output_type": "stream",
     "text": [
      "fscore 0.9968953430145219\n",
      "recall 0.9954\n",
      "precision 0.9983951855566701\n"
     ]
    }
   ],
   "source": [
    "# compute the F-score for this classification\n",
    "fscore = rl.fscore(cm)\n",
    "print('fscore', fscore)\n",
    "recall = rl.recall(true_links, links)\n",
    "print('recall', recall)\n",
    "precision = rl.precision(true_links, links)\n",
    "print('precision', precision)"
   ]
  },
  {
   "cell_type": "code",
   "execution_count": 95,
   "metadata": {},
   "outputs": [
    {
     "name": "stdout",
     "output_type": "stream",
     "text": [
      "INFO:recordlinkage:Classification - compute probabilities\n"
     ]
    },
    {
     "name": "stderr",
     "output_type": "stream",
     "text": [
      "INFO:recordlinkage:Classification - compute probabilities\n"
     ]
    },
    {
     "name": "stdout",
     "output_type": "stream",
     "text": [
      "rec_id_1     rec_id_2      \n",
      "rec-0-org    rec-0-dup-0       1.000000e+00\n",
      "             rec-1505-dup-0    2.598605e-07\n",
      "             rec-1636-dup-0    2.598605e-07\n",
      "             rec-2074-dup-0    1.474783e-05\n",
      "             rec-2683-dup-0    2.598605e-07\n",
      "                                   ...     \n",
      "rec-999-org  rec-3940-dup-0    2.598605e-07\n",
      "             rec-4941-dup-0    2.598605e-07\n",
      "             rec-859-dup-0     2.598605e-07\n",
      "             rec-911-dup-0     1.474783e-05\n",
      "             rec-999-dup-0     1.000000e+00\n",
      "Length: 87132, dtype: float64\n"
     ]
    }
   ],
   "source": [
    "# Predict the match probability for each pair in the dataset.\n",
    "probs = cl.prob(features)\n",
    "print(probs)"
   ]
  },
  {
   "cell_type": "code",
   "execution_count": null,
   "metadata": {},
   "outputs": [],
   "source": []
  }
 ],
 "metadata": {
  "kernelspec": {
   "display_name": "Python 3",
   "language": "python",
   "name": "python3"
  },
  "language_info": {
   "codemirror_mode": {
    "name": "ipython",
    "version": 3
   },
   "file_extension": ".py",
   "mimetype": "text/x-python",
   "name": "python",
   "nbconvert_exporter": "python",
   "pygments_lexer": "ipython3",
   "version": "3.7.4"
  }
 },
 "nbformat": 4,
 "nbformat_minor": 2
}
