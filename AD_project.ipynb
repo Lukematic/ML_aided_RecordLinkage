{
 "cells": [
  {
   "cell_type": "markdown",
   "metadata": {},
   "source": [
    "# Machine Learning aided Record Linkage (and Data Fusion?) - a comparison between different ML methods\n",
    "\n",
    "## Group Components\n",
    "* **Francesco Porto**\n",
    "* **Francesco Stranieri**\n",
    "* **Mattia Vincenzi**\n",
    "\n",
    "## Abstract\n",
    "Record Linkage is the process of finding records in one or more datasets that refer to the same entity across different data sources. Traditionally, it is done by applying comparison rules between pairs of attributes from each dataset. In this project we investigate some possible Machine Learning applications to Data Linkage, and we compare them to the standard approach.\n",
    "\n",
    "## Python Record Linkage Toolkit\n",
    "Throughout the project, we make use of a Python library called \"Python Record Linkage Toolkit\", which provides a simple framework to facilitate the process of Record Linkage. In the context of this library, the Record Linkage process is dived into 5 steps:\n",
    "\n",
    "* Preprocessing\n",
    "* Indexing\n",
    "* Comparison\n",
    "* Classification\n",
    "* Evaluation\n",
    "\n",
    "Please refer to the documentation available at the following link for further information:\n",
    "\n",
    "https://recordlinkage.readthedocs.io/en/latest/index.html"
   ]
  },
  {
   "cell_type": "code",
   "execution_count": 125,
   "metadata": {},
   "outputs": [
    {
     "name": "stdout",
     "output_type": "stream",
     "text": [
      "Requirement already satisfied: recordlinkage in c:\\anaconda3\\lib\\site-packages (0.14)\n",
      "Requirement already satisfied: joblib in c:\\anaconda3\\lib\\site-packages (from recordlinkage) (0.13.2)\n",
      "Requirement already satisfied: pandas>=0.23 in c:\\anaconda3\\lib\\site-packages (from recordlinkage) (0.25.1)\n",
      "Requirement already satisfied: jellyfish>=0.5.4 in c:\\anaconda3\\lib\\site-packages (from recordlinkage) (0.7.2)\n",
      "Requirement already satisfied: scikit-learn>=0.19.0 in c:\\anaconda3\\lib\\site-packages (from recordlinkage) (0.21.3)\n",
      "Requirement already satisfied: scipy>=1 in c:\\anaconda3\\lib\\site-packages (from recordlinkage) (1.3.1)\n",
      "Requirement already satisfied: numpy>=1.13.0 in c:\\anaconda3\\lib\\site-packages (from recordlinkage) (1.16.5)\n",
      "Requirement already satisfied: python-dateutil>=2.6.1 in c:\\anaconda3\\lib\\site-packages (from pandas>=0.23->recordlinkage) (2.8.0)\n",
      "Requirement already satisfied: pytz>=2017.2 in c:\\anaconda3\\lib\\site-packages (from pandas>=0.23->recordlinkage) (2019.3)\n",
      "Requirement already satisfied: six>=1.5 in c:\\anaconda3\\lib\\site-packages (from python-dateutil>=2.6.1->pandas>=0.23->recordlinkage) (1.12.0)\n"
     ]
    }
   ],
   "source": [
    "!pip install recordlinkage\n",
    "import recordlinkage as rl"
   ]
  },
  {
   "cell_type": "markdown",
   "metadata": {},
   "source": [
    "## Dataset description\n",
    "We use the FEBRL (Freely Extensible Biomedical Record Linkage) dataset since it provides the \"golden links\" for optimal Record Linkage. This dataset contains 10000 records (5000 originals and 5000 duplicates, with one duplicate per original); the originals have been split from the duplicates into dataset4a.csv (containing the 5000 original records) \n",
    "and dataset4b.csv (containing the 5000 duplicate records)."
   ]
  },
  {
   "cell_type": "code",
   "execution_count": 156,
   "metadata": {
    "scrolled": false
   },
   "outputs": [],
   "source": [
    "from recordlinkage.datasets import load_febrl4"
   ]
  },
  {
   "cell_type": "code",
   "execution_count": 157,
   "metadata": {},
   "outputs": [],
   "source": [
    "# set logging\n",
    "rl.logging.set_verbosity(rl.logging.INFO)"
   ]
  },
  {
   "cell_type": "code",
   "execution_count": 158,
   "metadata": {
    "scrolled": true
   },
   "outputs": [
    {
     "name": "stdout",
     "output_type": "stream",
     "text": [
      "Loading data...\n",
      "5000 records in dataset A\n",
      "5000 records in dataset B\n",
      "5000 links between dataset A and B\n"
     ]
    }
   ],
   "source": [
    "# load datasets\n",
    "print('Loading data...')\n",
    "dfA, dfB, true_links = load_febrl4(return_links=True)\n",
    "print(len(dfA), 'records in dataset A')\n",
    "print(len(dfB), 'records in dataset B')\n",
    "print(len(true_links), 'links between dataset A and B')"
   ]
  },
  {
   "cell_type": "code",
   "execution_count": 133,
   "metadata": {},
   "outputs": [
    {
     "data": {
      "text/plain": [
       "given_name       object\n",
       "surname          object\n",
       "street_number    object\n",
       "address_1        object\n",
       "address_2        object\n",
       "suburb           object\n",
       "postcode         object\n",
       "state            object\n",
       "date_of_birth    object\n",
       "soc_sec_id       object\n",
       "dtype: object"
      ]
     },
     "execution_count": 133,
     "metadata": {},
     "output_type": "execute_result"
    }
   ],
   "source": [
    "dfA\n",
    "dfA.dtypes"
   ]
  },
  {
   "cell_type": "markdown",
   "metadata": {},
   "source": [
    "The records having the same numeric id represent the same entity."
   ]
  },
  {
   "cell_type": "code",
   "execution_count": 135,
   "metadata": {},
   "outputs": [
    {
     "data": {
      "text/plain": [
       "given_name               rachael\n",
       "surname                     dent\n",
       "street_number                  1\n",
       "address_1            knox street\n",
       "address_2        lakewood estate\n",
       "suburb                    byford\n",
       "postcode                    4129\n",
       "state                        vic\n",
       "date_of_birth           19280722\n",
       "soc_sec_id               1683994\n",
       "Name: rec-0-org, dtype: object"
      ]
     },
     "execution_count": 135,
     "metadata": {},
     "output_type": "execute_result"
    }
   ],
   "source": [
    "dfA.loc['rec-0-org']"
   ]
  },
  {
   "cell_type": "code",
   "execution_count": 136,
   "metadata": {},
   "outputs": [
    {
     "data": {
      "text/plain": [
       "given_name               rachael\n",
       "surname                     dent\n",
       "street_number                  4\n",
       "address_1            knox street\n",
       "address_2        lakewood estate\n",
       "suburb                    byford\n",
       "postcode                    4129\n",
       "state                        vic\n",
       "date_of_birth           19280722\n",
       "soc_sec_id               1683994\n",
       "Name: rec-0-dup-0, dtype: object"
      ]
     },
     "execution_count": 136,
     "metadata": {},
     "output_type": "execute_result"
    }
   ],
   "source": [
    "dfB.loc['rec-0-dup-0']"
   ]
  },
  {
   "cell_type": "markdown",
   "metadata": {},
   "source": [
    "We split each dataset into **training** and **testing** for our ML models."
   ]
  },
  {
   "cell_type": "code",
   "execution_count": 163,
   "metadata": {},
   "outputs": [],
   "source": [
    "def split_FEBRL_dataset(dataset, n):\n",
    "    indexes = dataset.index.to_series().str.rsplit('-').str[1].astype(int).sort_values()\n",
    "    training_indexes = indexes[:n]\n",
    "    testing_indexes = indexes[n:]\n",
    "    training = dataset[(dataset.index).isin(training_indexes.index)]\n",
    "    testing = dataset[(dataset.index).isin(testing_indexes.index)]\n",
    "    return training, testing"
   ]
  },
  {
   "cell_type": "code",
   "execution_count": 164,
   "metadata": {},
   "outputs": [
    {
     "data": {
      "text/html": [
       "<div>\n",
       "<style scoped>\n",
       "    .dataframe tbody tr th:only-of-type {\n",
       "        vertical-align: middle;\n",
       "    }\n",
       "\n",
       "    .dataframe tbody tr th {\n",
       "        vertical-align: top;\n",
       "    }\n",
       "\n",
       "    .dataframe thead th {\n",
       "        text-align: right;\n",
       "    }\n",
       "</style>\n",
       "<table border=\"1\" class=\"dataframe\">\n",
       "  <thead>\n",
       "    <tr style=\"text-align: right;\">\n",
       "      <th></th>\n",
       "      <th>given_name</th>\n",
       "      <th>surname</th>\n",
       "      <th>street_number</th>\n",
       "      <th>address_1</th>\n",
       "      <th>address_2</th>\n",
       "      <th>suburb</th>\n",
       "      <th>postcode</th>\n",
       "      <th>state</th>\n",
       "      <th>date_of_birth</th>\n",
       "      <th>soc_sec_id</th>\n",
       "    </tr>\n",
       "    <tr>\n",
       "      <th>rec_id</th>\n",
       "      <th></th>\n",
       "      <th></th>\n",
       "      <th></th>\n",
       "      <th></th>\n",
       "      <th></th>\n",
       "      <th></th>\n",
       "      <th></th>\n",
       "      <th></th>\n",
       "      <th></th>\n",
       "      <th></th>\n",
       "    </tr>\n",
       "  </thead>\n",
       "  <tbody>\n",
       "    <tr>\n",
       "      <td>rec-1070-org</td>\n",
       "      <td>michaela</td>\n",
       "      <td>neumann</td>\n",
       "      <td>8</td>\n",
       "      <td>stanley street</td>\n",
       "      <td>miami</td>\n",
       "      <td>winston hills</td>\n",
       "      <td>4223</td>\n",
       "      <td>nsw</td>\n",
       "      <td>19151111</td>\n",
       "      <td>5304218</td>\n",
       "    </tr>\n",
       "    <tr>\n",
       "      <td>rec-1016-org</td>\n",
       "      <td>courtney</td>\n",
       "      <td>painter</td>\n",
       "      <td>12</td>\n",
       "      <td>pinkerton circuit</td>\n",
       "      <td>bega flats</td>\n",
       "      <td>richlands</td>\n",
       "      <td>4560</td>\n",
       "      <td>vic</td>\n",
       "      <td>19161214</td>\n",
       "      <td>4066625</td>\n",
       "    </tr>\n",
       "    <tr>\n",
       "      <td>rec-1288-org</td>\n",
       "      <td>vanessa</td>\n",
       "      <td>parr</td>\n",
       "      <td>905</td>\n",
       "      <td>macquoid place</td>\n",
       "      <td>broadbridge manor</td>\n",
       "      <td>south grafton</td>\n",
       "      <td>2135</td>\n",
       "      <td>sa</td>\n",
       "      <td>19951119</td>\n",
       "      <td>9239102</td>\n",
       "    </tr>\n",
       "    <tr>\n",
       "      <td>rec-3585-org</td>\n",
       "      <td>mikayla</td>\n",
       "      <td>malloney</td>\n",
       "      <td>37</td>\n",
       "      <td>randwick road</td>\n",
       "      <td>avalind</td>\n",
       "      <td>hoppers crossing</td>\n",
       "      <td>4552</td>\n",
       "      <td>vic</td>\n",
       "      <td>19860208</td>\n",
       "      <td>7207688</td>\n",
       "    </tr>\n",
       "    <tr>\n",
       "      <td>rec-298-org</td>\n",
       "      <td>blake</td>\n",
       "      <td>howie</td>\n",
       "      <td>1</td>\n",
       "      <td>cutlack street</td>\n",
       "      <td>belmont park belted galloway stud</td>\n",
       "      <td>budgewoi</td>\n",
       "      <td>6017</td>\n",
       "      <td>vic</td>\n",
       "      <td>19250301</td>\n",
       "      <td>5180548</td>\n",
       "    </tr>\n",
       "    <tr>\n",
       "      <td>...</td>\n",
       "      <td>...</td>\n",
       "      <td>...</td>\n",
       "      <td>...</td>\n",
       "      <td>...</td>\n",
       "      <td>...</td>\n",
       "      <td>...</td>\n",
       "      <td>...</td>\n",
       "      <td>...</td>\n",
       "      <td>...</td>\n",
       "      <td>...</td>\n",
       "    </tr>\n",
       "    <tr>\n",
       "      <td>rec-1622-org</td>\n",
       "      <td>bethanie</td>\n",
       "      <td>menzies</td>\n",
       "      <td>120</td>\n",
       "      <td>archibald street</td>\n",
       "      <td>krismark</td>\n",
       "      <td>belmont</td>\n",
       "      <td>2287</td>\n",
       "      <td>nsw</td>\n",
       "      <td>19871019</td>\n",
       "      <td>8046929</td>\n",
       "    </tr>\n",
       "    <tr>\n",
       "      <td>rec-2153-org</td>\n",
       "      <td>annabel</td>\n",
       "      <td>grierson</td>\n",
       "      <td>97</td>\n",
       "      <td>mclachlan crescent</td>\n",
       "      <td>lantana lodge</td>\n",
       "      <td>broome</td>\n",
       "      <td>2480</td>\n",
       "      <td>nsw</td>\n",
       "      <td>19840224</td>\n",
       "      <td>7676186</td>\n",
       "    </tr>\n",
       "    <tr>\n",
       "      <td>rec-1604-org</td>\n",
       "      <td>sienna</td>\n",
       "      <td>musolino</td>\n",
       "      <td>22</td>\n",
       "      <td>smeaton circuit</td>\n",
       "      <td>pangani</td>\n",
       "      <td>mckinnon</td>\n",
       "      <td>2700</td>\n",
       "      <td>nsw</td>\n",
       "      <td>19890525</td>\n",
       "      <td>4971506</td>\n",
       "    </tr>\n",
       "    <tr>\n",
       "      <td>rec-1003-org</td>\n",
       "      <td>bradley</td>\n",
       "      <td>matthews</td>\n",
       "      <td>2</td>\n",
       "      <td>jondol place</td>\n",
       "      <td>horseshoe ck</td>\n",
       "      <td>jacobs well</td>\n",
       "      <td>7018</td>\n",
       "      <td>sa</td>\n",
       "      <td>19481122</td>\n",
       "      <td>8927667</td>\n",
       "    </tr>\n",
       "    <tr>\n",
       "      <td>rec-66-org</td>\n",
       "      <td>koula</td>\n",
       "      <td>houweling</td>\n",
       "      <td>3</td>\n",
       "      <td>mileham street</td>\n",
       "      <td>old airdmillan road</td>\n",
       "      <td>williamstown</td>\n",
       "      <td>2350</td>\n",
       "      <td>nsw</td>\n",
       "      <td>19440718</td>\n",
       "      <td>6375537</td>\n",
       "    </tr>\n",
       "  </tbody>\n",
       "</table>\n",
       "<p>4000 rows × 10 columns</p>\n",
       "</div>"
      ],
      "text/plain": [
       "             given_name    surname street_number           address_1  \\\n",
       "rec_id                                                                 \n",
       "rec-1070-org   michaela    neumann             8      stanley street   \n",
       "rec-1016-org   courtney    painter            12   pinkerton circuit   \n",
       "rec-1288-org    vanessa       parr           905      macquoid place   \n",
       "rec-3585-org    mikayla   malloney            37       randwick road   \n",
       "rec-298-org       blake      howie             1      cutlack street   \n",
       "...                 ...        ...           ...                 ...   \n",
       "rec-1622-org   bethanie    menzies           120    archibald street   \n",
       "rec-2153-org    annabel   grierson            97  mclachlan crescent   \n",
       "rec-1604-org     sienna   musolino            22     smeaton circuit   \n",
       "rec-1003-org    bradley   matthews             2        jondol place   \n",
       "rec-66-org        koula  houweling             3      mileham street   \n",
       "\n",
       "                                      address_2            suburb postcode  \\\n",
       "rec_id                                                                       \n",
       "rec-1070-org                              miami     winston hills     4223   \n",
       "rec-1016-org                         bega flats         richlands     4560   \n",
       "rec-1288-org                  broadbridge manor     south grafton     2135   \n",
       "rec-3585-org                            avalind  hoppers crossing     4552   \n",
       "rec-298-org   belmont park belted galloway stud          budgewoi     6017   \n",
       "...                                         ...               ...      ...   \n",
       "rec-1622-org                           krismark           belmont     2287   \n",
       "rec-2153-org                      lantana lodge            broome     2480   \n",
       "rec-1604-org                            pangani          mckinnon     2700   \n",
       "rec-1003-org                       horseshoe ck       jacobs well     7018   \n",
       "rec-66-org                  old airdmillan road      williamstown     2350   \n",
       "\n",
       "             state date_of_birth soc_sec_id  \n",
       "rec_id                                       \n",
       "rec-1070-org   nsw      19151111    5304218  \n",
       "rec-1016-org   vic      19161214    4066625  \n",
       "rec-1288-org    sa      19951119    9239102  \n",
       "rec-3585-org   vic      19860208    7207688  \n",
       "rec-298-org    vic      19250301    5180548  \n",
       "...            ...           ...        ...  \n",
       "rec-1622-org   nsw      19871019    8046929  \n",
       "rec-2153-org   nsw      19840224    7676186  \n",
       "rec-1604-org   nsw      19890525    4971506  \n",
       "rec-1003-org    sa      19481122    8927667  \n",
       "rec-66-org     nsw      19440718    6375537  \n",
       "\n",
       "[4000 rows x 10 columns]"
      ]
     },
     "execution_count": 164,
     "metadata": {},
     "output_type": "execute_result"
    }
   ],
   "source": [
    "training_A, testing_A = split_FEBRL_dataset(dfA, 4000)\n",
    "training_A"
   ]
  },
  {
   "cell_type": "code",
   "execution_count": 165,
   "metadata": {},
   "outputs": [
    {
     "data": {
      "text/html": [
       "<div>\n",
       "<style scoped>\n",
       "    .dataframe tbody tr th:only-of-type {\n",
       "        vertical-align: middle;\n",
       "    }\n",
       "\n",
       "    .dataframe tbody tr th {\n",
       "        vertical-align: top;\n",
       "    }\n",
       "\n",
       "    .dataframe thead th {\n",
       "        text-align: right;\n",
       "    }\n",
       "</style>\n",
       "<table border=\"1\" class=\"dataframe\">\n",
       "  <thead>\n",
       "    <tr style=\"text-align: right;\">\n",
       "      <th></th>\n",
       "      <th>given_name</th>\n",
       "      <th>surname</th>\n",
       "      <th>street_number</th>\n",
       "      <th>address_1</th>\n",
       "      <th>address_2</th>\n",
       "      <th>suburb</th>\n",
       "      <th>postcode</th>\n",
       "      <th>state</th>\n",
       "      <th>date_of_birth</th>\n",
       "      <th>soc_sec_id</th>\n",
       "    </tr>\n",
       "    <tr>\n",
       "      <th>rec_id</th>\n",
       "      <th></th>\n",
       "      <th></th>\n",
       "      <th></th>\n",
       "      <th></th>\n",
       "      <th></th>\n",
       "      <th></th>\n",
       "      <th></th>\n",
       "      <th></th>\n",
       "      <th></th>\n",
       "      <th></th>\n",
       "    </tr>\n",
       "  </thead>\n",
       "  <tbody>\n",
       "    <tr>\n",
       "      <td>rec-561-dup-0</td>\n",
       "      <td>elton</td>\n",
       "      <td>NaN</td>\n",
       "      <td>3</td>\n",
       "      <td>light setreet</td>\n",
       "      <td>pinehill</td>\n",
       "      <td>windermere</td>\n",
       "      <td>3212</td>\n",
       "      <td>vic</td>\n",
       "      <td>19651013</td>\n",
       "      <td>1551941</td>\n",
       "    </tr>\n",
       "    <tr>\n",
       "      <td>rec-2642-dup-0</td>\n",
       "      <td>mitchell</td>\n",
       "      <td>maxon</td>\n",
       "      <td>47</td>\n",
       "      <td>edkins street</td>\n",
       "      <td>lochaoair</td>\n",
       "      <td>north ryde</td>\n",
       "      <td>3355</td>\n",
       "      <td>nsw</td>\n",
       "      <td>19390212</td>\n",
       "      <td>8859999</td>\n",
       "    </tr>\n",
       "    <tr>\n",
       "      <td>rec-608-dup-0</td>\n",
       "      <td>NaN</td>\n",
       "      <td>white</td>\n",
       "      <td>72</td>\n",
       "      <td>lambrigg street</td>\n",
       "      <td>kelgoola</td>\n",
       "      <td>broadbeach waters</td>\n",
       "      <td>3159</td>\n",
       "      <td>vic</td>\n",
       "      <td>19620216</td>\n",
       "      <td>9731855</td>\n",
       "    </tr>\n",
       "    <tr>\n",
       "      <td>rec-3239-dup-0</td>\n",
       "      <td>elk i</td>\n",
       "      <td>menzies</td>\n",
       "      <td>1</td>\n",
       "      <td>lyster place</td>\n",
       "      <td>NaN</td>\n",
       "      <td>northwood</td>\n",
       "      <td>2585</td>\n",
       "      <td>vic</td>\n",
       "      <td>19980624</td>\n",
       "      <td>4970481</td>\n",
       "    </tr>\n",
       "    <tr>\n",
       "      <td>rec-2886-dup-0</td>\n",
       "      <td>NaN</td>\n",
       "      <td>garanggar</td>\n",
       "      <td>NaN</td>\n",
       "      <td>may maxwell crescent</td>\n",
       "      <td>springettst arcade</td>\n",
       "      <td>forest hill</td>\n",
       "      <td>2342</td>\n",
       "      <td>vic</td>\n",
       "      <td>19921016</td>\n",
       "      <td>1366884</td>\n",
       "    </tr>\n",
       "    <tr>\n",
       "      <td>...</td>\n",
       "      <td>...</td>\n",
       "      <td>...</td>\n",
       "      <td>...</td>\n",
       "      <td>...</td>\n",
       "      <td>...</td>\n",
       "      <td>...</td>\n",
       "      <td>...</td>\n",
       "      <td>...</td>\n",
       "      <td>...</td>\n",
       "      <td>...</td>\n",
       "    </tr>\n",
       "    <tr>\n",
       "      <td>rec-3152-dup-0</td>\n",
       "      <td>ethan</td>\n",
       "      <td>reuter</td>\n",
       "      <td>NaN</td>\n",
       "      <td>rivers street</td>\n",
       "      <td>haven caravn park</td>\n",
       "      <td>balcllyn</td>\n",
       "      <td>4571</td>\n",
       "      <td>nsw</td>\n",
       "      <td>19391123</td>\n",
       "      <td>3818774</td>\n",
       "    </tr>\n",
       "    <tr>\n",
       "      <td>rec-3363-dup-0</td>\n",
       "      <td>patrick</td>\n",
       "      <td>wevaer</td>\n",
       "      <td>100</td>\n",
       "      <td>allambee street</td>\n",
       "      <td>corcooan</td>\n",
       "      <td>preston</td>\n",
       "      <td>2681</td>\n",
       "      <td>nsw</td>\n",
       "      <td>19770725</td>\n",
       "      <td>5276236</td>\n",
       "    </tr>\n",
       "    <tr>\n",
       "      <td>rec-3131-dup-0</td>\n",
       "      <td>samuel</td>\n",
       "      <td>crofs</td>\n",
       "      <td>613</td>\n",
       "      <td>banjine street</td>\n",
       "      <td>kurrajong vlge</td>\n",
       "      <td>pengzin</td>\n",
       "      <td>2230</td>\n",
       "      <td>qld</td>\n",
       "      <td>19410531</td>\n",
       "      <td>4467228</td>\n",
       "    </tr>\n",
       "    <tr>\n",
       "      <td>rec-3815-dup-0</td>\n",
       "      <td>saah</td>\n",
       "      <td>beattih</td>\n",
       "      <td>60</td>\n",
       "      <td>kay's place</td>\n",
       "      <td>oldershaw court</td>\n",
       "      <td>ashfield</td>\n",
       "      <td>2047</td>\n",
       "      <td>vic</td>\n",
       "      <td>19500712</td>\n",
       "      <td>9435148</td>\n",
       "    </tr>\n",
       "    <tr>\n",
       "      <td>rec-493-dup-0</td>\n",
       "      <td>NaN</td>\n",
       "      <td>blackwell</td>\n",
       "      <td>127</td>\n",
       "      <td>ferrier place</td>\n",
       "      <td>northwood npark</td>\n",
       "      <td>chelsea heights</td>\n",
       "      <td>4211</td>\n",
       "      <td>qld</td>\n",
       "      <td>19570409</td>\n",
       "      <td>8541055</td>\n",
       "    </tr>\n",
       "  </tbody>\n",
       "</table>\n",
       "<p>4000 rows × 10 columns</p>\n",
       "</div>"
      ],
      "text/plain": [
       "               given_name    surname street_number             address_1  \\\n",
       "rec_id                                                                     \n",
       "rec-561-dup-0       elton        NaN             3         light setreet   \n",
       "rec-2642-dup-0   mitchell      maxon            47         edkins street   \n",
       "rec-608-dup-0         NaN      white            72       lambrigg street   \n",
       "rec-3239-dup-0      elk i    menzies             1          lyster place   \n",
       "rec-2886-dup-0        NaN  garanggar           NaN  may maxwell crescent   \n",
       "...                   ...        ...           ...                   ...   \n",
       "rec-3152-dup-0      ethan     reuter           NaN         rivers street   \n",
       "rec-3363-dup-0    patrick     wevaer           100       allambee street   \n",
       "rec-3131-dup-0     samuel      crofs           613        banjine street   \n",
       "rec-3815-dup-0       saah    beattih            60           kay's place   \n",
       "rec-493-dup-0         NaN  blackwell           127         ferrier place   \n",
       "\n",
       "                         address_2             suburb postcode state  \\\n",
       "rec_id                                                                 \n",
       "rec-561-dup-0             pinehill         windermere     3212   vic   \n",
       "rec-2642-dup-0           lochaoair         north ryde     3355   nsw   \n",
       "rec-608-dup-0             kelgoola  broadbeach waters     3159   vic   \n",
       "rec-3239-dup-0                 NaN          northwood     2585   vic   \n",
       "rec-2886-dup-0  springettst arcade        forest hill     2342   vic   \n",
       "...                            ...                ...      ...   ...   \n",
       "rec-3152-dup-0   haven caravn park           balcllyn     4571   nsw   \n",
       "rec-3363-dup-0            corcooan            preston     2681   nsw   \n",
       "rec-3131-dup-0      kurrajong vlge            pengzin     2230   qld   \n",
       "rec-3815-dup-0     oldershaw court           ashfield     2047   vic   \n",
       "rec-493-dup-0      northwood npark    chelsea heights     4211   qld   \n",
       "\n",
       "               date_of_birth soc_sec_id  \n",
       "rec_id                                   \n",
       "rec-561-dup-0       19651013    1551941  \n",
       "rec-2642-dup-0      19390212    8859999  \n",
       "rec-608-dup-0       19620216    9731855  \n",
       "rec-3239-dup-0      19980624    4970481  \n",
       "rec-2886-dup-0      19921016    1366884  \n",
       "...                      ...        ...  \n",
       "rec-3152-dup-0      19391123    3818774  \n",
       "rec-3363-dup-0      19770725    5276236  \n",
       "rec-3131-dup-0      19410531    4467228  \n",
       "rec-3815-dup-0      19500712    9435148  \n",
       "rec-493-dup-0       19570409    8541055  \n",
       "\n",
       "[4000 rows x 10 columns]"
      ]
     },
     "execution_count": 165,
     "metadata": {},
     "output_type": "execute_result"
    }
   ],
   "source": [
    "training_B, testing_B = split_FEBRL_dataset(dfB, 4000)\n",
    "training_B"
   ]
  },
  {
   "cell_type": "markdown",
   "metadata": {},
   "source": [
    "## Indexing\n",
    "Indexing is the process of creating all the possible links between the two datasets. In this specific example, we use a technique called **Blocking**, which groups together all the records that agree on AT LEAST one of the specified attributes. It is also capable of returning each link only once (and not twice) by only looking at the upper triangular matrix of matches."
   ]
  },
  {
   "cell_type": "code",
   "execution_count": 137,
   "metadata": {},
   "outputs": [
    {
     "name": "stdout",
     "output_type": "stream",
     "text": [
      "Build index...\n",
      "INFO:recordlinkage:indexing - initialize Index class\n"
     ]
    },
    {
     "name": "stderr",
     "output_type": "stream",
     "text": [
      "INFO:recordlinkage:indexing - initialize Index class\n"
     ]
    },
    {
     "name": "stdout",
     "output_type": "stream",
     "text": [
      "INFO:recordlinkage:indexing [1/?] - time: 0.50s - pairs: 58048/16000000 - rr: 0.99637\n"
     ]
    },
    {
     "name": "stderr",
     "output_type": "stream",
     "text": [
      "INFO:recordlinkage:indexing [1/?] - time: 0.50s - pairs: 58048/16000000 - rr: 0.99637\n"
     ]
    },
    {
     "name": "stdout",
     "output_type": "stream",
     "text": [
      "INFO:recordlinkage:indexing [1/?] - time: 0.50s - pairs_total: 58048/16000000 - rr_total: 0.99637\n"
     ]
    },
    {
     "name": "stderr",
     "output_type": "stream",
     "text": [
      "INFO:recordlinkage:indexing [1/?] - time: 0.50s - pairs_total: 58048/16000000 - rr_total: 0.99637\n"
     ]
    },
    {
     "name": "stdout",
     "output_type": "stream",
     "text": [
      "58048 candidate links between dataset A and B\n"
     ]
    }
   ],
   "source": [
    "from recordlinkage.index import Block\n",
    "# start indexing\n",
    "print('Build index...')\n",
    "indexer = rl.Index()\n",
    "indexer.add(Block('surname'))\n",
    "# OR\n",
    "indexer.add(Block('date_of_birth'))\n",
    "# OR\n",
    "indexer.add(Block('soc_sec_id'))\n",
    "candidate_links_training = indexer.index(training_A, training_B)\n",
    "print(len(candidate_links_training), 'candidate links between dataset A and B')"
   ]
  },
  {
   "cell_type": "code",
   "execution_count": 138,
   "metadata": {},
   "outputs": [
    {
     "data": {
      "text/plain": [
       "MultiIndex([(  'rec-0-org',    'rec-0-dup-0'),\n",
       "            (  'rec-0-org', 'rec-1505-dup-0'),\n",
       "            (  'rec-0-org', 'rec-1636-dup-0'),\n",
       "            (  'rec-0-org', 'rec-2074-dup-0'),\n",
       "            (  'rec-0-org', 'rec-2683-dup-0'),\n",
       "            (  'rec-0-org', 'rec-2724-dup-0'),\n",
       "            (  'rec-0-org', 'rec-2894-dup-0'),\n",
       "            (  'rec-1-org',    'rec-1-dup-0'),\n",
       "            (  'rec-1-org', 'rec-1052-dup-0'),\n",
       "            (  'rec-1-org', 'rec-2552-dup-0'),\n",
       "            ...\n",
       "            ('rec-999-org', 'rec-3681-dup-0'),\n",
       "            ('rec-999-org', 'rec-3685-dup-0'),\n",
       "            ('rec-999-org',  'rec-370-dup-0'),\n",
       "            ('rec-999-org', 'rec-3766-dup-0'),\n",
       "            ('rec-999-org', 'rec-3862-dup-0'),\n",
       "            ('rec-999-org', 'rec-3913-dup-0'),\n",
       "            ('rec-999-org', 'rec-3940-dup-0'),\n",
       "            ('rec-999-org',  'rec-859-dup-0'),\n",
       "            ('rec-999-org',  'rec-911-dup-0'),\n",
       "            ('rec-999-org',  'rec-999-dup-0')],\n",
       "           names=['rec_id_1', 'rec_id_2'], length=58048)"
      ]
     },
     "execution_count": 138,
     "metadata": {},
     "output_type": "execute_result"
    }
   ],
   "source": [
    "candidate_links_training"
   ]
  },
  {
   "cell_type": "code",
   "execution_count": 49,
   "metadata": {},
   "outputs": [
    {
     "data": {
      "text/plain": [
       "given_name               rachael\n",
       "surname                     dent\n",
       "street_number                  1\n",
       "address_1            knox street\n",
       "address_2        lakewood estate\n",
       "suburb                    byford\n",
       "postcode                    4129\n",
       "state                        vic\n",
       "date_of_birth           19280722\n",
       "soc_sec_id               1683994\n",
       "Name: rec-0-org, dtype: object"
      ]
     },
     "execution_count": 49,
     "metadata": {},
     "output_type": "execute_result"
    }
   ],
   "source": [
    "dfA.loc[candidate_links[0][0]]"
   ]
  },
  {
   "cell_type": "code",
   "execution_count": 50,
   "metadata": {},
   "outputs": [
    {
     "data": {
      "text/plain": [
       "given_name               rachael\n",
       "surname                     dent\n",
       "street_number                  4\n",
       "address_1            knox street\n",
       "address_2        lakewood estate\n",
       "suburb                    byford\n",
       "postcode                    4129\n",
       "state                        vic\n",
       "date_of_birth           19280722\n",
       "soc_sec_id               1683994\n",
       "Name: rec-0-dup-0, dtype: object"
      ]
     },
     "execution_count": 50,
     "metadata": {},
     "output_type": "execute_result"
    }
   ],
   "source": [
    "dfB.loc[candidate_links[0][1]]"
   ]
  },
  {
   "cell_type": "code",
   "execution_count": 51,
   "metadata": {},
   "outputs": [
    {
     "data": {
      "text/plain": [
       "given_name                  emiily\n",
       "surname                       dent\n",
       "street_number                   27\n",
       "address_1        gungurra crescent\n",
       "address_2                 redlands\n",
       "suburb                     whyalla\n",
       "postcode                      3775\n",
       "state                          nsw\n",
       "date_of_birth             19960112\n",
       "soc_sec_id                 9836985\n",
       "Name: rec-1505-dup-0, dtype: object"
      ]
     },
     "execution_count": 51,
     "metadata": {},
     "output_type": "execute_result"
    }
   ],
   "source": [
    "dfB.loc[candidate_links[1][1]]"
   ]
  },
  {
   "cell_type": "markdown",
   "metadata": {},
   "source": [
    "## Comparison (aka \"the classic approach\")\n",
    "**Comparison** refers to the process of evaluating all the possible links in order to figure out the best ones. In order to compare attributes, we need to specify (for each attribute):\n",
    "* A **metric** to be used\n",
    "* A **threshold** to decide under which circumstances the metric shall return true (= a match) or false (= not a match)\n",
    "\n",
    "We decided not to use exact matches on strings as input errors (e.g. by an employee) might be common, therefore it would be too strict of a restriction."
   ]
  },
  {
   "cell_type": "code",
   "execution_count": 140,
   "metadata": {},
   "outputs": [
    {
     "name": "stdout",
     "output_type": "stream",
     "text": [
      "Start comparing...\n",
      "INFO:recordlinkage:comparing - initialize Compare class\n"
     ]
    },
    {
     "name": "stderr",
     "output_type": "stream",
     "text": [
      "INFO:recordlinkage:comparing - initialize Compare class\n"
     ]
    },
    {
     "name": "stdout",
     "output_type": "stream",
     "text": [
      "INFO:recordlinkage:comparing [1/?] - time: 21.84s - pairs: 58048\n"
     ]
    },
    {
     "name": "stderr",
     "output_type": "stream",
     "text": [
      "INFO:recordlinkage:comparing [1/?] - time: 21.84s - pairs: 58048\n"
     ]
    },
    {
     "name": "stdout",
     "output_type": "stream",
     "text": [
      "INFO:recordlinkage:comparing [1/?] - time: 21.84s - pairs_total: 58048\n"
     ]
    },
    {
     "name": "stderr",
     "output_type": "stream",
     "text": [
      "INFO:recordlinkage:comparing [1/?] - time: 21.84s - pairs_total: 58048\n"
     ]
    },
    {
     "name": "stdout",
     "output_type": "stream",
     "text": [
      "feature shape (58048, 7)\n"
     ]
    }
   ],
   "source": [
    "from recordlinkage.compare import Exact, String\n",
    "# start comparing\n",
    "print('Start comparing...')\n",
    "comparer = rl.Compare()\n",
    "comparer.add(String('given_name', 'given_name', method='jarowinkler',\n",
    "                    threshold=0.85, label='given_name'))\n",
    "comparer.add(String('surname', 'surname', method='jarowinkler',\n",
    "                    threshold=0.85, label='surname'))\n",
    "comparer.add(String('date_of_birth', 'date_of_birth', method='jarowinkler',\n",
    "                    threshold=0.85, label='date_of_birth'))\n",
    "comparer.add(String('suburb', 'suburb', method='jarowinkler', \n",
    "                    threshold=0.85, label='suburb'))\n",
    "comparer.add(String('state', 'state', method='jarowinkler', \n",
    "                    threshold=0.85, label='state'))\n",
    "comparer.add(String('address_1', 'address_1', \n",
    "                    threshold=0.85, label='address_1'))\n",
    "comparer.add(String('address_2', 'address_2', \n",
    "                    threshold=0.85, label='address_2'))\n",
    "features_training = comparer.compute(candidate_links_training, training_A, training_B)\n",
    "\n",
    "print('feature shape', features_training.shape)"
   ]
  },
  {
   "cell_type": "code",
   "execution_count": 141,
   "metadata": {},
   "outputs": [
    {
     "data": {
      "text/plain": [
       "(58048, 7)"
      ]
     },
     "execution_count": 141,
     "metadata": {},
     "output_type": "execute_result"
    }
   ],
   "source": [
    "features_training.shape"
   ]
  },
  {
   "cell_type": "code",
   "execution_count": 54,
   "metadata": {},
   "outputs": [
    {
     "data": {
      "text/plain": [
       "7.0     1725\n",
       "6.0     1890\n",
       "5.0     1004\n",
       "4.0      310\n",
       "3.0      995\n",
       "2.0    20206\n",
       "1.0    61002\n",
       "dtype: int64"
      ]
     },
     "execution_count": 54,
     "metadata": {},
     "output_type": "execute_result"
    }
   ],
   "source": [
    "# Sum the comparison results.\n",
    "features.sum(axis=1).value_counts().sort_index(ascending=False)"
   ]
  },
  {
   "cell_type": "code",
   "execution_count": 55,
   "metadata": {},
   "outputs": [
    {
     "name": "stdout",
     "output_type": "stream",
     "text": [
      "4929\n"
     ]
    }
   ],
   "source": [
    "# no ML\n",
    "matches = features[features.sum(axis=1) > 3]\n",
    "print(len(matches))"
   ]
  },
  {
   "cell_type": "code",
   "execution_count": 56,
   "metadata": {},
   "outputs": [
    {
     "data": {
      "text/html": [
       "<div>\n",
       "<style scoped>\n",
       "    .dataframe tbody tr th:only-of-type {\n",
       "        vertical-align: middle;\n",
       "    }\n",
       "\n",
       "    .dataframe tbody tr th {\n",
       "        vertical-align: top;\n",
       "    }\n",
       "\n",
       "    .dataframe thead th {\n",
       "        text-align: right;\n",
       "    }\n",
       "</style>\n",
       "<table border=\"1\" class=\"dataframe\">\n",
       "  <thead>\n",
       "    <tr style=\"text-align: right;\">\n",
       "      <th></th>\n",
       "      <th></th>\n",
       "      <th>given_name</th>\n",
       "      <th>surname</th>\n",
       "      <th>date_of_birth</th>\n",
       "      <th>suburb</th>\n",
       "      <th>state</th>\n",
       "      <th>address_1</th>\n",
       "      <th>address_2</th>\n",
       "    </tr>\n",
       "    <tr>\n",
       "      <th>rec_id_1</th>\n",
       "      <th>rec_id_2</th>\n",
       "      <th></th>\n",
       "      <th></th>\n",
       "      <th></th>\n",
       "      <th></th>\n",
       "      <th></th>\n",
       "      <th></th>\n",
       "      <th></th>\n",
       "    </tr>\n",
       "  </thead>\n",
       "  <tbody>\n",
       "    <tr>\n",
       "      <td>rec-0-org</td>\n",
       "      <td>rec-0-dup-0</td>\n",
       "      <td>1.0</td>\n",
       "      <td>1.0</td>\n",
       "      <td>1.0</td>\n",
       "      <td>1.0</td>\n",
       "      <td>1.0</td>\n",
       "      <td>1.0</td>\n",
       "      <td>1.0</td>\n",
       "    </tr>\n",
       "    <tr>\n",
       "      <td>rec-1-org</td>\n",
       "      <td>rec-1-dup-0</td>\n",
       "      <td>1.0</td>\n",
       "      <td>1.0</td>\n",
       "      <td>1.0</td>\n",
       "      <td>1.0</td>\n",
       "      <td>1.0</td>\n",
       "      <td>1.0</td>\n",
       "      <td>1.0</td>\n",
       "    </tr>\n",
       "    <tr>\n",
       "      <td>rec-10-org</td>\n",
       "      <td>rec-10-dup-0</td>\n",
       "      <td>1.0</td>\n",
       "      <td>1.0</td>\n",
       "      <td>1.0</td>\n",
       "      <td>1.0</td>\n",
       "      <td>1.0</td>\n",
       "      <td>1.0</td>\n",
       "      <td>1.0</td>\n",
       "    </tr>\n",
       "    <tr>\n",
       "      <td>rec-100-org</td>\n",
       "      <td>rec-100-dup-0</td>\n",
       "      <td>1.0</td>\n",
       "      <td>1.0</td>\n",
       "      <td>0.0</td>\n",
       "      <td>1.0</td>\n",
       "      <td>1.0</td>\n",
       "      <td>1.0</td>\n",
       "      <td>1.0</td>\n",
       "    </tr>\n",
       "    <tr>\n",
       "      <td>rec-1000-org</td>\n",
       "      <td>rec-1000-dup-0</td>\n",
       "      <td>1.0</td>\n",
       "      <td>1.0</td>\n",
       "      <td>1.0</td>\n",
       "      <td>1.0</td>\n",
       "      <td>1.0</td>\n",
       "      <td>1.0</td>\n",
       "      <td>1.0</td>\n",
       "    </tr>\n",
       "    <tr>\n",
       "      <td>...</td>\n",
       "      <td>...</td>\n",
       "      <td>...</td>\n",
       "      <td>...</td>\n",
       "      <td>...</td>\n",
       "      <td>...</td>\n",
       "      <td>...</td>\n",
       "      <td>...</td>\n",
       "      <td>...</td>\n",
       "    </tr>\n",
       "    <tr>\n",
       "      <td>rec-995-org</td>\n",
       "      <td>rec-995-dup-0</td>\n",
       "      <td>1.0</td>\n",
       "      <td>1.0</td>\n",
       "      <td>1.0</td>\n",
       "      <td>1.0</td>\n",
       "      <td>1.0</td>\n",
       "      <td>1.0</td>\n",
       "      <td>0.0</td>\n",
       "    </tr>\n",
       "    <tr>\n",
       "      <td>rec-996-org</td>\n",
       "      <td>rec-996-dup-0</td>\n",
       "      <td>1.0</td>\n",
       "      <td>1.0</td>\n",
       "      <td>1.0</td>\n",
       "      <td>1.0</td>\n",
       "      <td>1.0</td>\n",
       "      <td>1.0</td>\n",
       "      <td>0.0</td>\n",
       "    </tr>\n",
       "    <tr>\n",
       "      <td>rec-997-org</td>\n",
       "      <td>rec-997-dup-0</td>\n",
       "      <td>1.0</td>\n",
       "      <td>1.0</td>\n",
       "      <td>1.0</td>\n",
       "      <td>1.0</td>\n",
       "      <td>1.0</td>\n",
       "      <td>1.0</td>\n",
       "      <td>1.0</td>\n",
       "    </tr>\n",
       "    <tr>\n",
       "      <td>rec-998-org</td>\n",
       "      <td>rec-998-dup-0</td>\n",
       "      <td>1.0</td>\n",
       "      <td>1.0</td>\n",
       "      <td>1.0</td>\n",
       "      <td>1.0</td>\n",
       "      <td>1.0</td>\n",
       "      <td>1.0</td>\n",
       "      <td>1.0</td>\n",
       "    </tr>\n",
       "    <tr>\n",
       "      <td>rec-999-org</td>\n",
       "      <td>rec-999-dup-0</td>\n",
       "      <td>1.0</td>\n",
       "      <td>1.0</td>\n",
       "      <td>1.0</td>\n",
       "      <td>1.0</td>\n",
       "      <td>1.0</td>\n",
       "      <td>1.0</td>\n",
       "      <td>1.0</td>\n",
       "    </tr>\n",
       "  </tbody>\n",
       "</table>\n",
       "<p>4929 rows × 7 columns</p>\n",
       "</div>"
      ],
      "text/plain": [
       "                             given_name  surname  date_of_birth  suburb  \\\n",
       "rec_id_1     rec_id_2                                                     \n",
       "rec-0-org    rec-0-dup-0            1.0      1.0            1.0     1.0   \n",
       "rec-1-org    rec-1-dup-0            1.0      1.0            1.0     1.0   \n",
       "rec-10-org   rec-10-dup-0           1.0      1.0            1.0     1.0   \n",
       "rec-100-org  rec-100-dup-0          1.0      1.0            0.0     1.0   \n",
       "rec-1000-org rec-1000-dup-0         1.0      1.0            1.0     1.0   \n",
       "...                                 ...      ...            ...     ...   \n",
       "rec-995-org  rec-995-dup-0          1.0      1.0            1.0     1.0   \n",
       "rec-996-org  rec-996-dup-0          1.0      1.0            1.0     1.0   \n",
       "rec-997-org  rec-997-dup-0          1.0      1.0            1.0     1.0   \n",
       "rec-998-org  rec-998-dup-0          1.0      1.0            1.0     1.0   \n",
       "rec-999-org  rec-999-dup-0          1.0      1.0            1.0     1.0   \n",
       "\n",
       "                             state  address_1  address_2  \n",
       "rec_id_1     rec_id_2                                     \n",
       "rec-0-org    rec-0-dup-0       1.0        1.0        1.0  \n",
       "rec-1-org    rec-1-dup-0       1.0        1.0        1.0  \n",
       "rec-10-org   rec-10-dup-0      1.0        1.0        1.0  \n",
       "rec-100-org  rec-100-dup-0     1.0        1.0        1.0  \n",
       "rec-1000-org rec-1000-dup-0    1.0        1.0        1.0  \n",
       "...                            ...        ...        ...  \n",
       "rec-995-org  rec-995-dup-0     1.0        1.0        0.0  \n",
       "rec-996-org  rec-996-dup-0     1.0        1.0        0.0  \n",
       "rec-997-org  rec-997-dup-0     1.0        1.0        1.0  \n",
       "rec-998-org  rec-998-dup-0     1.0        1.0        1.0  \n",
       "rec-999-org  rec-999-dup-0     1.0        1.0        1.0  \n",
       "\n",
       "[4929 rows x 7 columns]"
      ]
     },
     "execution_count": 56,
     "metadata": {},
     "output_type": "execute_result"
    }
   ],
   "source": [
    "matches"
   ]
  },
  {
   "cell_type": "code",
   "execution_count": 57,
   "metadata": {},
   "outputs": [
    {
     "name": "stdout",
     "output_type": "stream",
     "text": [
      "confusion matrix\n",
      "[[ 4918    82]\n",
      " [   11 82121]]\n"
     ]
    }
   ],
   "source": [
    "# return the confusion matrix\n",
    "conf_noml = rl.confusion_matrix(true_links, matches, len(candidate_links))\n",
    "print('confusion matrix')\n",
    "print(conf_noml)"
   ]
  },
  {
   "cell_type": "code",
   "execution_count": 58,
   "metadata": {},
   "outputs": [
    {
     "name": "stdout",
     "output_type": "stream",
     "text": [
      "fscore 0.9906334978346258\n",
      "recall 0.9836\n",
      "precision 0.9977683100020288\n"
     ]
    }
   ],
   "source": [
    "# compute the F-score for this classification\n",
    "fscore = rl.fscore(conf_noml)\n",
    "print('fscore', fscore)\n",
    "recall = rl.recall(true_links, matches)\n",
    "print('recall', recall)\n",
    "precision = rl.precision(true_links, matches)\n",
    "print('precision', precision)"
   ]
  },
  {
   "cell_type": "markdown",
   "metadata": {},
   "source": [
    "## Logistic Regression Classifier"
   ]
  },
  {
   "cell_type": "code",
   "execution_count": 59,
   "metadata": {},
   "outputs": [
    {
     "name": "stdout",
     "output_type": "stream",
     "text": [
      "Deterministic classifier\n",
      "intercept -11.0\n",
      "coefficients [1.5, 1.5, 8.0, 6.0, 2.5, 6.5, 5.0]\n"
     ]
    }
   ],
   "source": [
    "# use the Logistic Regression Classifier\n",
    "# this classifier is equivalent to the deterministic record linkage approach\n",
    "intercept = -11.0\n",
    "coefficients = [1.5, 1.5, 8.0, 6.0, 2.5, 6.5, 5.0]\n",
    "\n",
    "print('Deterministic classifier')\n",
    "print('intercept', intercept)\n",
    "print('coefficients', coefficients)"
   ]
  },
  {
   "cell_type": "code",
   "execution_count": 60,
   "metadata": {},
   "outputs": [
    {
     "name": "stdout",
     "output_type": "stream",
     "text": [
      "INFO:recordlinkage:Classification - predict matches and non-matches\n"
     ]
    },
    {
     "name": "stderr",
     "output_type": "stream",
     "text": [
      "INFO:recordlinkage:Classification - predict matches and non-matches\n"
     ]
    },
    {
     "name": "stdout",
     "output_type": "stream",
     "text": [
      "5735 matches\n"
     ]
    }
   ],
   "source": [
    "logreg = rl.LogisticRegressionClassifier(\n",
    "    coefficients=coefficients, intercept=intercept)\n",
    "links = logreg.predict(features)\n",
    "\n",
    "print(len(links), 'matches')"
   ]
  },
  {
   "cell_type": "code",
   "execution_count": 61,
   "metadata": {},
   "outputs": [
    {
     "name": "stdout",
     "output_type": "stream",
     "text": [
      "confusion matrix\n",
      "[[ 4973    27]\n",
      " [  762 81370]]\n"
     ]
    }
   ],
   "source": [
    "# return the confusion matrix\n",
    "conf_logreg = rl.confusion_matrix(true_links, links, len(candidate_links))\n",
    "print('confusion matrix')\n",
    "print(conf_logreg)"
   ]
  },
  {
   "cell_type": "code",
   "execution_count": 62,
   "metadata": {},
   "outputs": [
    {
     "name": "stdout",
     "output_type": "stream",
     "text": [
      "fscore 0.9265020959478342\n",
      "recall 0.9946\n",
      "precision 0.8671316477768091\n"
     ]
    }
   ],
   "source": [
    "# compute the F-score for this classification\n",
    "fscore = rl.fscore(conf_logreg)\n",
    "print('fscore', fscore)\n",
    "recall = rl.recall(true_links, links)\n",
    "print('recall', recall)\n",
    "precision = rl.precision(true_links, links)\n",
    "print('precision', precision)"
   ]
  },
  {
   "cell_type": "code",
   "execution_count": 63,
   "metadata": {},
   "outputs": [
    {
     "name": "stdout",
     "output_type": "stream",
     "text": [
      "INFO:recordlinkage:Classification - compute probabilities\n"
     ]
    },
    {
     "name": "stderr",
     "output_type": "stream",
     "text": [
      "INFO:recordlinkage:Classification - compute probabilities\n"
     ]
    },
    {
     "name": "stdout",
     "output_type": "stream",
     "text": [
      "rec_id_1     rec_id_2      \n",
      "rec-0-org    rec-0-dup-0       1.000000\n",
      "             rec-1505-dup-0    0.000075\n",
      "             rec-1636-dup-0    0.000075\n",
      "             rec-2074-dup-0    0.000911\n",
      "             rec-2683-dup-0    0.000075\n",
      "                                 ...   \n",
      "rec-999-org  rec-3940-dup-0    0.000075\n",
      "             rec-4941-dup-0    0.000075\n",
      "             rec-859-dup-0     0.000075\n",
      "             rec-911-dup-0     0.000911\n",
      "             rec-999-dup-0     1.000000\n",
      "Length: 87132, dtype: float64\n"
     ]
    }
   ],
   "source": [
    "# Predict the match probability for each pair in the dataset.\n",
    "probs = logreg.prob(features)\n",
    "print(probs)"
   ]
  },
  {
   "cell_type": "markdown",
   "metadata": {},
   "source": [
    "## Naive Bayes"
   ]
  },
  {
   "cell_type": "code",
   "execution_count": 145,
   "metadata": {},
   "outputs": [
    {
     "name": "stdout",
     "output_type": "stream",
     "text": [
      "INFO:recordlinkage:Classification - start training NaiveBayesClassifier\n"
     ]
    },
    {
     "name": "stderr",
     "output_type": "stream",
     "text": [
      "INFO:recordlinkage:Classification - start training NaiveBayesClassifier\n"
     ]
    },
    {
     "name": "stdout",
     "output_type": "stream",
     "text": [
      "INFO:recordlinkage:Classification - training computation time: ~0.26s\n"
     ]
    },
    {
     "name": "stderr",
     "output_type": "stream",
     "text": [
      "INFO:recordlinkage:Classification - training computation time: ~0.26s\n"
     ]
    }
   ],
   "source": [
    "# Initialise the NaiveBayesClassifier.\n",
    "cl = rl.NaiveBayesClassifier()\n",
    "true_links_training = true_links[:4000]\n",
    "true_links_testing = true_links[4000:]\n",
    "cl.fit(features_training, true_links_training)"
   ]
  },
  {
   "cell_type": "code",
   "execution_count": 146,
   "metadata": {},
   "outputs": [
    {
     "name": "stdout",
     "output_type": "stream",
     "text": [
      "p probability P(Match): 0.06878789966923929\n",
      "m probabilities P(x_i=1|Match): {'given_name': {0.0: 0.202855011126721, 1.0: 0.7971449888732783}, 'surname': {0.0: 0.1477585951535889, 1.0: 0.8522414048464103}, 'date_of_birth': {0.0: 0.07713500740621045, 1.0: 0.9228649925937881}, 'suburb': {0.0: 0.07463062486197715, 1.0: 0.9253693751380213}, 'state': {0.0: 0.057851261815614195, 1.0: 0.9421487381843849}, 'address_1': {0.0: 0.13849237973992579, 1.0: 0.8615076202600742}, 'address_2': {0.0: 0.3205609907056852, 1.0: 0.6794390092943143}}\n",
      "u probabilities P(x_i=1|Non-Match): {'given_name': {0.0: 0.9943945962653057, 1.0: 0.005605403734694655}, 'surname': {0.0: 0.007399872324854794, 1.0: 0.9926001276751463}, 'date_of_birth': {0.0: 0.9511793526919657, 1.0: 0.048820647308035744}, 'suburb': {0.0: 0.9974100434838232, 1.0: 0.002589956516178129}, 'state': {0.0: 0.7839607796357014, 1.0: 0.2160392203642986}, 'address_1': {0.0: 0.9994265081882288, 1.0: 0.0005734918117713746}, 'address_2': {0.0: 0.9994820072167913, 1.0: 0.0005179927832097209}}\n",
      "log weights of features: {'given_name': {0.0: -1.5896426130611827, 1.0: 4.957305495432609}, 'surname': {0.0: 2.9941170815592573, 1.0: -0.15245806606231405}, 'date_of_birth': {0.0: -2.5121454090712643, 1.0: 2.9393296296399454}, 'suburb': {0.0: -2.592611018819195, 1.0: 5.878551895827069}, 'state': {0.0: -2.606483727870801, 1.0: 1.4727031913119202}, 'address_1': {0.0: -1.9763663184756295, 1.0: 7.314695521426749}, 'address_2': {0.0: -1.1371645951243972, 1.0: 7.179061440197031}}\n",
      "weights of features: {'given_name': {0.0: 0.20399850510913178, 1.0: 142.2100934388273}, 'surname': {0.0: 19.96772223451684, 1.0: 0.8585948974664327}, 'date_of_birth': {0.0: 0.0810940725194549, 1.0: 18.90316993895915}, 'suburb': {0.0: 0.07482441684796166, 1.0: 357.2914716358031}, 'state': {0.0: 0.07379356635991036, 1.0: 4.361007860497163}, 'address_1': {0.0: 0.138571849560991, 1.0: 1502.2143343234316}, 'address_2': {0.0: 0.32072712504183615, 1.0: 1311.6765934154498}}\n"
     ]
    }
   ],
   "source": [
    "# Print the parameters that are trained (m, u and p). Note that the estimates\n",
    "# are very good.\n",
    "print(\"p probability P(Match):\", cl.p)\n",
    "print(\"m probabilities P(x_i=1|Match):\", cl.m_probs)\n",
    "print(\"u probabilities P(x_i=1|Non-Match):\", cl.u_probs)\n",
    "print(\"log weights of features:\", cl.log_weights)\n",
    "print(\"weights of features:\", cl.weights)"
   ]
  },
  {
   "cell_type": "code",
   "execution_count": 153,
   "metadata": {},
   "outputs": [
    {
     "name": "stdout",
     "output_type": "stream",
     "text": [
      "Build index...\n",
      "INFO:recordlinkage:indexing - initialize Index class\n"
     ]
    },
    {
     "name": "stderr",
     "output_type": "stream",
     "text": [
      "INFO:recordlinkage:indexing - initialize Index class\n"
     ]
    },
    {
     "name": "stdout",
     "output_type": "stream",
     "text": [
      "INFO:recordlinkage:indexing [1/?] - time: 0.08s - pairs: 3985/1000000 - rr: 0.99601\n"
     ]
    },
    {
     "name": "stderr",
     "output_type": "stream",
     "text": [
      "INFO:recordlinkage:indexing [1/?] - time: 0.08s - pairs: 3985/1000000 - rr: 0.99601\n"
     ]
    },
    {
     "name": "stdout",
     "output_type": "stream",
     "text": [
      "INFO:recordlinkage:indexing [1/?] - time: 0.08s - pairs_total: 3985/1000000 - rr_total: 0.99601\n"
     ]
    },
    {
     "name": "stderr",
     "output_type": "stream",
     "text": [
      "INFO:recordlinkage:indexing [1/?] - time: 0.08s - pairs_total: 3985/1000000 - rr_total: 0.99601\n"
     ]
    },
    {
     "name": "stdout",
     "output_type": "stream",
     "text": [
      "3985\n",
      "Start comparing...\n",
      "INFO:recordlinkage:comparing - initialize Compare class\n"
     ]
    },
    {
     "name": "stderr",
     "output_type": "stream",
     "text": [
      "INFO:recordlinkage:comparing - initialize Compare class\n"
     ]
    },
    {
     "name": "stdout",
     "output_type": "stream",
     "text": [
      "INFO:recordlinkage:comparing [1/?] - time: 1.50s - pairs: 3985\n"
     ]
    },
    {
     "name": "stderr",
     "output_type": "stream",
     "text": [
      "INFO:recordlinkage:comparing [1/?] - time: 1.50s - pairs: 3985\n"
     ]
    },
    {
     "name": "stdout",
     "output_type": "stream",
     "text": [
      "INFO:recordlinkage:comparing [1/?] - time: 1.50s - pairs_total: 3985\n"
     ]
    },
    {
     "name": "stderr",
     "output_type": "stream",
     "text": [
      "INFO:recordlinkage:comparing [1/?] - time: 1.50s - pairs_total: 3985\n"
     ]
    },
    {
     "name": "stdout",
     "output_type": "stream",
     "text": [
      "INFO:recordlinkage:Classification - predict matches and non-matches\n"
     ]
    },
    {
     "name": "stderr",
     "output_type": "stream",
     "text": [
      "INFO:recordlinkage:Classification - predict matches and non-matches\n"
     ]
    },
    {
     "name": "stdout",
     "output_type": "stream",
     "text": [
      "Predicted number of links: 996\n"
     ]
    }
   ],
   "source": [
    "# evaluate the model\n",
    "\n",
    "print('Build index...')\n",
    "indexer = rl.Index()\n",
    "indexer.add(Block('surname'))\n",
    "# OR\n",
    "indexer.add(Block('date_of_birth'))\n",
    "# OR\n",
    "indexer.add(Block('soc_sec_id'))\n",
    "candidate_links_testing = indexer.index(testing_A, testing_B)\n",
    "print(len(candidate_links_testing))\n",
    "\n",
    "# start comparing\n",
    "print('Start comparing...')\n",
    "comparer = rl.Compare()\n",
    "comparer.add(String('given_name', 'given_name', method='jarowinkler',\n",
    "                    threshold=0.85, label='given_name'))\n",
    "comparer.add(String('surname', 'surname', method='jarowinkler',\n",
    "                    threshold=0.85, label='surname'))\n",
    "comparer.add(String('date_of_birth', 'date_of_birth', method='jarowinkler',\n",
    "                    threshold=0.85, label='date_of_birth'))\n",
    "comparer.add(String('suburb', 'suburb', method='jarowinkler', \n",
    "                    threshold=0.85, label='suburb'))\n",
    "comparer.add(String('state', 'state', method='jarowinkler', \n",
    "                    threshold=0.85, label='state'))\n",
    "comparer.add(String('address_1', 'address_1', \n",
    "                    threshold=0.85, label='address_1'))\n",
    "comparer.add(String('address_2', 'address_2', \n",
    "                    threshold=0.85, label='address_2'))\n",
    "features_testing = comparer.compute(candidate_links_testing, testing_A, testing_B)\n",
    "\n",
    "testing_links = cl.predict(features_testing)\n",
    "print(\"Predicted number of links:\", len(testing_links))"
   ]
  },
  {
   "cell_type": "code",
   "execution_count": 155,
   "metadata": {},
   "outputs": [
    {
     "name": "stdout",
     "output_type": "stream",
     "text": [
      "Confusion matrix:\n",
      " [[ 995    5]\n",
      " [   1 2984]]\n",
      "3985\n"
     ]
    }
   ],
   "source": [
    "cm = rl.confusion_matrix(true_links_testing, testing_links, len(candidate_links_testing))\n",
    "print(\"Confusion matrix:\\n\", cm)\n",
    "print(sum(sum(cm)))"
   ]
  },
  {
   "cell_type": "code",
   "execution_count": 150,
   "metadata": {},
   "outputs": [
    {
     "name": "stdout",
     "output_type": "stream",
     "text": [
      "fscore 0.9969939879759518\n",
      "recall 0.995\n",
      "precision 0.998995983935743\n"
     ]
    }
   ],
   "source": [
    "# compute the F-score for this classification\n",
    "fscore = rl.fscore(cm)\n",
    "print('fscore', fscore)\n",
    "recall = rl.recall(true_links_testing, links)\n",
    "print('recall', recall)\n",
    "precision = rl.precision(true_links_testing, links)\n",
    "print('precision', precision)"
   ]
  },
  {
   "cell_type": "code",
   "execution_count": 31,
   "metadata": {},
   "outputs": [
    {
     "name": "stdout",
     "output_type": "stream",
     "text": [
      "INFO:recordlinkage:Classification - compute probabilities\n"
     ]
    },
    {
     "data": {
      "text/plain": [
       "rec_id_1     rec_id_2      \n",
       "rec-0-org    rec-0-dup-0       1.000000e+00\n",
       "             rec-1505-dup-0    2.257802e-07\n",
       "             rec-1636-dup-0    2.257802e-07\n",
       "             rec-2074-dup-0    1.297394e-05\n",
       "             rec-2683-dup-0    2.257802e-07\n",
       "                                   ...     \n",
       "rec-999-org  rec-3940-dup-0    2.257802e-07\n",
       "             rec-4941-dup-0    2.257802e-07\n",
       "             rec-859-dup-0     2.257802e-07\n",
       "             rec-911-dup-0     1.297394e-05\n",
       "             rec-999-dup-0     1.000000e+00\n",
       "Length: 87132, dtype: float64"
      ]
     },
     "execution_count": 31,
     "metadata": {},
     "output_type": "execute_result"
    }
   ],
   "source": [
    "# Predict the match probability for each pair in the dataset.\n",
    "probs = cl.prob(features)\n",
    "probs"
   ]
  },
  {
   "cell_type": "markdown",
   "metadata": {},
   "source": [
    "## Expectation-Conditional Maximisation"
   ]
  },
  {
   "cell_type": "code",
   "execution_count": 32,
   "metadata": {},
   "outputs": [],
   "source": [
    "'''\n",
    "Example: Unsupervised learning with the ECM algorithm.\n",
    "Train data is often hard to collect in record linkage or data matching\n",
    "problems. The Expectation-Conditional Maximisation (ECM) algorithm is the most\n",
    "well known algorithm for unsupervised data matching. The algorithm preforms\n",
    "relatively well compared to supervised methods.\n",
    "'''\n",
    "import numpy as np"
   ]
  },
  {
   "cell_type": "code",
   "execution_count": 33,
   "metadata": {},
   "outputs": [
    {
     "name": "stdout",
     "output_type": "stream",
     "text": [
      "INFO:recordlinkage:Classification - start training ECMClassifier\n",
      "INFO:recordlinkage:Classification - training computation time: ~0.33s\n"
     ]
    },
    {
     "name": "stderr",
     "output_type": "stream",
     "text": [
      "INFO:recordlinkage:Classification - training computation time: ~0.33s\n"
     ]
    }
   ],
   "source": [
    "# Initialise the Expectation-Conditional Maximisation classifier.\n",
    "cl = rl.ECMClassifier()\n",
    "cl.fit(features)"
   ]
  },
  {
   "cell_type": "code",
   "execution_count": 34,
   "metadata": {},
   "outputs": [
    {
     "name": "stdout",
     "output_type": "stream",
     "text": [
      "p probability P(Match): 0.05746886445320084\n",
      "m probabilities P(x_i=1|Match): {'given_name': {0.0: 0.2067585108551402, 1.0: 0.7932414891448585}, 'surname': {0.0: 0.1483757226825982, 1.0: 0.8516242773174004}, 'date_of_birth': {0.0: 0.07938649755546, 1.0: 0.9206135024445387}, 'suburb': {0.0: 0.07765753195188282, 1.0: 0.9223424680481159}, 'state': {0.0: 0.05977818622152173, 1.0: 0.9402218137784779}, 'address_1': {0.0: 0.1439501610395507, 1.0: 0.8560498389604491}, 'address_2': {0.0: 0.3164559283945158, 1.0: 0.6835440716054837}}\n",
      "u probabilities P(x_i=1|Non-Match): {'given_name': {0.0: 0.9941437693417281, 1.0: 0.005856230658272183}, 'surname': {0.0: 0.007574181559987423, 1.0: 0.9924258184400123}, 'date_of_birth': {0.0: 0.950804753928978, 1.0: 0.049195246071021416}, 'suburb': {0.0: 0.9978632054162465, 1.0: 0.002136794583753248}, 'state': {0.0: 0.7819660634016198, 1.0: 0.21803393659837952}, 'address_1': {0.0: 0.9994102177845318, 1.0: 0.0005897822154671389}, 'address_2': {0.0: 0.9995344018720016, 1.0: 0.00046559812799880644}}\n",
      "log weights of features: {'given_name': {0.0: -1.5703303353474407, 1.0: 4.908621537060616}, 'surname': {0.0: 2.9750024228953116, 1.0: -0.15300682714112313}, 'date_of_birth': {0.0: -2.4829804375834836, 1.0: 2.929243304023222}, 'suburb': {0.0: -2.553307654568452, 1.0: 6.067609746925244}, 'state': {0.0: -2.571170526914738, 1.0: 1.461465096388757}, 'address_1': {0.0: -1.9376981870005077, 1.0: 7.280330534084628}, 'address_2': {0.0: -1.150105587319957, 1.0: 7.29172353658517}}\n",
      "weights of features: {'given_name': {0.0: 0.20797646902926853, 1.0: 135.4525693116903}, 'surname': {0.0: 19.589670713259817, 1.0: 0.8581238632586796}, 'date_of_birth': {0.0: 0.08349400571191286, 1.0: 18.713464734285136}, 'suburb': {0.0: 0.07782382548065686, 1.0: 431.64770028012475}, 'state': {0.0: 0.07644601091955508, 1.0: 4.312272797745128}, 'address_1': {0.0: 0.14403511038605937, 1.0: 1451.4677053841172}, 'address_2': {0.0: 0.31660333831615384, 1.0: 1468.0988399662035}}\n"
     ]
    }
   ],
   "source": [
    "# Print the parameters that are trained (m, u and p). Note that the estimates\n",
    "# are very good.\n",
    "print(\"p probability P(Match):\", cl.p)\n",
    "print(\"m probabilities P(x_i=1|Match):\", cl.m_probs)\n",
    "print(\"u probabilities P(x_i=1|Non-Match):\", cl.u_probs)\n",
    "print(\"log weights of features:\", cl.log_weights)\n",
    "print(\"weights of features:\", cl.weights)"
   ]
  },
  {
   "cell_type": "code",
   "execution_count": 35,
   "metadata": {},
   "outputs": [
    {
     "name": "stdout",
     "output_type": "stream",
     "text": [
      "INFO:recordlinkage:Classification - predict matches and non-matches\n"
     ]
    },
    {
     "name": "stderr",
     "output_type": "stream",
     "text": [
      "INFO:recordlinkage:Classification - predict matches and non-matches\n"
     ]
    },
    {
     "name": "stdout",
     "output_type": "stream",
     "text": [
      "Predicted number of links: 4991\n"
     ]
    }
   ],
   "source": [
    "# evaluate the model\n",
    "links = cl.predict(features)\n",
    "print(\"Predicted number of links:\", len(links))"
   ]
  },
  {
   "cell_type": "code",
   "execution_count": 36,
   "metadata": {},
   "outputs": [
    {
     "name": "stdout",
     "output_type": "stream",
     "text": [
      "Confusion matrix:\n",
      " [[ 4976    24]\n",
      " [   15 82117]]\n"
     ]
    }
   ],
   "source": [
    "cm = rl.confusion_matrix(true_links, links, len(candidate_links))\n",
    "print(\"Confusion matrix:\\n\", cm)"
   ]
  },
  {
   "cell_type": "code",
   "execution_count": 37,
   "metadata": {},
   "outputs": [
    {
     "name": "stdout",
     "output_type": "stream",
     "text": [
      "fscore 0.9960964868381544\n",
      "recall 0.9952\n",
      "precision 0.9969945902624725\n"
     ]
    }
   ],
   "source": [
    "# compute the F-score for this classification\n",
    "fscore = rl.fscore(cm)\n",
    "print('fscore', fscore)\n",
    "recall = rl.recall(true_links, links)\n",
    "print('recall', recall)\n",
    "precision = rl.precision(true_links, links)\n",
    "print('precision', precision)"
   ]
  },
  {
   "cell_type": "code",
   "execution_count": 38,
   "metadata": {},
   "outputs": [
    {
     "name": "stdout",
     "output_type": "stream",
     "text": [
      "INFO:recordlinkage:Classification - compute probabilities\n"
     ]
    },
    {
     "name": "stderr",
     "output_type": "stream",
     "text": [
      "INFO:recordlinkage:Classification - compute probabilities\n"
     ]
    },
    {
     "name": "stdout",
     "output_type": "stream",
     "text": [
      "rec_id_1     rec_id_2      \n",
      "rec-0-org    rec-0-dup-0       1.000000e+00\n",
      "             rec-1505-dup-0    2.464947e-07\n",
      "             rec-1636-dup-0    2.464947e-07\n",
      "             rec-2074-dup-0    1.390442e-05\n",
      "             rec-2683-dup-0    2.464947e-07\n",
      "                                   ...     \n",
      "rec-999-org  rec-3940-dup-0    2.464947e-07\n",
      "             rec-4941-dup-0    2.464947e-07\n",
      "             rec-859-dup-0     2.464947e-07\n",
      "             rec-911-dup-0     1.390442e-05\n",
      "             rec-999-dup-0     1.000000e+00\n",
      "Length: 87132, dtype: float64\n"
     ]
    }
   ],
   "source": [
    "# Predict the match probability for each pair in the dataset.\n",
    "probs = cl.prob(features)\n",
    "print(probs)"
   ]
  },
  {
   "cell_type": "code",
   "execution_count": null,
   "metadata": {},
   "outputs": [],
   "source": []
  }
 ],
 "metadata": {
  "kernelspec": {
   "display_name": "Python 3",
   "language": "python",
   "name": "python3"
  },
  "language_info": {
   "codemirror_mode": {
    "name": "ipython",
    "version": 3
   },
   "file_extension": ".py",
   "mimetype": "text/x-python",
   "name": "python",
   "nbconvert_exporter": "python",
   "pygments_lexer": "ipython3",
   "version": "3.7.4"
  }
 },
 "nbformat": 4,
 "nbformat_minor": 2
}
